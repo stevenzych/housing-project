{
 "cells": [
  {
   "cell_type": "markdown",
   "metadata": {},
   "source": [
    "# Introduction"
   ]
  },
  {
   "cell_type": "markdown",
   "metadata": {},
   "source": [
    "This notebook iterates through multilinear regression models, using the data from `cleaned_kc.csv`. Models are compared to the baseline R-squared value from the `eda_and_cleaning.ipynb` notebook, which was **0.692.**"
   ]
  },
  {
   "cell_type": "markdown",
   "metadata": {},
   "source": [
    "## Importing Data"
   ]
  },
  {
   "cell_type": "code",
   "execution_count": 1,
   "metadata": {},
   "outputs": [],
   "source": [
    "import pandas as pd\n",
    "import numpy as np\n",
    "import matplotlib.pyplot as plt\n",
    "%matplotlib inline\n",
    "import seaborn as sns\n",
    "import warnings\n",
    "warnings.filterwarnings(\"ignore\")\n",
    "import datetime  as dt\n",
    "import statsmodels.api as sm\n",
    "import statsmodels.formula.api as smf\n",
    "from sklearn.model_selection import train_test_split\n",
    "from sklearn.linear_model import LinearRegression\n",
    "from sklearn.model_selection import cross_val_predict"
   ]
  },
  {
   "cell_type": "code",
   "execution_count": 2,
   "metadata": {},
   "outputs": [],
   "source": [
    "df = pd.read_csv('data/cleaned_kc.csv')"
   ]
  },
  {
   "cell_type": "code",
   "execution_count": 3,
   "metadata": {},
   "outputs": [],
   "source": [
    "df.drop('Unnamed: 0', axis=1, inplace=True)"
   ]
  },
  {
   "cell_type": "code",
   "execution_count": 4,
   "metadata": {},
   "outputs": [
    {
     "data": {
      "text/html": [
       "<div>\n",
       "<style scoped>\n",
       "    .dataframe tbody tr th:only-of-type {\n",
       "        vertical-align: middle;\n",
       "    }\n",
       "\n",
       "    .dataframe tbody tr th {\n",
       "        vertical-align: top;\n",
       "    }\n",
       "\n",
       "    .dataframe thead th {\n",
       "        text-align: right;\n",
       "    }\n",
       "</style>\n",
       "<table border=\"1\" class=\"dataframe\">\n",
       "  <thead>\n",
       "    <tr style=\"text-align: right;\">\n",
       "      <th></th>\n",
       "      <th>id</th>\n",
       "      <th>price</th>\n",
       "      <th>bedrooms</th>\n",
       "      <th>bathrooms</th>\n",
       "      <th>sqft_living</th>\n",
       "      <th>sqft_lot</th>\n",
       "      <th>floors</th>\n",
       "      <th>waterfront</th>\n",
       "      <th>condition</th>\n",
       "      <th>grade</th>\n",
       "      <th>sqft_basement</th>\n",
       "      <th>yr_built</th>\n",
       "      <th>renovated</th>\n",
       "      <th>zipcode</th>\n",
       "      <th>lat</th>\n",
       "      <th>long</th>\n",
       "      <th>sqft_living15</th>\n",
       "      <th>sqft_lot15</th>\n",
       "      <th>day_of_year</th>\n",
       "    </tr>\n",
       "  </thead>\n",
       "  <tbody>\n",
       "    <tr>\n",
       "      <td>0</td>\n",
       "      <td>7129300520</td>\n",
       "      <td>221900.0</td>\n",
       "      <td>3</td>\n",
       "      <td>1.00</td>\n",
       "      <td>1180</td>\n",
       "      <td>5650</td>\n",
       "      <td>1.0</td>\n",
       "      <td>0.0</td>\n",
       "      <td>3</td>\n",
       "      <td>7</td>\n",
       "      <td>0.0</td>\n",
       "      <td>1955</td>\n",
       "      <td>0.0</td>\n",
       "      <td>98178</td>\n",
       "      <td>47.5112</td>\n",
       "      <td>-122.257</td>\n",
       "      <td>1340</td>\n",
       "      <td>5650</td>\n",
       "      <td>286</td>\n",
       "    </tr>\n",
       "    <tr>\n",
       "      <td>1</td>\n",
       "      <td>6414100192</td>\n",
       "      <td>538000.0</td>\n",
       "      <td>3</td>\n",
       "      <td>2.25</td>\n",
       "      <td>2570</td>\n",
       "      <td>7242</td>\n",
       "      <td>2.0</td>\n",
       "      <td>0.0</td>\n",
       "      <td>3</td>\n",
       "      <td>7</td>\n",
       "      <td>400.0</td>\n",
       "      <td>1951</td>\n",
       "      <td>1.0</td>\n",
       "      <td>98125</td>\n",
       "      <td>47.7210</td>\n",
       "      <td>-122.319</td>\n",
       "      <td>1690</td>\n",
       "      <td>7639</td>\n",
       "      <td>343</td>\n",
       "    </tr>\n",
       "    <tr>\n",
       "      <td>2</td>\n",
       "      <td>5631500400</td>\n",
       "      <td>180000.0</td>\n",
       "      <td>2</td>\n",
       "      <td>1.00</td>\n",
       "      <td>770</td>\n",
       "      <td>10000</td>\n",
       "      <td>1.0</td>\n",
       "      <td>0.0</td>\n",
       "      <td>3</td>\n",
       "      <td>6</td>\n",
       "      <td>0.0</td>\n",
       "      <td>1933</td>\n",
       "      <td>0.0</td>\n",
       "      <td>98028</td>\n",
       "      <td>47.7379</td>\n",
       "      <td>-122.233</td>\n",
       "      <td>2720</td>\n",
       "      <td>8062</td>\n",
       "      <td>56</td>\n",
       "    </tr>\n",
       "    <tr>\n",
       "      <td>3</td>\n",
       "      <td>2487200875</td>\n",
       "      <td>604000.0</td>\n",
       "      <td>4</td>\n",
       "      <td>3.00</td>\n",
       "      <td>1960</td>\n",
       "      <td>5000</td>\n",
       "      <td>1.0</td>\n",
       "      <td>0.0</td>\n",
       "      <td>5</td>\n",
       "      <td>7</td>\n",
       "      <td>910.0</td>\n",
       "      <td>1965</td>\n",
       "      <td>0.0</td>\n",
       "      <td>98136</td>\n",
       "      <td>47.5208</td>\n",
       "      <td>-122.393</td>\n",
       "      <td>1360</td>\n",
       "      <td>5000</td>\n",
       "      <td>343</td>\n",
       "    </tr>\n",
       "    <tr>\n",
       "      <td>4</td>\n",
       "      <td>1954400510</td>\n",
       "      <td>510000.0</td>\n",
       "      <td>3</td>\n",
       "      <td>2.00</td>\n",
       "      <td>1680</td>\n",
       "      <td>8080</td>\n",
       "      <td>1.0</td>\n",
       "      <td>0.0</td>\n",
       "      <td>3</td>\n",
       "      <td>8</td>\n",
       "      <td>0.0</td>\n",
       "      <td>1987</td>\n",
       "      <td>0.0</td>\n",
       "      <td>98074</td>\n",
       "      <td>47.6168</td>\n",
       "      <td>-122.045</td>\n",
       "      <td>1800</td>\n",
       "      <td>7503</td>\n",
       "      <td>49</td>\n",
       "    </tr>\n",
       "  </tbody>\n",
       "</table>\n",
       "</div>"
      ],
      "text/plain": [
       "           id     price  bedrooms  bathrooms  sqft_living  sqft_lot  floors  \\\n",
       "0  7129300520  221900.0         3       1.00         1180      5650     1.0   \n",
       "1  6414100192  538000.0         3       2.25         2570      7242     2.0   \n",
       "2  5631500400  180000.0         2       1.00          770     10000     1.0   \n",
       "3  2487200875  604000.0         4       3.00         1960      5000     1.0   \n",
       "4  1954400510  510000.0         3       2.00         1680      8080     1.0   \n",
       "\n",
       "   waterfront  condition  grade  sqft_basement  yr_built  renovated  zipcode  \\\n",
       "0         0.0          3      7            0.0      1955        0.0    98178   \n",
       "1         0.0          3      7          400.0      1951        1.0    98125   \n",
       "2         0.0          3      6            0.0      1933        0.0    98028   \n",
       "3         0.0          5      7          910.0      1965        0.0    98136   \n",
       "4         0.0          3      8            0.0      1987        0.0    98074   \n",
       "\n",
       "       lat     long  sqft_living15  sqft_lot15  day_of_year  \n",
       "0  47.5112 -122.257           1340        5650          286  \n",
       "1  47.7210 -122.319           1690        7639          343  \n",
       "2  47.7379 -122.233           2720        8062           56  \n",
       "3  47.5208 -122.393           1360        5000          343  \n",
       "4  47.6168 -122.045           1800        7503           49  "
      ]
     },
     "execution_count": 4,
     "metadata": {},
     "output_type": "execute_result"
    }
   ],
   "source": [
    "df.head()"
   ]
  },
  {
   "cell_type": "markdown",
   "metadata": {},
   "source": [
    "# Model 1: Baseline Model\n",
    "\n",
    "The baseline model is reprinted below for reference:"
   ]
  },
  {
   "cell_type": "code",
   "execution_count": 5,
   "metadata": {
    "scrolled": true
   },
   "outputs": [
    {
     "data": {
      "text/html": [
       "<table class=\"simpletable\">\n",
       "<caption>OLS Regression Results</caption>\n",
       "<tr>\n",
       "  <th>Dep. Variable:</th>          <td>price</td>      <th>  R-squared:         </th>  <td>   0.692</td>  \n",
       "</tr>\n",
       "<tr>\n",
       "  <th>Model:</th>                   <td>OLS</td>       <th>  Adj. R-squared:    </th>  <td>   0.692</td>  \n",
       "</tr>\n",
       "<tr>\n",
       "  <th>Method:</th>             <td>Least Squares</td>  <th>  F-statistic:       </th>  <td>   2831.</td>  \n",
       "</tr>\n",
       "<tr>\n",
       "  <th>Date:</th>             <td>Fri, 17 Jul 2020</td> <th>  Prob (F-statistic):</th>   <td>  0.00</td>   \n",
       "</tr>\n",
       "<tr>\n",
       "  <th>Time:</th>                 <td>11:23:34</td>     <th>  Log-Likelihood:    </th> <td>-2.9228e+05</td>\n",
       "</tr>\n",
       "<tr>\n",
       "  <th>No. Observations:</th>      <td> 21420</td>      <th>  AIC:               </th>  <td>5.846e+05</td> \n",
       "</tr>\n",
       "<tr>\n",
       "  <th>Df Residuals:</th>          <td> 21402</td>      <th>  BIC:               </th>  <td>5.847e+05</td> \n",
       "</tr>\n",
       "<tr>\n",
       "  <th>Df Model:</th>              <td>    17</td>      <th>                     </th>      <td> </td>     \n",
       "</tr>\n",
       "<tr>\n",
       "  <th>Covariance Type:</th>      <td>nonrobust</td>    <th>                     </th>      <td> </td>     \n",
       "</tr>\n",
       "</table>\n",
       "<table class=\"simpletable\">\n",
       "<tr>\n",
       "        <td></td>           <th>coef</th>     <th>std err</th>      <th>t</th>      <th>P>|t|</th>  <th>[0.025</th>    <th>0.975]</th>  \n",
       "</tr>\n",
       "<tr>\n",
       "  <th>id</th>            <td>-1.072e-06</td> <td> 4.91e-07</td> <td>   -2.182</td> <td> 0.029</td> <td>-2.04e-06</td> <td>-1.09e-07</td>\n",
       "</tr>\n",
       "<tr>\n",
       "  <th>bedrooms</th>      <td>-4.005e+04</td> <td> 1929.391</td> <td>  -20.757</td> <td> 0.000</td> <td>-4.38e+04</td> <td>-3.63e+04</td>\n",
       "</tr>\n",
       "<tr>\n",
       "  <th>bathrooms</th>     <td> 4.342e+04</td> <td> 3320.701</td> <td>   13.076</td> <td> 0.000</td> <td> 3.69e+04</td> <td> 4.99e+04</td>\n",
       "</tr>\n",
       "<tr>\n",
       "  <th>sqft_living</th>   <td>  178.3476</td> <td>    3.718</td> <td>   47.963</td> <td> 0.000</td> <td>  171.059</td> <td>  185.636</td>\n",
       "</tr>\n",
       "<tr>\n",
       "  <th>sqft_lot</th>      <td>    0.1617</td> <td>    0.049</td> <td>    3.324</td> <td> 0.001</td> <td>    0.066</td> <td>    0.257</td>\n",
       "</tr>\n",
       "<tr>\n",
       "  <th>floors</th>        <td> 1.129e+04</td> <td> 3585.706</td> <td>    3.148</td> <td> 0.002</td> <td> 4258.823</td> <td> 1.83e+04</td>\n",
       "</tr>\n",
       "<tr>\n",
       "  <th>waterfront</th>    <td> 7.798e+05</td> <td> 1.72e+04</td> <td>   45.314</td> <td> 0.000</td> <td> 7.46e+05</td> <td> 8.14e+05</td>\n",
       "</tr>\n",
       "<tr>\n",
       "  <th>condition</th>     <td> 2.828e+04</td> <td> 2369.107</td> <td>   11.938</td> <td> 0.000</td> <td> 2.36e+04</td> <td> 3.29e+04</td>\n",
       "</tr>\n",
       "<tr>\n",
       "  <th>grade</th>         <td>  1.02e+05</td> <td> 2184.397</td> <td>   46.691</td> <td> 0.000</td> <td> 9.77e+04</td> <td> 1.06e+05</td>\n",
       "</tr>\n",
       "<tr>\n",
       "  <th>sqft_basement</th> <td>   -9.8393</td> <td>    4.292</td> <td>   -2.293</td> <td> 0.022</td> <td>  -18.252</td> <td>   -1.427</td>\n",
       "</tr>\n",
       "<tr>\n",
       "  <th>yr_built</th>      <td>-2792.8368</td> <td>   68.036</td> <td>  -41.050</td> <td> 0.000</td> <td>-2926.192</td> <td>-2659.482</td>\n",
       "</tr>\n",
       "<tr>\n",
       "  <th>renovated</th>     <td>   5.3e+04</td> <td> 8064.967</td> <td>    6.572</td> <td> 0.000</td> <td> 3.72e+04</td> <td> 6.88e+04</td>\n",
       "</tr>\n",
       "<tr>\n",
       "  <th>zipcode</th>       <td> -516.6543</td> <td>   18.190</td> <td>  -28.403</td> <td> 0.000</td> <td> -552.309</td> <td> -481.000</td>\n",
       "</tr>\n",
       "<tr>\n",
       "  <th>lat</th>           <td> 5.762e+05</td> <td> 1.09e+04</td> <td>   52.931</td> <td> 0.000</td> <td> 5.55e+05</td> <td> 5.98e+05</td>\n",
       "</tr>\n",
       "<tr>\n",
       "  <th>long</th>          <td>-2.294e+05</td> <td> 1.33e+04</td> <td>  -17.215</td> <td> 0.000</td> <td>-2.56e+05</td> <td>-2.03e+05</td>\n",
       "</tr>\n",
       "<tr>\n",
       "  <th>sqft_living15</th> <td>   34.9729</td> <td>    3.414</td> <td>   10.243</td> <td> 0.000</td> <td>   28.280</td> <td>   41.665</td>\n",
       "</tr>\n",
       "<tr>\n",
       "  <th>sqft_lot15</th>    <td>   -0.3849</td> <td>    0.075</td> <td>   -5.158</td> <td> 0.000</td> <td>   -0.531</td> <td>   -0.239</td>\n",
       "</tr>\n",
       "<tr>\n",
       "  <th>day_of_year</th>   <td> -105.4953</td> <td>   14.773</td> <td>   -7.141</td> <td> 0.000</td> <td> -134.451</td> <td>  -76.540</td>\n",
       "</tr>\n",
       "</table>\n",
       "<table class=\"simpletable\">\n",
       "<tr>\n",
       "  <th>Omnibus:</th>       <td>18079.317</td> <th>  Durbin-Watson:     </th>  <td>   1.992</td>  \n",
       "</tr>\n",
       "<tr>\n",
       "  <th>Prob(Omnibus):</th>  <td> 0.000</td>   <th>  Jarque-Bera (JB):  </th> <td>1726653.156</td>\n",
       "</tr>\n",
       "<tr>\n",
       "  <th>Skew:</th>           <td> 3.541</td>   <th>  Prob(JB):          </th>  <td>    0.00</td>  \n",
       "</tr>\n",
       "<tr>\n",
       "  <th>Kurtosis:</th>       <td>46.410</td>   <th>  Cond. No.          </th>  <td>6.68e+10</td>  \n",
       "</tr>\n",
       "</table><br/><br/>Warnings:<br/>[1] Standard Errors assume that the covariance matrix of the errors is correctly specified.<br/>[2] The condition number is large, 6.68e+10. This might indicate that there are<br/>strong multicollinearity or other numerical problems."
      ],
      "text/plain": [
       "<class 'statsmodels.iolib.summary.Summary'>\n",
       "\"\"\"\n",
       "                            OLS Regression Results                            \n",
       "==============================================================================\n",
       "Dep. Variable:                  price   R-squared:                       0.692\n",
       "Model:                            OLS   Adj. R-squared:                  0.692\n",
       "Method:                 Least Squares   F-statistic:                     2831.\n",
       "Date:                Fri, 17 Jul 2020   Prob (F-statistic):               0.00\n",
       "Time:                        11:23:34   Log-Likelihood:            -2.9228e+05\n",
       "No. Observations:               21420   AIC:                         5.846e+05\n",
       "Df Residuals:                   21402   BIC:                         5.847e+05\n",
       "Df Model:                          17                                         \n",
       "Covariance Type:            nonrobust                                         \n",
       "=================================================================================\n",
       "                    coef    std err          t      P>|t|      [0.025      0.975]\n",
       "---------------------------------------------------------------------------------\n",
       "id            -1.072e-06   4.91e-07     -2.182      0.029   -2.04e-06   -1.09e-07\n",
       "bedrooms      -4.005e+04   1929.391    -20.757      0.000   -4.38e+04   -3.63e+04\n",
       "bathrooms      4.342e+04   3320.701     13.076      0.000    3.69e+04    4.99e+04\n",
       "sqft_living     178.3476      3.718     47.963      0.000     171.059     185.636\n",
       "sqft_lot          0.1617      0.049      3.324      0.001       0.066       0.257\n",
       "floors         1.129e+04   3585.706      3.148      0.002    4258.823    1.83e+04\n",
       "waterfront     7.798e+05   1.72e+04     45.314      0.000    7.46e+05    8.14e+05\n",
       "condition      2.828e+04   2369.107     11.938      0.000    2.36e+04    3.29e+04\n",
       "grade           1.02e+05   2184.397     46.691      0.000    9.77e+04    1.06e+05\n",
       "sqft_basement    -9.8393      4.292     -2.293      0.022     -18.252      -1.427\n",
       "yr_built      -2792.8368     68.036    -41.050      0.000   -2926.192   -2659.482\n",
       "renovated        5.3e+04   8064.967      6.572      0.000    3.72e+04    6.88e+04\n",
       "zipcode        -516.6543     18.190    -28.403      0.000    -552.309    -481.000\n",
       "lat            5.762e+05   1.09e+04     52.931      0.000    5.55e+05    5.98e+05\n",
       "long          -2.294e+05   1.33e+04    -17.215      0.000   -2.56e+05   -2.03e+05\n",
       "sqft_living15    34.9729      3.414     10.243      0.000      28.280      41.665\n",
       "sqft_lot15       -0.3849      0.075     -5.158      0.000      -0.531      -0.239\n",
       "day_of_year    -105.4953     14.773     -7.141      0.000    -134.451     -76.540\n",
       "==============================================================================\n",
       "Omnibus:                    18079.317   Durbin-Watson:                   1.992\n",
       "Prob(Omnibus):                  0.000   Jarque-Bera (JB):          1726653.156\n",
       "Skew:                           3.541   Prob(JB):                         0.00\n",
       "Kurtosis:                      46.410   Cond. No.                     6.68e+10\n",
       "==============================================================================\n",
       "\n",
       "Warnings:\n",
       "[1] Standard Errors assume that the covariance matrix of the errors is correctly specified.\n",
       "[2] The condition number is large, 6.68e+10. This might indicate that there are\n",
       "strong multicollinearity or other numerical problems.\n",
       "\"\"\""
      ]
     },
     "execution_count": 5,
     "metadata": {},
     "output_type": "execute_result"
    }
   ],
   "source": [
    "price = df.price\n",
    "indep = df.drop('price', axis = 1)\n",
    "\n",
    "model = sm.OLS(price, indep).fit()\n",
    "model.summary()"
   ]
  },
  {
   "cell_type": "markdown",
   "metadata": {},
   "source": [
    "# Model 2: Mean Normalization of Continuous Variables\n",
    "\n",
    "## Continuous Variables\n",
    "\n",
    "It's time to separate categorical and continuous values. Most are fairly obvious in this dataset. As a general rule, \"If the variable's numeric value makes sense intuitively, or is not 0-1 choice, it's a continuous variable.\" A value of 50,000 `price`, 3 `bathrooms`, or 320 `day_of_year` all make sense without explanation."
   ]
  },
  {
   "cell_type": "code",
   "execution_count": 6,
   "metadata": {
    "scrolled": true
   },
   "outputs": [
    {
     "data": {
      "text/plain": [
       "Index(['id', 'price', 'bedrooms', 'bathrooms', 'sqft_living', 'sqft_lot',\n",
       "       'floors', 'waterfront', 'condition', 'grade', 'sqft_basement',\n",
       "       'yr_built', 'renovated', 'zipcode', 'lat', 'long', 'sqft_living15',\n",
       "       'sqft_lot15', 'day_of_year'],\n",
       "      dtype='object')"
      ]
     },
     "execution_count": 6,
     "metadata": {},
     "output_type": "execute_result"
    }
   ],
   "source": [
    "df.columns"
   ]
  },
  {
   "cell_type": "markdown",
   "metadata": {},
   "source": [
    "Naturally, then, these are the continuous variables:"
   ]
  },
  {
   "cell_type": "code",
   "execution_count": 7,
   "metadata": {},
   "outputs": [],
   "source": [
    "cont = ['price', 'bedrooms', 'bathrooms', 'sqft_living', 'sqft_lot',\n",
    "       'floors', 'sqft_basement', 'yr_built', 'lat', 'long',\n",
    "       'sqft_living15', 'sqft_lot15', 'day_of_year']"
   ]
  },
  {
   "cell_type": "markdown",
   "metadata": {},
   "source": [
    "Next, let's look at the distributions of these continuous variables and determine which need to be normalized and/or log transformed:"
   ]
  },
  {
   "cell_type": "code",
   "execution_count": 8,
   "metadata": {
    "scrolled": true
   },
   "outputs": [
    {
     "data": {
      "image/png": "[encoded data removed]",
      "text/plain": [
       "<Figure size 432x288 with 1 Axes>"
      ]
     },
     "metadata": {
      "needs_background": "light"
     },
     "output_type": "display_data"
    },
    {
     "data": {
      "image/png": "[encoded data removed]",
      "text/plain": [
       "<Figure size 432x288 with 1 Axes>"
      ]
     },
     "metadata": {
      "needs_background": "light"
     },
     "output_type": "display_data"
    },
    {
     "data": {
      "image/png": "[encoded data removed]",
      "text/plain": [
       "<Figure size 432x288 with 1 Axes>"
      ]
     },
     "metadata": {
      "needs_background": "light"
     },
     "output_type": "display_data"
    },
    {
     "data": {
      "image/png": "[encoded data removed]",
      "text/plain": [
       "<Figure size 432x288 with 1 Axes>"
      ]
     },
     "metadata": {
      "needs_background": "light"
     },
     "output_type": "display_data"
    },
    {
     "data": {
      "image/png": "[encoded data removed]",
      "text/plain": [
       "<Figure size 432x288 with 1 Axes>"
      ]
     },
     "metadata": {
      "needs_background": "light"
     },
     "output_type": "display_data"
    },
    {
     "data": {
      "image/png": "[encoded data removed]",
      "text/plain": [
       "<Figure size 432x288 with 1 Axes>"
      ]
     },
     "metadata": {
      "needs_background": "light"
     },
     "output_type": "display_data"
    },
    {
     "data": {
      "image/png": "[encoded data removed]",
      "text/plain": [
       "<Figure size 432x288 with 1 Axes>"
      ]
     },
     "metadata": {
      "needs_background": "light"
     },
     "output_type": "display_data"
    },
    {
     "data": {
      "image/png": "[encoded data removed]",
      "text/plain": [
       "<Figure size 432x288 with 1 Axes>"
      ]
     },
     "metadata": {
      "needs_background": "light"
     },
     "output_type": "display_data"
    },
    {
     "data": {
      "image/png": "[encoded data removed]",
      "text/plain": [
       "<Figure size 432x288 with 1 Axes>"
      ]
     },
     "metadata": {
      "needs_background": "light"
     },
     "output_type": "display_data"
    },
    {
     "data": {
      "image/png": "[encoded data removed]",
      "text/plain": [
       "<Figure size 432x288 with 1 Axes>"
      ]
     },
     "metadata": {
      "needs_background": "light"
     },
     "output_type": "display_data"
    },
    {
     "data": {
      "image/png": "[encoded data removed]",
      "text/plain": [
       "<Figure size 432x288 with 1 Axes>"
      ]
     },
     "metadata": {
      "needs_background": "light"
     },
     "output_type": "display_data"
    },
    {
     "data": {
      "image/png": "[encoded data removed]",
      "text/plain": [
       "<Figure size 432x288 with 1 Axes>"
      ]
     },
     "metadata": {
      "needs_background": "light"
     },
     "output_type": "display_data"
    },
    {
     "data": {
      "image/png": "[encoded data removed]",
      "text/plain": [
       "<Figure size 432x288 with 1 Axes>"
      ]
     },
     "metadata": {
      "needs_background": "light"
     },
     "output_type": "display_data"
    }
   ],
   "source": [
    "for col in df[cont].columns:\n",
    "    plt.hist(df[col], bins='auto')\n",
    "    plt.title(f'{col} distribution')\n",
    "    plt.show()"
   ]
  },
  {
   "cell_type": "markdown",
   "metadata": {},
   "source": [
    "A few observations:\n",
    "1. Some of these columns have extreme outlier-related skews, such as `price` and `sqft_basement`.\n",
    "1. The column `sqft_basement`, while continuous, should be changed to a binary column because of how many zero values there are. It makes more sense to present this as \"Has or doesn't have basement\" as opposed to \"Size of basement, with zero being a possible size.\"\n",
    "1. Only 3 of these columns (`price`, `sqft_living15`, and `sqft_living`) have distributions that are close to normal.\n",
    "\n",
    "The `sqft_basement` column will be changed, and the remaining columns now will be normalized:"
   ]
  },
  {
   "cell_type": "code",
   "execution_count": 9,
   "metadata": {},
   "outputs": [],
   "source": [
    "# Make a copy to do changes on\n",
    "df2 = df.copy()"
   ]
  },
  {
   "cell_type": "code",
   "execution_count": 10,
   "metadata": {},
   "outputs": [
    {
     "data": {
      "text/plain": [
       "array([0., 1.])"
      ]
     },
     "execution_count": 10,
     "metadata": {},
     "output_type": "execute_result"
    }
   ],
   "source": [
    "df2.loc[(df2.sqft_basement > 0), 'sqft_basement'] = 1\n",
    "df2.rename({'sqft_basement' : 'has_basement'}, axis=1, inplace=True)\n",
    "df2.has_basement.unique()"
   ]
  },
  {
   "cell_type": "code",
   "execution_count": 11,
   "metadata": {},
   "outputs": [],
   "source": [
    "cont.remove(\"sqft_basement\")"
   ]
  },
  {
   "cell_type": "code",
   "execution_count": 12,
   "metadata": {},
   "outputs": [],
   "source": [
    "already_norm = [\"price\", \"sqft_living15\", \"sqft_living\"]\n",
    "cont_to_norm = [x for x in cont if x not in already_norm]"
   ]
  },
  {
   "cell_type": "code",
   "execution_count": 13,
   "metadata": {},
   "outputs": [],
   "source": [
    "for col in df2[cont_to_norm].columns:\n",
    "    df2[col] = (df2[col] - np.mean(df2[col])) / (max(df2[col]) - min(df2[col]))\n",
    "    df2.rename({f'{col}' : f'{col}_norm'}, axis=1, inplace=True)"
   ]
  },
  {
   "cell_type": "code",
   "execution_count": 14,
   "metadata": {
    "scrolled": false
   },
   "outputs": [
    {
     "data": {
      "text/html": [
       "<div>\n",
       "<style scoped>\n",
       "    .dataframe tbody tr th:only-of-type {\n",
       "        vertical-align: middle;\n",
       "    }\n",
       "\n",
       "    .dataframe tbody tr th {\n",
       "        vertical-align: top;\n",
       "    }\n",
       "\n",
       "    .dataframe thead th {\n",
       "        text-align: right;\n",
       "    }\n",
       "</style>\n",
       "<table border=\"1\" class=\"dataframe\">\n",
       "  <thead>\n",
       "    <tr style=\"text-align: right;\">\n",
       "      <th></th>\n",
       "      <th>id</th>\n",
       "      <th>price</th>\n",
       "      <th>bedrooms_norm</th>\n",
       "      <th>bathrooms_norm</th>\n",
       "      <th>sqft_living</th>\n",
       "      <th>sqft_lot_norm</th>\n",
       "      <th>floors_norm</th>\n",
       "      <th>waterfront</th>\n",
       "      <th>condition</th>\n",
       "      <th>grade</th>\n",
       "      <th>has_basement</th>\n",
       "      <th>yr_built_norm</th>\n",
       "      <th>renovated</th>\n",
       "      <th>zipcode</th>\n",
       "      <th>lat_norm</th>\n",
       "      <th>long_norm</th>\n",
       "      <th>sqft_living15</th>\n",
       "      <th>sqft_lot15_norm</th>\n",
       "      <th>day_of_year_norm</th>\n",
       "    </tr>\n",
       "  </thead>\n",
       "  <tbody>\n",
       "    <tr>\n",
       "      <td>count</td>\n",
       "      <td>2.142000e+04</td>\n",
       "      <td>2.142000e+04</td>\n",
       "      <td>2.142000e+04</td>\n",
       "      <td>2.142000e+04</td>\n",
       "      <td>21420.000000</td>\n",
       "      <td>2.142000e+04</td>\n",
       "      <td>2.142000e+04</td>\n",
       "      <td>21420.000000</td>\n",
       "      <td>21420.000000</td>\n",
       "      <td>21420.000000</td>\n",
       "      <td>21420.000000</td>\n",
       "      <td>2.142000e+04</td>\n",
       "      <td>21420.000000</td>\n",
       "      <td>21420.00000</td>\n",
       "      <td>2.142000e+04</td>\n",
       "      <td>2.142000e+04</td>\n",
       "      <td>21420.000000</td>\n",
       "      <td>2.142000e+04</td>\n",
       "      <td>2.142000e+04</td>\n",
       "    </tr>\n",
       "    <tr>\n",
       "      <td>mean</td>\n",
       "      <td>4.580940e+09</td>\n",
       "      <td>5.407393e+05</td>\n",
       "      <td>-1.015890e-18</td>\n",
       "      <td>2.587411e-17</td>\n",
       "      <td>2083.132633</td>\n",
       "      <td>2.073246e-19</td>\n",
       "      <td>-1.326877e-17</td>\n",
       "      <td>0.006816</td>\n",
       "      <td>3.410784</td>\n",
       "      <td>7.662792</td>\n",
       "      <td>0.385201</td>\n",
       "      <td>-6.793611e-16</td>\n",
       "      <td>0.034547</td>\n",
       "      <td>98077.87437</td>\n",
       "      <td>3.162446e-15</td>\n",
       "      <td>-2.773837e-15</td>\n",
       "      <td>1988.384080</td>\n",
       "      <td>-6.634386e-19</td>\n",
       "      <td>2.172761e-17</td>\n",
       "    </tr>\n",
       "    <tr>\n",
       "      <td>std</td>\n",
       "      <td>2.876761e+09</td>\n",
       "      <td>3.679311e+05</td>\n",
       "      <td>2.891889e-02</td>\n",
       "      <td>1.024960e-01</td>\n",
       "      <td>918.808412</td>\n",
       "      <td>2.515739e-02</td>\n",
       "      <td>2.160324e-01</td>\n",
       "      <td>0.082280</td>\n",
       "      <td>0.650035</td>\n",
       "      <td>1.171971</td>\n",
       "      <td>0.486654</td>\n",
       "      <td>2.555404e-01</td>\n",
       "      <td>0.182634</td>\n",
       "      <td>53.47748</td>\n",
       "      <td>2.229199e-01</td>\n",
       "      <td>1.169357e-01</td>\n",
       "      <td>685.537057</td>\n",
       "      <td>3.141193e-02</td>\n",
       "      <td>2.604056e-01</td>\n",
       "    </tr>\n",
       "    <tr>\n",
       "      <td>min</td>\n",
       "      <td>1.000102e+06</td>\n",
       "      <td>7.800000e+04</td>\n",
       "      <td>-7.418592e-02</td>\n",
       "      <td>-2.157905e-01</td>\n",
       "      <td>370.000000</td>\n",
       "      <td>-8.848857e-03</td>\n",
       "      <td>-1.983940e-01</td>\n",
       "      <td>0.000000</td>\n",
       "      <td>1.000000</td>\n",
       "      <td>3.000000</td>\n",
       "      <td>0.000000</td>\n",
       "      <td>-6.182000e-01</td>\n",
       "      <td>0.000000</td>\n",
       "      <td>98001.00000</td>\n",
       "      <td>-6.503093e-01</td>\n",
       "      <td>-2.535019e-01</td>\n",
       "      <td>399.000000</td>\n",
       "      <td>-1.392767e-02</td>\n",
       "      <td>-5.035612e-01</td>\n",
       "    </tr>\n",
       "    <tr>\n",
       "      <td>25%</td>\n",
       "      <td>2.123537e+09</td>\n",
       "      <td>3.225000e+05</td>\n",
       "      <td>-1.168592e-02</td>\n",
       "      <td>-4.912387e-02</td>\n",
       "      <td>1430.000000</td>\n",
       "      <td>-6.110855e-03</td>\n",
       "      <td>-1.983940e-01</td>\n",
       "      <td>0.000000</td>\n",
       "      <td>3.000000</td>\n",
       "      <td>7.000000</td>\n",
       "      <td>0.000000</td>\n",
       "      <td>-1.660261e-01</td>\n",
       "      <td>0.000000</td>\n",
       "      <td>98033.00000</td>\n",
       "      <td>-1.431515e-01</td>\n",
       "      <td>-9.486407e-02</td>\n",
       "      <td>1490.000000</td>\n",
       "      <td>-8.817101e-03</td>\n",
       "      <td>-2.032857e-01</td>\n",
       "    </tr>\n",
       "    <tr>\n",
       "      <td>50%</td>\n",
       "      <td>3.904921e+09</td>\n",
       "      <td>4.500000e+05</td>\n",
       "      <td>-1.168592e-02</td>\n",
       "      <td>1.754279e-02</td>\n",
       "      <td>1920.000000</td>\n",
       "      <td>-4.551648e-03</td>\n",
       "      <td>1.605976e-03</td>\n",
       "      <td>0.000000</td>\n",
       "      <td>3.000000</td>\n",
       "      <td>7.000000</td>\n",
       "      <td>0.000000</td>\n",
       "      <td>3.397394e-02</td>\n",
       "      <td>0.000000</td>\n",
       "      <td>98065.00000</td>\n",
       "      <td>1.914541e-02</td>\n",
       "      <td>-1.346872e-02</td>\n",
       "      <td>1840.000000</td>\n",
       "      <td>-5.922376e-03</td>\n",
       "      <td>-1.044826e-02</td>\n",
       "    </tr>\n",
       "    <tr>\n",
       "      <td>75%</td>\n",
       "      <td>7.308900e+09</td>\n",
       "      <td>6.450000e+05</td>\n",
       "      <td>1.956408e-02</td>\n",
       "      <td>5.087613e-02</td>\n",
       "      <td>2550.000000</td>\n",
       "      <td>-2.688050e-03</td>\n",
       "      <td>2.016060e-01</td>\n",
       "      <td>0.000000</td>\n",
       "      <td>4.000000</td>\n",
       "      <td>8.000000</td>\n",
       "      <td>1.000000</td>\n",
       "      <td>2.252783e-01</td>\n",
       "      <td>0.000000</td>\n",
       "      <td>98117.00000</td>\n",
       "      <td>1.896457e-01</td>\n",
       "      <td>7.374058e-02</td>\n",
       "      <td>2370.000000</td>\n",
       "      <td>-3.089393e-03</td>\n",
       "      <td>2.126922e-01</td>\n",
       "    </tr>\n",
       "    <tr>\n",
       "      <td>max</td>\n",
       "      <td>9.900000e+09</td>\n",
       "      <td>7.700000e+06</td>\n",
       "      <td>9.258141e-01</td>\n",
       "      <td>7.842095e-01</td>\n",
       "      <td>13540.000000</td>\n",
       "      <td>9.911511e-01</td>\n",
       "      <td>8.016060e-01</td>\n",
       "      <td>1.000000</td>\n",
       "      <td>5.000000</td>\n",
       "      <td>13.000000</td>\n",
       "      <td>1.000000</td>\n",
       "      <td>3.818000e-01</td>\n",
       "      <td>1.000000</td>\n",
       "      <td>98199.00000</td>\n",
       "      <td>3.496907e-01</td>\n",
       "      <td>7.464981e-01</td>\n",
       "      <td>6210.000000</td>\n",
       "      <td>9.860723e-01</td>\n",
       "      <td>4.964388e-01</td>\n",
       "    </tr>\n",
       "  </tbody>\n",
       "</table>\n",
       "</div>"
      ],
      "text/plain": [
       "                 id         price  bedrooms_norm  bathrooms_norm  \\\n",
       "count  2.142000e+04  2.142000e+04   2.142000e+04    2.142000e+04   \n",
       "mean   4.580940e+09  5.407393e+05  -1.015890e-18    2.587411e-17   \n",
       "std    2.876761e+09  3.679311e+05   2.891889e-02    1.024960e-01   \n",
       "min    1.000102e+06  7.800000e+04  -7.418592e-02   -2.157905e-01   \n",
       "25%    2.123537e+09  3.225000e+05  -1.168592e-02   -4.912387e-02   \n",
       "50%    3.904921e+09  4.500000e+05  -1.168592e-02    1.754279e-02   \n",
       "75%    7.308900e+09  6.450000e+05   1.956408e-02    5.087613e-02   \n",
       "max    9.900000e+09  7.700000e+06   9.258141e-01    7.842095e-01   \n",
       "\n",
       "        sqft_living  sqft_lot_norm   floors_norm    waterfront     condition  \\\n",
       "count  21420.000000   2.142000e+04  2.142000e+04  21420.000000  21420.000000   \n",
       "mean    2083.132633   2.073246e-19 -1.326877e-17      0.006816      3.410784   \n",
       "std      918.808412   2.515739e-02  2.160324e-01      0.082280      0.650035   \n",
       "min      370.000000  -8.848857e-03 -1.983940e-01      0.000000      1.000000   \n",
       "25%     1430.000000  -6.110855e-03 -1.983940e-01      0.000000      3.000000   \n",
       "50%     1920.000000  -4.551648e-03  1.605976e-03      0.000000      3.000000   \n",
       "75%     2550.000000  -2.688050e-03  2.016060e-01      0.000000      4.000000   \n",
       "max    13540.000000   9.911511e-01  8.016060e-01      1.000000      5.000000   \n",
       "\n",
       "              grade  has_basement  yr_built_norm     renovated      zipcode  \\\n",
       "count  21420.000000  21420.000000   2.142000e+04  21420.000000  21420.00000   \n",
       "mean       7.662792      0.385201  -6.793611e-16      0.034547  98077.87437   \n",
       "std        1.171971      0.486654   2.555404e-01      0.182634     53.47748   \n",
       "min        3.000000      0.000000  -6.182000e-01      0.000000  98001.00000   \n",
       "25%        7.000000      0.000000  -1.660261e-01      0.000000  98033.00000   \n",
       "50%        7.000000      0.000000   3.397394e-02      0.000000  98065.00000   \n",
       "75%        8.000000      1.000000   2.252783e-01      0.000000  98117.00000   \n",
       "max       13.000000      1.000000   3.818000e-01      1.000000  98199.00000   \n",
       "\n",
       "           lat_norm     long_norm  sqft_living15  sqft_lot15_norm  \\\n",
       "count  2.142000e+04  2.142000e+04   21420.000000     2.142000e+04   \n",
       "mean   3.162446e-15 -2.773837e-15    1988.384080    -6.634386e-19   \n",
       "std    2.229199e-01  1.169357e-01     685.537057     3.141193e-02   \n",
       "min   -6.503093e-01 -2.535019e-01     399.000000    -1.392767e-02   \n",
       "25%   -1.431515e-01 -9.486407e-02    1490.000000    -8.817101e-03   \n",
       "50%    1.914541e-02 -1.346872e-02    1840.000000    -5.922376e-03   \n",
       "75%    1.896457e-01  7.374058e-02    2370.000000    -3.089393e-03   \n",
       "max    3.496907e-01  7.464981e-01    6210.000000     9.860723e-01   \n",
       "\n",
       "       day_of_year_norm  \n",
       "count      2.142000e+04  \n",
       "mean       2.172761e-17  \n",
       "std        2.604056e-01  \n",
       "min       -5.035612e-01  \n",
       "25%       -2.032857e-01  \n",
       "50%       -1.044826e-02  \n",
       "75%        2.126922e-01  \n",
       "max        4.964388e-01  "
      ]
     },
     "execution_count": 14,
     "metadata": {},
     "output_type": "execute_result"
    }
   ],
   "source": [
    "df2.describe()"
   ]
  },
  {
   "cell_type": "markdown",
   "metadata": {},
   "source": [
    "## Model 2A"
   ]
  },
  {
   "cell_type": "code",
   "execution_count": 15,
   "metadata": {
    "scrolled": true
   },
   "outputs": [
    {
     "data": {
      "text/html": [
       "<table class=\"simpletable\">\n",
       "<caption>OLS Regression Results</caption>\n",
       "<tr>\n",
       "  <th>Dep. Variable:</th>          <td>price</td>      <th>  R-squared:         </th>  <td>   0.689</td>  \n",
       "</tr>\n",
       "<tr>\n",
       "  <th>Model:</th>                   <td>OLS</td>       <th>  Adj. R-squared:    </th>  <td>   0.689</td>  \n",
       "</tr>\n",
       "<tr>\n",
       "  <th>Method:</th>             <td>Least Squares</td>  <th>  F-statistic:       </th>  <td>   2790.</td>  \n",
       "</tr>\n",
       "<tr>\n",
       "  <th>Date:</th>             <td>Fri, 17 Jul 2020</td> <th>  Prob (F-statistic):</th>   <td>  0.00</td>   \n",
       "</tr>\n",
       "<tr>\n",
       "  <th>Time:</th>                 <td>11:25:10</td>     <th>  Log-Likelihood:    </th> <td>-2.9239e+05</td>\n",
       "</tr>\n",
       "<tr>\n",
       "  <th>No. Observations:</th>      <td> 21420</td>      <th>  AIC:               </th>  <td>5.848e+05</td> \n",
       "</tr>\n",
       "<tr>\n",
       "  <th>Df Residuals:</th>          <td> 21402</td>      <th>  BIC:               </th>  <td>5.850e+05</td> \n",
       "</tr>\n",
       "<tr>\n",
       "  <th>Df Model:</th>              <td>    17</td>      <th>                     </th>      <td> </td>     \n",
       "</tr>\n",
       "<tr>\n",
       "  <th>Covariance Type:</th>      <td>nonrobust</td>    <th>                     </th>      <td> </td>     \n",
       "</tr>\n",
       "</table>\n",
       "<table class=\"simpletable\">\n",
       "<tr>\n",
       "          <td></td>            <th>coef</th>     <th>std err</th>      <th>t</th>      <th>P>|t|</th>  <th>[0.025</th>    <th>0.975]</th>  \n",
       "</tr>\n",
       "<tr>\n",
       "  <th>id</th>               <td>-1.085e-06</td> <td> 4.94e-07</td> <td>   -2.196</td> <td> 0.028</td> <td>-2.05e-06</td> <td>-1.17e-07</td>\n",
       "</tr>\n",
       "<tr>\n",
       "  <th>bedrooms_norm</th>    <td> -1.23e+06</td> <td> 6.21e+04</td> <td>  -19.810</td> <td> 0.000</td> <td>-1.35e+06</td> <td>-1.11e+06</td>\n",
       "</tr>\n",
       "<tr>\n",
       "  <th>bathrooms_norm</th>   <td> 3.415e+05</td> <td> 2.52e+04</td> <td>   13.535</td> <td> 0.000</td> <td> 2.92e+05</td> <td> 3.91e+05</td>\n",
       "</tr>\n",
       "<tr>\n",
       "  <th>sqft_living</th>      <td>  175.1375</td> <td>    3.473</td> <td>   50.424</td> <td> 0.000</td> <td>  168.329</td> <td>  181.945</td>\n",
       "</tr>\n",
       "<tr>\n",
       "  <th>sqft_lot_norm</th>    <td> 2.625e+05</td> <td> 8.08e+04</td> <td>    3.250</td> <td> 0.001</td> <td> 1.04e+05</td> <td> 4.21e+05</td>\n",
       "</tr>\n",
       "<tr>\n",
       "  <th>floors_norm</th>      <td>  1.29e+04</td> <td> 8800.630</td> <td>    1.466</td> <td> 0.143</td> <td>-4348.055</td> <td> 3.02e+04</td>\n",
       "</tr>\n",
       "<tr>\n",
       "  <th>waterfront</th>       <td> 7.733e+05</td> <td> 1.73e+04</td> <td>   44.716</td> <td> 0.000</td> <td> 7.39e+05</td> <td> 8.07e+05</td>\n",
       "</tr>\n",
       "<tr>\n",
       "  <th>condition</th>        <td> 3.208e+04</td> <td> 2387.156</td> <td>   13.437</td> <td> 0.000</td> <td> 2.74e+04</td> <td> 3.68e+04</td>\n",
       "</tr>\n",
       "<tr>\n",
       "  <th>grade</th>            <td> 1.033e+05</td> <td> 2187.978</td> <td>   47.217</td> <td> 0.000</td> <td>  9.9e+04</td> <td> 1.08e+05</td>\n",
       "</tr>\n",
       "<tr>\n",
       "  <th>has_basement</th>     <td>-1.422e+04</td> <td> 3419.979</td> <td>   -4.158</td> <td> 0.000</td> <td>-2.09e+04</td> <td>-7518.111</td>\n",
       "</tr>\n",
       "<tr>\n",
       "  <th>yr_built_norm</th>    <td>-3.045e+05</td> <td> 8363.170</td> <td>  -36.405</td> <td> 0.000</td> <td>-3.21e+05</td> <td>-2.88e+05</td>\n",
       "</tr>\n",
       "<tr>\n",
       "  <th>renovated</th>        <td> 5.459e+04</td> <td> 8117.486</td> <td>    6.725</td> <td> 0.000</td> <td> 3.87e+04</td> <td> 7.05e+04</td>\n",
       "</tr>\n",
       "<tr>\n",
       "  <th>zipcode</th>          <td>   -8.1545</td> <td>    0.161</td> <td>  -50.707</td> <td> 0.000</td> <td>   -8.470</td> <td>   -7.839</td>\n",
       "</tr>\n",
       "<tr>\n",
       "  <th>lat_norm</th>         <td> 3.377e+05</td> <td> 6653.173</td> <td>   50.754</td> <td> 0.000</td> <td> 3.25e+05</td> <td> 3.51e+05</td>\n",
       "</tr>\n",
       "<tr>\n",
       "  <th>long_norm</th>        <td>-1.772e+05</td> <td> 1.47e+04</td> <td>  -12.060</td> <td> 0.000</td> <td>-2.06e+05</td> <td>-1.48e+05</td>\n",
       "</tr>\n",
       "<tr>\n",
       "  <th>sqft_living15</th>    <td>   39.1865</td> <td>    3.458</td> <td>   11.332</td> <td> 0.000</td> <td>   32.409</td> <td>   45.964</td>\n",
       "</tr>\n",
       "<tr>\n",
       "  <th>sqft_lot15_norm</th>  <td>-3.449e+05</td> <td> 6.53e+04</td> <td>   -5.280</td> <td> 0.000</td> <td>-4.73e+05</td> <td>-2.17e+05</td>\n",
       "</tr>\n",
       "<tr>\n",
       "  <th>day_of_year_norm</th> <td>-3.753e+04</td> <td> 5389.617</td> <td>   -6.964</td> <td> 0.000</td> <td>-4.81e+04</td> <td> -2.7e+04</td>\n",
       "</tr>\n",
       "</table>\n",
       "<table class=\"simpletable\">\n",
       "<tr>\n",
       "  <th>Omnibus:</th>       <td>18152.084</td> <th>  Durbin-Watson:     </th>  <td>   1.994</td>  \n",
       "</tr>\n",
       "<tr>\n",
       "  <th>Prob(Omnibus):</th>  <td> 0.000</td>   <th>  Jarque-Bera (JB):  </th> <td>1722386.494</td>\n",
       "</tr>\n",
       "<tr>\n",
       "  <th>Skew:</th>           <td> 3.568</td>   <th>  Prob(JB):          </th>  <td>    0.00</td>  \n",
       "</tr>\n",
       "<tr>\n",
       "  <th>Kurtosis:</th>       <td>46.347</td>   <th>  Cond. No.          </th>  <td>3.69e+11</td>  \n",
       "</tr>\n",
       "</table><br/><br/>Warnings:<br/>[1] Standard Errors assume that the covariance matrix of the errors is correctly specified.<br/>[2] The condition number is large, 3.69e+11. This might indicate that there are<br/>strong multicollinearity or other numerical problems."
      ],
      "text/plain": [
       "<class 'statsmodels.iolib.summary.Summary'>\n",
       "\"\"\"\n",
       "                            OLS Regression Results                            \n",
       "==============================================================================\n",
       "Dep. Variable:                  price   R-squared:                       0.689\n",
       "Model:                            OLS   Adj. R-squared:                  0.689\n",
       "Method:                 Least Squares   F-statistic:                     2790.\n",
       "Date:                Fri, 17 Jul 2020   Prob (F-statistic):               0.00\n",
       "Time:                        11:25:10   Log-Likelihood:            -2.9239e+05\n",
       "No. Observations:               21420   AIC:                         5.848e+05\n",
       "Df Residuals:                   21402   BIC:                         5.850e+05\n",
       "Df Model:                          17                                         \n",
       "Covariance Type:            nonrobust                                         \n",
       "====================================================================================\n",
       "                       coef    std err          t      P>|t|      [0.025      0.975]\n",
       "------------------------------------------------------------------------------------\n",
       "id               -1.085e-06   4.94e-07     -2.196      0.028   -2.05e-06   -1.17e-07\n",
       "bedrooms_norm     -1.23e+06   6.21e+04    -19.810      0.000   -1.35e+06   -1.11e+06\n",
       "bathrooms_norm    3.415e+05   2.52e+04     13.535      0.000    2.92e+05    3.91e+05\n",
       "sqft_living        175.1375      3.473     50.424      0.000     168.329     181.945\n",
       "sqft_lot_norm     2.625e+05   8.08e+04      3.250      0.001    1.04e+05    4.21e+05\n",
       "floors_norm        1.29e+04   8800.630      1.466      0.143   -4348.055    3.02e+04\n",
       "waterfront        7.733e+05   1.73e+04     44.716      0.000    7.39e+05    8.07e+05\n",
       "condition         3.208e+04   2387.156     13.437      0.000    2.74e+04    3.68e+04\n",
       "grade             1.033e+05   2187.978     47.217      0.000     9.9e+04    1.08e+05\n",
       "has_basement     -1.422e+04   3419.979     -4.158      0.000   -2.09e+04   -7518.111\n",
       "yr_built_norm    -3.045e+05   8363.170    -36.405      0.000   -3.21e+05   -2.88e+05\n",
       "renovated         5.459e+04   8117.486      6.725      0.000    3.87e+04    7.05e+04\n",
       "zipcode             -8.1545      0.161    -50.707      0.000      -8.470      -7.839\n",
       "lat_norm          3.377e+05   6653.173     50.754      0.000    3.25e+05    3.51e+05\n",
       "long_norm        -1.772e+05   1.47e+04    -12.060      0.000   -2.06e+05   -1.48e+05\n",
       "sqft_living15       39.1865      3.458     11.332      0.000      32.409      45.964\n",
       "sqft_lot15_norm  -3.449e+05   6.53e+04     -5.280      0.000   -4.73e+05   -2.17e+05\n",
       "day_of_year_norm -3.753e+04   5389.617     -6.964      0.000   -4.81e+04    -2.7e+04\n",
       "==============================================================================\n",
       "Omnibus:                    18152.084   Durbin-Watson:                   1.994\n",
       "Prob(Omnibus):                  0.000   Jarque-Bera (JB):          1722386.494\n",
       "Skew:                           3.568   Prob(JB):                         0.00\n",
       "Kurtosis:                      46.347   Cond. No.                     3.69e+11\n",
       "==============================================================================\n",
       "\n",
       "Warnings:\n",
       "[1] Standard Errors assume that the covariance matrix of the errors is correctly specified.\n",
       "[2] The condition number is large, 3.69e+11. This might indicate that there are\n",
       "strong multicollinearity or other numerical problems.\n",
       "\"\"\""
      ]
     },
     "execution_count": 15,
     "metadata": {},
     "output_type": "execute_result"
    }
   ],
   "source": [
    "price = df2.price\n",
    "indep = df2.drop('price', axis = 1)\n",
    "\n",
    "model2 = sm.OLS(price, indep).fit()\n",
    "model2.summary()"
   ]
  },
  {
   "cell_type": "markdown",
   "metadata": {},
   "source": [
    "In an unenjoyable turn of events, these mean normalizations actually reduced the R-squared value from **0.692** to **0.689.** This isn't a huge loss, and I suspect it may have to do with outliers in the data imprinting on our mean-normalization formula. Let's try and remove the outliers in a few columns, re-normalize the data, and run the model again."
   ]
  },
  {
   "cell_type": "markdown",
   "metadata": {},
   "source": [
    "## Removing Outliers"
   ]
  },
  {
   "cell_type": "markdown",
   "metadata": {},
   "source": [
    "First, we'll make a copy of the dataframe, then iterate through certain columns to remove their outliers. These columns, as illustrated in the histograms two sections prior, will be `price`, `bedrooms`, `sqft_lot`, `sqft_living`, `sqft_basement`, and `sqft_lot15`."
   ]
  },
  {
   "cell_type": "code",
   "execution_count": 16,
   "metadata": {},
   "outputs": [],
   "source": [
    "df3 = df.copy()"
   ]
  },
  {
   "cell_type": "code",
   "execution_count": 17,
   "metadata": {},
   "outputs": [],
   "source": [
    "out_to_drop = ['price', 'bedrooms', 'sqft_lot', 'sqft_living', 'sqft_basement', 'sqft_lot15']"
   ]
  },
  {
   "cell_type": "code",
   "execution_count": 18,
   "metadata": {},
   "outputs": [],
   "source": [
    "for i in out_to_drop:\n",
    "    df3 = df3[np.abs(df[i] - df[i].mean()) <= (3*df[i].std())]"
   ]
  },
  {
   "cell_type": "code",
   "execution_count": 19,
   "metadata": {},
   "outputs": [
    {
     "name": "stdout",
     "output_type": "stream",
     "text": [
      "We just dropped 1143 rows!\n",
      "That's 5.336134453781512 % of the original data.\n"
     ]
    }
   ],
   "source": [
    "print(\"We just dropped\", len(df) - len(df3), \"rows!\\nThat's\",\n",
    "      (len(df)-len(df3))/len(df)*100, \"% of the original data.\")"
   ]
  },
  {
   "cell_type": "markdown",
   "metadata": {},
   "source": [
    "Now that those are dropped, we can do the same as in the section above:"
   ]
  },
  {
   "cell_type": "code",
   "execution_count": 20,
   "metadata": {},
   "outputs": [],
   "source": [
    "# Switch basement to binary column\n",
    "df3.loc[(df3.sqft_basement > 0), 'sqft_basement'] = 1\n",
    "df3.rename({'sqft_basement' : 'has_basement'}, axis=1, inplace=True)\n",
    "\n",
    "# Normalize chosen columns\n",
    "for col in df3[cont_to_norm].columns:\n",
    "    df3[col] = (df3[col] - np.mean(df3[col])) / (max(df3[col]) - min(df3[col]))\n",
    "    df3.rename({f'{col}' : f'{col}_norm'}, axis=1, inplace=True)"
   ]
  },
  {
   "cell_type": "markdown",
   "metadata": {},
   "source": [
    "## Model 2B"
   ]
  },
  {
   "cell_type": "code",
   "execution_count": 21,
   "metadata": {
    "scrolled": true
   },
   "outputs": [
    {
     "data": {
      "text/html": [
       "<table class=\"simpletable\">\n",
       "<caption>OLS Regression Results</caption>\n",
       "<tr>\n",
       "  <th>Dep. Variable:</th>          <td>price</td>      <th>  R-squared:         </th>  <td>   0.693</td>  \n",
       "</tr>\n",
       "<tr>\n",
       "  <th>Model:</th>                   <td>OLS</td>       <th>  Adj. R-squared:    </th>  <td>   0.693</td>  \n",
       "</tr>\n",
       "<tr>\n",
       "  <th>Method:</th>             <td>Least Squares</td>  <th>  F-statistic:       </th>  <td>   2695.</td>  \n",
       "</tr>\n",
       "<tr>\n",
       "  <th>Date:</th>             <td>Fri, 17 Jul 2020</td> <th>  Prob (F-statistic):</th>   <td>  0.00</td>   \n",
       "</tr>\n",
       "<tr>\n",
       "  <th>Time:</th>                 <td>11:25:17</td>     <th>  Log-Likelihood:    </th> <td>-2.6898e+05</td>\n",
       "</tr>\n",
       "<tr>\n",
       "  <th>No. Observations:</th>      <td> 20277</td>      <th>  AIC:               </th>  <td>5.380e+05</td> \n",
       "</tr>\n",
       "<tr>\n",
       "  <th>Df Residuals:</th>          <td> 20259</td>      <th>  BIC:               </th>  <td>5.381e+05</td> \n",
       "</tr>\n",
       "<tr>\n",
       "  <th>Df Model:</th>              <td>    17</td>      <th>                     </th>      <td> </td>     \n",
       "</tr>\n",
       "<tr>\n",
       "  <th>Covariance Type:</th>      <td>nonrobust</td>    <th>                     </th>      <td> </td>     \n",
       "</tr>\n",
       "</table>\n",
       "<table class=\"simpletable\">\n",
       "<tr>\n",
       "          <td></td>            <th>coef</th>     <th>std err</th>      <th>t</th>      <th>P>|t|</th>  <th>[0.025</th>    <th>0.975]</th>  \n",
       "</tr>\n",
       "<tr>\n",
       "  <th>id</th>               <td>-7.765e-07</td> <td> 3.45e-07</td> <td>   -2.248</td> <td> 0.025</td> <td>-1.45e-06</td> <td>-9.94e-08</td>\n",
       "</tr>\n",
       "<tr>\n",
       "  <th>bedrooms_norm</th>    <td>-8.719e+04</td> <td> 7464.048</td> <td>  -11.682</td> <td> 0.000</td> <td>-1.02e+05</td> <td>-7.26e+04</td>\n",
       "</tr>\n",
       "<tr>\n",
       "  <th>bathrooms_norm</th>   <td> 1.386e+05</td> <td> 1.16e+04</td> <td>   11.996</td> <td> 0.000</td> <td> 1.16e+05</td> <td> 1.61e+05</td>\n",
       "</tr>\n",
       "<tr>\n",
       "  <th>sqft_living</th>      <td>   94.1796</td> <td>    2.800</td> <td>   33.632</td> <td> 0.000</td> <td>   88.691</td> <td>   99.668</td>\n",
       "</tr>\n",
       "<tr>\n",
       "  <th>sqft_lot_norm</th>    <td> 5.108e+04</td> <td> 1.95e+04</td> <td>    2.616</td> <td> 0.009</td> <td> 1.28e+04</td> <td> 8.93e+04</td>\n",
       "</tr>\n",
       "<tr>\n",
       "  <th>floors_norm</th>      <td>  7.42e+04</td> <td> 6352.366</td> <td>   11.681</td> <td> 0.000</td> <td> 6.18e+04</td> <td> 8.67e+04</td>\n",
       "</tr>\n",
       "<tr>\n",
       "  <th>waterfront</th>       <td> 3.548e+05</td> <td> 1.64e+04</td> <td>   21.689</td> <td> 0.000</td> <td> 3.23e+05</td> <td> 3.87e+05</td>\n",
       "</tr>\n",
       "<tr>\n",
       "  <th>condition</th>        <td> 3.176e+04</td> <td> 1673.628</td> <td>   18.977</td> <td> 0.000</td> <td> 2.85e+04</td> <td>  3.5e+04</td>\n",
       "</tr>\n",
       "<tr>\n",
       "  <th>grade</th>            <td> 9.186e+04</td> <td> 1568.233</td> <td>   58.578</td> <td> 0.000</td> <td> 8.88e+04</td> <td> 9.49e+04</td>\n",
       "</tr>\n",
       "<tr>\n",
       "  <th>has_basement</th>     <td> 1.243e+04</td> <td> 2421.438</td> <td>    5.134</td> <td> 0.000</td> <td> 7684.450</td> <td> 1.72e+04</td>\n",
       "</tr>\n",
       "<tr>\n",
       "  <th>yr_built_norm</th>    <td>-2.553e+05</td> <td> 5910.885</td> <td>  -43.184</td> <td> 0.000</td> <td>-2.67e+05</td> <td>-2.44e+05</td>\n",
       "</tr>\n",
       "<tr>\n",
       "  <th>renovated</th>        <td> 4.458e+04</td> <td> 5844.803</td> <td>    7.627</td> <td> 0.000</td> <td> 3.31e+04</td> <td>  5.6e+04</td>\n",
       "</tr>\n",
       "<tr>\n",
       "  <th>zipcode</th>          <td>   -6.2719</td> <td>    0.116</td> <td>  -54.186</td> <td> 0.000</td> <td>   -6.499</td> <td>   -6.045</td>\n",
       "</tr>\n",
       "<tr>\n",
       "  <th>lat_norm</th>         <td> 3.305e+05</td> <td> 4646.060</td> <td>   71.143</td> <td> 0.000</td> <td> 3.21e+05</td> <td>  3.4e+05</td>\n",
       "</tr>\n",
       "<tr>\n",
       "  <th>long_norm</th>        <td>-5.382e+04</td> <td> 1.05e+04</td> <td>   -5.124</td> <td> 0.000</td> <td>-7.44e+04</td> <td>-3.32e+04</td>\n",
       "</tr>\n",
       "<tr>\n",
       "  <th>sqft_living15</th>    <td>   61.2000</td> <td>    2.610</td> <td>   23.446</td> <td> 0.000</td> <td>   56.084</td> <td>   66.316</td>\n",
       "</tr>\n",
       "<tr>\n",
       "  <th>sqft_lot15_norm</th>  <td>-1.356e+05</td> <td> 1.73e+04</td> <td>   -7.843</td> <td> 0.000</td> <td>-1.69e+05</td> <td>-1.02e+05</td>\n",
       "</tr>\n",
       "<tr>\n",
       "  <th>day_of_year_norm</th> <td>-3.245e+04</td> <td> 3769.446</td> <td>   -8.610</td> <td> 0.000</td> <td>-3.98e+04</td> <td>-2.51e+04</td>\n",
       "</tr>\n",
       "</table>\n",
       "<table class=\"simpletable\">\n",
       "<tr>\n",
       "  <th>Omnibus:</th>       <td>5131.647</td> <th>  Durbin-Watson:     </th> <td>   1.979</td> \n",
       "</tr>\n",
       "<tr>\n",
       "  <th>Prob(Omnibus):</th>  <td> 0.000</td>  <th>  Jarque-Bera (JB):  </th> <td>20351.025</td>\n",
       "</tr>\n",
       "<tr>\n",
       "  <th>Skew:</th>           <td> 1.211</td>  <th>  Prob(JB):          </th> <td>    0.00</td> \n",
       "</tr>\n",
       "<tr>\n",
       "  <th>Kurtosis:</th>       <td> 7.268</td>  <th>  Cond. No.          </th> <td>1.37e+11</td> \n",
       "</tr>\n",
       "</table><br/><br/>Warnings:<br/>[1] Standard Errors assume that the covariance matrix of the errors is correctly specified.<br/>[2] The condition number is large, 1.37e+11. This might indicate that there are<br/>strong multicollinearity or other numerical problems."
      ],
      "text/plain": [
       "<class 'statsmodels.iolib.summary.Summary'>\n",
       "\"\"\"\n",
       "                            OLS Regression Results                            \n",
       "==============================================================================\n",
       "Dep. Variable:                  price   R-squared:                       0.693\n",
       "Model:                            OLS   Adj. R-squared:                  0.693\n",
       "Method:                 Least Squares   F-statistic:                     2695.\n",
       "Date:                Fri, 17 Jul 2020   Prob (F-statistic):               0.00\n",
       "Time:                        11:25:17   Log-Likelihood:            -2.6898e+05\n",
       "No. Observations:               20277   AIC:                         5.380e+05\n",
       "Df Residuals:                   20259   BIC:                         5.381e+05\n",
       "Df Model:                          17                                         \n",
       "Covariance Type:            nonrobust                                         \n",
       "====================================================================================\n",
       "                       coef    std err          t      P>|t|      [0.025      0.975]\n",
       "------------------------------------------------------------------------------------\n",
       "id               -7.765e-07   3.45e-07     -2.248      0.025   -1.45e-06   -9.94e-08\n",
       "bedrooms_norm    -8.719e+04   7464.048    -11.682      0.000   -1.02e+05   -7.26e+04\n",
       "bathrooms_norm    1.386e+05   1.16e+04     11.996      0.000    1.16e+05    1.61e+05\n",
       "sqft_living         94.1796      2.800     33.632      0.000      88.691      99.668\n",
       "sqft_lot_norm     5.108e+04   1.95e+04      2.616      0.009    1.28e+04    8.93e+04\n",
       "floors_norm        7.42e+04   6352.366     11.681      0.000    6.18e+04    8.67e+04\n",
       "waterfront        3.548e+05   1.64e+04     21.689      0.000    3.23e+05    3.87e+05\n",
       "condition         3.176e+04   1673.628     18.977      0.000    2.85e+04     3.5e+04\n",
       "grade             9.186e+04   1568.233     58.578      0.000    8.88e+04    9.49e+04\n",
       "has_basement      1.243e+04   2421.438      5.134      0.000    7684.450    1.72e+04\n",
       "yr_built_norm    -2.553e+05   5910.885    -43.184      0.000   -2.67e+05   -2.44e+05\n",
       "renovated         4.458e+04   5844.803      7.627      0.000    3.31e+04     5.6e+04\n",
       "zipcode             -6.2719      0.116    -54.186      0.000      -6.499      -6.045\n",
       "lat_norm          3.305e+05   4646.060     71.143      0.000    3.21e+05     3.4e+05\n",
       "long_norm        -5.382e+04   1.05e+04     -5.124      0.000   -7.44e+04   -3.32e+04\n",
       "sqft_living15       61.2000      2.610     23.446      0.000      56.084      66.316\n",
       "sqft_lot15_norm  -1.356e+05   1.73e+04     -7.843      0.000   -1.69e+05   -1.02e+05\n",
       "day_of_year_norm -3.245e+04   3769.446     -8.610      0.000   -3.98e+04   -2.51e+04\n",
       "==============================================================================\n",
       "Omnibus:                     5131.647   Durbin-Watson:                   1.979\n",
       "Prob(Omnibus):                  0.000   Jarque-Bera (JB):            20351.025\n",
       "Skew:                           1.211   Prob(JB):                         0.00\n",
       "Kurtosis:                       7.268   Cond. No.                     1.37e+11\n",
       "==============================================================================\n",
       "\n",
       "Warnings:\n",
       "[1] Standard Errors assume that the covariance matrix of the errors is correctly specified.\n",
       "[2] The condition number is large, 1.37e+11. This might indicate that there are\n",
       "strong multicollinearity or other numerical problems.\n",
       "\"\"\""
      ]
     },
     "execution_count": 21,
     "metadata": {},
     "output_type": "execute_result"
    }
   ],
   "source": [
    "price = df3.price\n",
    "indep = df3.drop('price', axis = 1)\n",
    "\n",
    "model3 = sm.OLS(price, indep).fit()\n",
    "model3.summary()"
   ]
  },
  {
   "cell_type": "markdown",
   "metadata": {},
   "source": [
    "Here we can see that this model is actually *quite close* to the baseline model. R-squared is **0.693,** just **0.001** above the baseline. However, the p-values on everything but `sqft_lot_norm` are 0. This is a promising change. The next model will be based on this one."
   ]
  },
  {
   "cell_type": "code",
   "execution_count": 22,
   "metadata": {
    "scrolled": true
   },
   "outputs": [
    {
     "name": "stdout",
     "output_type": "stream",
     "text": [
      "Train Mean Squarred Error: 19210574353.006245\n",
      "Test Mean Squarred Error: 19836926409.06823\n"
     ]
    }
   ],
   "source": [
    "y = df3['price']\n",
    "X = df3.drop(['price'], axis = 1)\n",
    "X_train, X_test, y_train, y_test = train_test_split(X, y, test_size = 0.2)\n",
    "\n",
    "linreg = LinearRegression()\n",
    "linreg.fit(X_train, y_train)\n",
    "\n",
    "y_hat_train = linreg.predict(X_train)\n",
    "y_hat_test = linreg.predict(X_test)\n",
    "\n",
    "mse_train = np.sum((y_train-y_hat_train)**2)/len(y_train)\n",
    "mse_test =np.sum((y_test-y_hat_test)**2)/len(y_test)\n",
    "print('Train Mean Squarred Error:', mse_train)\n",
    "print('Test Mean Squarred Error:', mse_test)"
   ]
  },
  {
   "cell_type": "code",
   "execution_count": 23,
   "metadata": {},
   "outputs": [
    {
     "name": "stdout",
     "output_type": "stream",
     "text": [
      "Train Root Mean Squarred Error: 138602.2162629669\n",
      "Test Root Mean Squarred Error: 140843.62395603227\n"
     ]
    }
   ],
   "source": [
    "rmse_test = np.sqrt(mse_test)\n",
    "rmse_train = np.sqrt(mse_train)\n",
    "print('Train Root Mean Squarred Error:', rmse_train)\n",
    "print('Test Root Mean Squarred Error:', rmse_test)"
   ]
  },
  {
   "cell_type": "markdown",
   "metadata": {},
   "source": [
    "The RMSE on this model is not great. **~$138,000** is a huge amount of money to mis-estimate the price of a house by. The following models aim to reduce this to a 5-digit-or-less number."
   ]
  },
  {
   "cell_type": "markdown",
   "metadata": {},
   "source": [
    "# Model 3: Categorical Variables As Dummies"
   ]
  },
  {
   "cell_type": "markdown",
   "metadata": {},
   "source": [
    "This model is based on **Model 2B** and investigates the impact of creating dummy variables for the categorical columns."
   ]
  },
  {
   "cell_type": "code",
   "execution_count": 92,
   "metadata": {},
   "outputs": [],
   "source": [
    "df4 = df3.copy()"
   ]
  },
  {
   "cell_type": "markdown",
   "metadata": {},
   "source": [
    "## Categorical Variables"
   ]
  },
  {
   "cell_type": "code",
   "execution_count": 93,
   "metadata": {},
   "outputs": [
    {
     "data": {
      "text/plain": [
       "Index(['id', 'price', 'bedrooms_norm', 'bathrooms_norm', 'sqft_living',\n",
       "       'sqft_lot_norm', 'floors_norm', 'waterfront', 'condition', 'grade',\n",
       "       'has_basement', 'yr_built_norm', 'renovated', 'zipcode', 'lat_norm',\n",
       "       'long_norm', 'sqft_living15', 'sqft_lot15_norm', 'day_of_year_norm'],\n",
       "      dtype='object')"
      ]
     },
     "execution_count": 93,
     "metadata": {},
     "output_type": "execute_result"
    }
   ],
   "source": [
    "df4.columns"
   ]
  },
  {
   "cell_type": "markdown",
   "metadata": {},
   "source": [
    "The columns `condition`, and `grade` are fine as-is, and just need dummies. The columns `waterfront`, `has_basement`, and `renovated` have already been handled and made binary. The column `zipcode` will be dropped entirely and replaced with quadrants based on `lat` and `long`. Consequently, the normalized `lat` and `long` columns will also be dropped."
   ]
  },
  {
   "cell_type": "code",
   "execution_count": 94,
   "metadata": {},
   "outputs": [],
   "source": [
    "df4[\"lat\"] = df[\"lat\"]\n",
    "df4[\"long\"] = df[\"long\"]\n",
    "df4.drop([\"lat_norm\", \"long_norm\"], axis=1, inplace=True)"
   ]
  },
  {
   "cell_type": "code",
   "execution_count": 95,
   "metadata": {},
   "outputs": [],
   "source": [
    "# Sectors by lat and long\n",
    "df4.loc[(df4['lat'] >= 47.505) & (df4['long'] >= -122.221), \"sector_1\"] = 1\n",
    "df4.loc[(df4['lat'] >= 47.505) & (df4['long'] < -122.221), \"sector_2\"] = 1\n",
    "df4.loc[(df4['lat'] < 47.505) & (df4['long'] >= -122.221), \"sector_3\"] = 1\n",
    "df4.loc[(df4['lat'] < 47.505) & (df4['long'] < -122.221), \"sector_4\"] = 1"
   ]
  },
  {
   "cell_type": "code",
   "execution_count": 96,
   "metadata": {},
   "outputs": [],
   "source": [
    "# Fill sector NaN's with zeros\n",
    "for sector in ['sector_1', 'sector_2', 'sector_3', 'sector_4']:\n",
    "    df4[sector] = df4[sector].fillna(0)"
   ]
  },
  {
   "cell_type": "code",
   "execution_count": 97,
   "metadata": {},
   "outputs": [],
   "source": [
    "# Drop now-useless columns, including sector_1 as in dummies-drop-first style\n",
    "df4.drop([\"zipcode\", \"lat\", \"long\", \"sector_1\"], axis=1, inplace=True)"
   ]
  },
  {
   "cell_type": "code",
   "execution_count": 98,
   "metadata": {},
   "outputs": [
    {
     "data": {
      "text/html": [
       "<div>\n",
       "<style scoped>\n",
       "    .dataframe tbody tr th:only-of-type {\n",
       "        vertical-align: middle;\n",
       "    }\n",
       "\n",
       "    .dataframe tbody tr th {\n",
       "        vertical-align: top;\n",
       "    }\n",
       "\n",
       "    .dataframe thead th {\n",
       "        text-align: right;\n",
       "    }\n",
       "</style>\n",
       "<table border=\"1\" class=\"dataframe\">\n",
       "  <thead>\n",
       "    <tr style=\"text-align: right;\">\n",
       "      <th></th>\n",
       "      <th>id</th>\n",
       "      <th>price</th>\n",
       "      <th>bedrooms_norm</th>\n",
       "      <th>bathrooms_norm</th>\n",
       "      <th>sqft_living</th>\n",
       "      <th>sqft_lot_norm</th>\n",
       "      <th>floors_norm</th>\n",
       "      <th>waterfront</th>\n",
       "      <th>has_basement</th>\n",
       "      <th>yr_built_norm</th>\n",
       "      <th>...</th>\n",
       "      <th>grd_7</th>\n",
       "      <th>grd_8</th>\n",
       "      <th>grd_9</th>\n",
       "      <th>grd_10</th>\n",
       "      <th>grd_11</th>\n",
       "      <th>grd_12</th>\n",
       "      <th>cond_2</th>\n",
       "      <th>cond_3</th>\n",
       "      <th>cond_4</th>\n",
       "      <th>cond_5</th>\n",
       "    </tr>\n",
       "  </thead>\n",
       "  <tbody>\n",
       "    <tr>\n",
       "      <td>0</td>\n",
       "      <td>7129300520</td>\n",
       "      <td>221900.0</td>\n",
       "      <td>-0.066805</td>\n",
       "      <td>-0.224706</td>\n",
       "      <td>1180</td>\n",
       "      <td>-0.033242</td>\n",
       "      <td>-0.195285</td>\n",
       "      <td>0.0</td>\n",
       "      <td>0.0</td>\n",
       "      <td>-0.136641</td>\n",
       "      <td>...</td>\n",
       "      <td>1</td>\n",
       "      <td>0</td>\n",
       "      <td>0</td>\n",
       "      <td>0</td>\n",
       "      <td>0</td>\n",
       "      <td>0</td>\n",
       "      <td>0</td>\n",
       "      <td>1</td>\n",
       "      <td>0</td>\n",
       "      <td>0</td>\n",
       "    </tr>\n",
       "    <tr>\n",
       "      <td>1</td>\n",
       "      <td>6414100192</td>\n",
       "      <td>538000.0</td>\n",
       "      <td>-0.066805</td>\n",
       "      <td>0.038452</td>\n",
       "      <td>2570</td>\n",
       "      <td>-0.021596</td>\n",
       "      <td>0.204715</td>\n",
       "      <td>0.0</td>\n",
       "      <td>1.0</td>\n",
       "      <td>-0.171424</td>\n",
       "      <td>...</td>\n",
       "      <td>1</td>\n",
       "      <td>0</td>\n",
       "      <td>0</td>\n",
       "      <td>0</td>\n",
       "      <td>0</td>\n",
       "      <td>0</td>\n",
       "      <td>0</td>\n",
       "      <td>1</td>\n",
       "      <td>0</td>\n",
       "      <td>0</td>\n",
       "    </tr>\n",
       "    <tr>\n",
       "      <td>2</td>\n",
       "      <td>5631500400</td>\n",
       "      <td>180000.0</td>\n",
       "      <td>-0.266805</td>\n",
       "      <td>-0.224706</td>\n",
       "      <td>770</td>\n",
       "      <td>-0.001419</td>\n",
       "      <td>-0.195285</td>\n",
       "      <td>0.0</td>\n",
       "      <td>0.0</td>\n",
       "      <td>-0.327945</td>\n",
       "      <td>...</td>\n",
       "      <td>0</td>\n",
       "      <td>0</td>\n",
       "      <td>0</td>\n",
       "      <td>0</td>\n",
       "      <td>0</td>\n",
       "      <td>0</td>\n",
       "      <td>0</td>\n",
       "      <td>1</td>\n",
       "      <td>0</td>\n",
       "      <td>0</td>\n",
       "    </tr>\n",
       "    <tr>\n",
       "      <td>3</td>\n",
       "      <td>2487200875</td>\n",
       "      <td>604000.0</td>\n",
       "      <td>0.133195</td>\n",
       "      <td>0.196346</td>\n",
       "      <td>1960</td>\n",
       "      <td>-0.037997</td>\n",
       "      <td>-0.195285</td>\n",
       "      <td>0.0</td>\n",
       "      <td>1.0</td>\n",
       "      <td>-0.049684</td>\n",
       "      <td>...</td>\n",
       "      <td>1</td>\n",
       "      <td>0</td>\n",
       "      <td>0</td>\n",
       "      <td>0</td>\n",
       "      <td>0</td>\n",
       "      <td>0</td>\n",
       "      <td>0</td>\n",
       "      <td>0</td>\n",
       "      <td>0</td>\n",
       "      <td>1</td>\n",
       "    </tr>\n",
       "    <tr>\n",
       "      <td>4</td>\n",
       "      <td>1954400510</td>\n",
       "      <td>510000.0</td>\n",
       "      <td>-0.066805</td>\n",
       "      <td>-0.014180</td>\n",
       "      <td>1680</td>\n",
       "      <td>-0.015465</td>\n",
       "      <td>-0.195285</td>\n",
       "      <td>0.0</td>\n",
       "      <td>0.0</td>\n",
       "      <td>0.141620</td>\n",
       "      <td>...</td>\n",
       "      <td>0</td>\n",
       "      <td>1</td>\n",
       "      <td>0</td>\n",
       "      <td>0</td>\n",
       "      <td>0</td>\n",
       "      <td>0</td>\n",
       "      <td>0</td>\n",
       "      <td>1</td>\n",
       "      <td>0</td>\n",
       "      <td>0</td>\n",
       "    </tr>\n",
       "  </tbody>\n",
       "</table>\n",
       "<p>5 rows × 30 columns</p>\n",
       "</div>"
      ],
      "text/plain": [
       "           id     price  bedrooms_norm  bathrooms_norm  sqft_living  \\\n",
       "0  7129300520  221900.0      -0.066805       -0.224706         1180   \n",
       "1  6414100192  538000.0      -0.066805        0.038452         2570   \n",
       "2  5631500400  180000.0      -0.266805       -0.224706          770   \n",
       "3  2487200875  604000.0       0.133195        0.196346         1960   \n",
       "4  1954400510  510000.0      -0.066805       -0.014180         1680   \n",
       "\n",
       "   sqft_lot_norm  floors_norm  waterfront  has_basement  yr_built_norm  ...  \\\n",
       "0      -0.033242    -0.195285         0.0           0.0      -0.136641  ...   \n",
       "1      -0.021596     0.204715         0.0           1.0      -0.171424  ...   \n",
       "2      -0.001419    -0.195285         0.0           0.0      -0.327945  ...   \n",
       "3      -0.037997    -0.195285         0.0           1.0      -0.049684  ...   \n",
       "4      -0.015465    -0.195285         0.0           0.0       0.141620  ...   \n",
       "\n",
       "   grd_7  grd_8  grd_9  grd_10  grd_11  grd_12  cond_2  cond_3  cond_4  cond_5  \n",
       "0      1      0      0       0       0       0       0       1       0       0  \n",
       "1      1      0      0       0       0       0       0       1       0       0  \n",
       "2      0      0      0       0       0       0       0       1       0       0  \n",
       "3      1      0      0       0       0       0       0       0       0       1  \n",
       "4      0      1      0       0       0       0       0       1       0       0  \n",
       "\n",
       "[5 rows x 30 columns]"
      ]
     },
     "execution_count": 98,
     "metadata": {},
     "output_type": "execute_result"
    }
   ],
   "source": [
    "# Condition and grade dummies\n",
    "grd_dummies = pd.get_dummies(df4.grade, prefix=\"grd\", drop_first=True)\n",
    "df4.drop('grade', axis=1, inplace=True)\n",
    "\n",
    "cond_dummies = pd.get_dummies(df4.condition, prefix=\"cond\", drop_first=True)\n",
    "df4.drop('condition', axis=1, inplace=True)\n",
    "\n",
    "df4 = pd.concat([df4, grd_dummies, cond_dummies], axis=1)\n",
    "df4.head()"
   ]
  },
  {
   "cell_type": "markdown",
   "metadata": {},
   "source": [
    "## Model 3"
   ]
  },
  {
   "cell_type": "code",
   "execution_count": 99,
   "metadata": {
    "scrolled": true
   },
   "outputs": [
    {
     "data": {
      "text/html": [
       "<table class=\"simpletable\">\n",
       "<caption>OLS Regression Results</caption>\n",
       "<tr>\n",
       "  <th>Dep. Variable:</th>          <td>price</td>      <th>  R-squared:         </th>  <td>   0.721</td>  \n",
       "</tr>\n",
       "<tr>\n",
       "  <th>Model:</th>                   <td>OLS</td>       <th>  Adj. R-squared:    </th>  <td>   0.721</td>  \n",
       "</tr>\n",
       "<tr>\n",
       "  <th>Method:</th>             <td>Least Squares</td>  <th>  F-statistic:       </th>  <td>   1871.</td>  \n",
       "</tr>\n",
       "<tr>\n",
       "  <th>Date:</th>             <td>Fri, 17 Jul 2020</td> <th>  Prob (F-statistic):</th>   <td>  0.00</td>   \n",
       "</tr>\n",
       "<tr>\n",
       "  <th>Time:</th>                 <td>11:59:59</td>     <th>  Log-Likelihood:    </th> <td>-2.6801e+05</td>\n",
       "</tr>\n",
       "<tr>\n",
       "  <th>No. Observations:</th>      <td> 20277</td>      <th>  AIC:               </th>  <td>5.361e+05</td> \n",
       "</tr>\n",
       "<tr>\n",
       "  <th>Df Residuals:</th>          <td> 20248</td>      <th>  BIC:               </th>  <td>5.363e+05</td> \n",
       "</tr>\n",
       "<tr>\n",
       "  <th>Df Model:</th>              <td>    28</td>      <th>                     </th>      <td> </td>     \n",
       "</tr>\n",
       "<tr>\n",
       "  <th>Covariance Type:</th>      <td>nonrobust</td>    <th>                     </th>      <td> </td>     \n",
       "</tr>\n",
       "</table>\n",
       "<table class=\"simpletable\">\n",
       "<tr>\n",
       "          <td></td>            <th>coef</th>     <th>std err</th>      <th>t</th>      <th>P>|t|</th>  <th>[0.025</th>    <th>0.975]</th>  \n",
       "</tr>\n",
       "<tr>\n",
       "  <th>id</th>               <td>-1.361e-06</td> <td> 3.29e-07</td> <td>   -4.136</td> <td> 0.000</td> <td>-2.01e-06</td> <td>-7.16e-07</td>\n",
       "</tr>\n",
       "<tr>\n",
       "  <th>bedrooms_norm</th>    <td>-4.761e+04</td> <td> 7257.781</td> <td>   -6.560</td> <td> 0.000</td> <td>-6.18e+04</td> <td>-3.34e+04</td>\n",
       "</tr>\n",
       "<tr>\n",
       "  <th>bathrooms_norm</th>   <td>  1.34e+05</td> <td> 1.11e+04</td> <td>   12.070</td> <td> 0.000</td> <td> 1.12e+05</td> <td> 1.56e+05</td>\n",
       "</tr>\n",
       "<tr>\n",
       "  <th>sqft_living</th>      <td>   92.3002</td> <td>    2.709</td> <td>   34.077</td> <td> 0.000</td> <td>   86.991</td> <td>   97.609</td>\n",
       "</tr>\n",
       "<tr>\n",
       "  <th>sqft_lot_norm</th>    <td> 7.642e+04</td> <td> 1.87e+04</td> <td>    4.096</td> <td> 0.000</td> <td> 3.98e+04</td> <td> 1.13e+05</td>\n",
       "</tr>\n",
       "<tr>\n",
       "  <th>floors_norm</th>      <td> 4.543e+04</td> <td> 6271.348</td> <td>    7.244</td> <td> 0.000</td> <td> 3.31e+04</td> <td> 5.77e+04</td>\n",
       "</tr>\n",
       "<tr>\n",
       "  <th>waterfront</th>       <td> 3.855e+05</td> <td> 1.56e+04</td> <td>   24.646</td> <td> 0.000</td> <td> 3.55e+05</td> <td> 4.16e+05</td>\n",
       "</tr>\n",
       "<tr>\n",
       "  <th>has_basement</th>     <td> 1.108e+04</td> <td> 2354.541</td> <td>    4.706</td> <td> 0.000</td> <td> 6464.947</td> <td> 1.57e+04</td>\n",
       "</tr>\n",
       "<tr>\n",
       "  <th>yr_built_norm</th>    <td>-2.089e+05</td> <td> 5931.022</td> <td>  -35.222</td> <td> 0.000</td> <td>-2.21e+05</td> <td>-1.97e+05</td>\n",
       "</tr>\n",
       "<tr>\n",
       "  <th>renovated</th>        <td> 5.064e+04</td> <td> 5598.530</td> <td>    9.045</td> <td> 0.000</td> <td> 3.97e+04</td> <td> 6.16e+04</td>\n",
       "</tr>\n",
       "<tr>\n",
       "  <th>sqft_living15</th>    <td>   49.2384</td> <td>    2.531</td> <td>   19.456</td> <td> 0.000</td> <td>   44.278</td> <td>   54.199</td>\n",
       "</tr>\n",
       "<tr>\n",
       "  <th>sqft_lot15_norm</th>  <td>-9.701e+04</td> <td> 1.65e+04</td> <td>   -5.892</td> <td> 0.000</td> <td>-1.29e+05</td> <td>-6.47e+04</td>\n",
       "</tr>\n",
       "<tr>\n",
       "  <th>day_of_year_norm</th> <td>-3.184e+04</td> <td> 3596.265</td> <td>   -8.854</td> <td> 0.000</td> <td>-3.89e+04</td> <td>-2.48e+04</td>\n",
       "</tr>\n",
       "<tr>\n",
       "  <th>sector_2</th>         <td> 1.609e+04</td> <td> 2874.588</td> <td>    5.596</td> <td> 0.000</td> <td> 1.05e+04</td> <td> 2.17e+04</td>\n",
       "</tr>\n",
       "<tr>\n",
       "  <th>sector_3</th>         <td>-1.738e+05</td> <td> 2916.843</td> <td>  -59.598</td> <td> 0.000</td> <td> -1.8e+05</td> <td>-1.68e+05</td>\n",
       "</tr>\n",
       "<tr>\n",
       "  <th>sector_4</th>         <td> -1.88e+05</td> <td> 3316.785</td> <td>  -56.673</td> <td> 0.000</td> <td>-1.94e+05</td> <td>-1.81e+05</td>\n",
       "</tr>\n",
       "<tr>\n",
       "  <th>grd_4</th>            <td> 6.391e+04</td> <td>  3.6e+04</td> <td>    1.777</td> <td> 0.076</td> <td>-6593.648</td> <td> 1.34e+05</td>\n",
       "</tr>\n",
       "<tr>\n",
       "  <th>grd_5</th>            <td>  6.28e+04</td> <td> 2.67e+04</td> <td>    2.355</td> <td> 0.019</td> <td> 1.05e+04</td> <td> 1.15e+05</td>\n",
       "</tr>\n",
       "<tr>\n",
       "  <th>grd_6</th>            <td> 8.124e+04</td> <td> 2.61e+04</td> <td>    3.114</td> <td> 0.002</td> <td> 3.01e+04</td> <td> 1.32e+05</td>\n",
       "</tr>\n",
       "<tr>\n",
       "  <th>grd_7</th>            <td> 1.397e+05</td> <td> 2.61e+04</td> <td>    5.354</td> <td> 0.000</td> <td> 8.86e+04</td> <td> 1.91e+05</td>\n",
       "</tr>\n",
       "<tr>\n",
       "  <th>grd_8</th>            <td> 2.157e+05</td> <td> 2.63e+04</td> <td>    8.205</td> <td> 0.000</td> <td> 1.64e+05</td> <td> 2.67e+05</td>\n",
       "</tr>\n",
       "<tr>\n",
       "  <th>grd_9</th>            <td> 3.341e+05</td> <td> 2.67e+04</td> <td>   12.508</td> <td> 0.000</td> <td> 2.82e+05</td> <td> 3.86e+05</td>\n",
       "</tr>\n",
       "<tr>\n",
       "  <th>grd_10</th>           <td> 4.347e+05</td> <td> 2.73e+04</td> <td>   15.948</td> <td> 0.000</td> <td> 3.81e+05</td> <td> 4.88e+05</td>\n",
       "</tr>\n",
       "<tr>\n",
       "  <th>grd_11</th>           <td> 5.309e+05</td> <td> 2.88e+04</td> <td>   18.411</td> <td> 0.000</td> <td> 4.74e+05</td> <td> 5.87e+05</td>\n",
       "</tr>\n",
       "<tr>\n",
       "  <th>grd_12</th>           <td> 7.262e+05</td> <td> 4.03e+04</td> <td>   18.023</td> <td> 0.000</td> <td> 6.47e+05</td> <td> 8.05e+05</td>\n",
       "</tr>\n",
       "<tr>\n",
       "  <th>cond_2</th>           <td> 3.666e+04</td> <td> 2.75e+04</td> <td>    1.331</td> <td> 0.183</td> <td>-1.73e+04</td> <td> 9.06e+04</td>\n",
       "</tr>\n",
       "<tr>\n",
       "  <th>cond_3</th>           <td> 6.004e+04</td> <td> 2.54e+04</td> <td>    2.363</td> <td> 0.018</td> <td> 1.02e+04</td> <td>  1.1e+05</td>\n",
       "</tr>\n",
       "<tr>\n",
       "  <th>cond_4</th>           <td>  9.48e+04</td> <td> 2.54e+04</td> <td>    3.729</td> <td> 0.000</td> <td>  4.5e+04</td> <td> 1.45e+05</td>\n",
       "</tr>\n",
       "<tr>\n",
       "  <th>cond_5</th>           <td> 1.251e+05</td> <td> 2.56e+04</td> <td>    4.895</td> <td> 0.000</td> <td>  7.5e+04</td> <td> 1.75e+05</td>\n",
       "</tr>\n",
       "</table>\n",
       "<table class=\"simpletable\">\n",
       "<tr>\n",
       "  <th>Omnibus:</th>       <td>5429.578</td> <th>  Durbin-Watson:     </th> <td>   1.975</td> \n",
       "</tr>\n",
       "<tr>\n",
       "  <th>Prob(Omnibus):</th>  <td> 0.000</td>  <th>  Jarque-Bera (JB):  </th> <td>23933.162</td>\n",
       "</tr>\n",
       "<tr>\n",
       "  <th>Skew:</th>           <td> 1.249</td>  <th>  Prob(JB):          </th> <td>    0.00</td> \n",
       "</tr>\n",
       "<tr>\n",
       "  <th>Kurtosis:</th>       <td> 7.700</td>  <th>  Cond. No.          </th> <td>5.48e+11</td> \n",
       "</tr>\n",
       "</table><br/><br/>Warnings:<br/>[1] Standard Errors assume that the covariance matrix of the errors is correctly specified.<br/>[2] The condition number is large, 5.48e+11. This might indicate that there are<br/>strong multicollinearity or other numerical problems."
      ],
      "text/plain": [
       "<class 'statsmodels.iolib.summary.Summary'>\n",
       "\"\"\"\n",
       "                            OLS Regression Results                            \n",
       "==============================================================================\n",
       "Dep. Variable:                  price   R-squared:                       0.721\n",
       "Model:                            OLS   Adj. R-squared:                  0.721\n",
       "Method:                 Least Squares   F-statistic:                     1871.\n",
       "Date:                Fri, 17 Jul 2020   Prob (F-statistic):               0.00\n",
       "Time:                        11:59:59   Log-Likelihood:            -2.6801e+05\n",
       "No. Observations:               20277   AIC:                         5.361e+05\n",
       "Df Residuals:                   20248   BIC:                         5.363e+05\n",
       "Df Model:                          28                                         \n",
       "Covariance Type:            nonrobust                                         \n",
       "====================================================================================\n",
       "                       coef    std err          t      P>|t|      [0.025      0.975]\n",
       "------------------------------------------------------------------------------------\n",
       "id               -1.361e-06   3.29e-07     -4.136      0.000   -2.01e-06   -7.16e-07\n",
       "bedrooms_norm    -4.761e+04   7257.781     -6.560      0.000   -6.18e+04   -3.34e+04\n",
       "bathrooms_norm     1.34e+05   1.11e+04     12.070      0.000    1.12e+05    1.56e+05\n",
       "sqft_living         92.3002      2.709     34.077      0.000      86.991      97.609\n",
       "sqft_lot_norm     7.642e+04   1.87e+04      4.096      0.000    3.98e+04    1.13e+05\n",
       "floors_norm       4.543e+04   6271.348      7.244      0.000    3.31e+04    5.77e+04\n",
       "waterfront        3.855e+05   1.56e+04     24.646      0.000    3.55e+05    4.16e+05\n",
       "has_basement      1.108e+04   2354.541      4.706      0.000    6464.947    1.57e+04\n",
       "yr_built_norm    -2.089e+05   5931.022    -35.222      0.000   -2.21e+05   -1.97e+05\n",
       "renovated         5.064e+04   5598.530      9.045      0.000    3.97e+04    6.16e+04\n",
       "sqft_living15       49.2384      2.531     19.456      0.000      44.278      54.199\n",
       "sqft_lot15_norm  -9.701e+04   1.65e+04     -5.892      0.000   -1.29e+05   -6.47e+04\n",
       "day_of_year_norm -3.184e+04   3596.265     -8.854      0.000   -3.89e+04   -2.48e+04\n",
       "sector_2          1.609e+04   2874.588      5.596      0.000    1.05e+04    2.17e+04\n",
       "sector_3         -1.738e+05   2916.843    -59.598      0.000    -1.8e+05   -1.68e+05\n",
       "sector_4          -1.88e+05   3316.785    -56.673      0.000   -1.94e+05   -1.81e+05\n",
       "grd_4             6.391e+04    3.6e+04      1.777      0.076   -6593.648    1.34e+05\n",
       "grd_5              6.28e+04   2.67e+04      2.355      0.019    1.05e+04    1.15e+05\n",
       "grd_6             8.124e+04   2.61e+04      3.114      0.002    3.01e+04    1.32e+05\n",
       "grd_7             1.397e+05   2.61e+04      5.354      0.000    8.86e+04    1.91e+05\n",
       "grd_8             2.157e+05   2.63e+04      8.205      0.000    1.64e+05    2.67e+05\n",
       "grd_9             3.341e+05   2.67e+04     12.508      0.000    2.82e+05    3.86e+05\n",
       "grd_10            4.347e+05   2.73e+04     15.948      0.000    3.81e+05    4.88e+05\n",
       "grd_11            5.309e+05   2.88e+04     18.411      0.000    4.74e+05    5.87e+05\n",
       "grd_12            7.262e+05   4.03e+04     18.023      0.000    6.47e+05    8.05e+05\n",
       "cond_2            3.666e+04   2.75e+04      1.331      0.183   -1.73e+04    9.06e+04\n",
       "cond_3            6.004e+04   2.54e+04      2.363      0.018    1.02e+04     1.1e+05\n",
       "cond_4             9.48e+04   2.54e+04      3.729      0.000     4.5e+04    1.45e+05\n",
       "cond_5            1.251e+05   2.56e+04      4.895      0.000     7.5e+04    1.75e+05\n",
       "==============================================================================\n",
       "Omnibus:                     5429.578   Durbin-Watson:                   1.975\n",
       "Prob(Omnibus):                  0.000   Jarque-Bera (JB):            23933.162\n",
       "Skew:                           1.249   Prob(JB):                         0.00\n",
       "Kurtosis:                       7.700   Cond. No.                     5.48e+11\n",
       "==============================================================================\n",
       "\n",
       "Warnings:\n",
       "[1] Standard Errors assume that the covariance matrix of the errors is correctly specified.\n",
       "[2] The condition number is large, 5.48e+11. This might indicate that there are\n",
       "strong multicollinearity or other numerical problems.\n",
       "\"\"\""
      ]
     },
     "execution_count": 99,
     "metadata": {},
     "output_type": "execute_result"
    }
   ],
   "source": [
    "price = df4.price\n",
    "indep = df4.drop('price', axis = 1)\n",
    "\n",
    "model4 = sm.OLS(price, indep).fit()\n",
    "model4.summary()"
   ]
  },
  {
   "cell_type": "markdown",
   "metadata": {},
   "source": [
    "This model shows a marked increase in R-squared value, up from **0.693** to **0.721.** Its main drawback is the multitude of dummy variables as predictors."
   ]
  },
  {
   "cell_type": "code",
   "execution_count": 102,
   "metadata": {},
   "outputs": [
    {
     "name": "stdout",
     "output_type": "stream",
     "text": [
      "Train Mean Squarred Error: 17831361046.040573\n",
      "Test Mean Squarred Error: 17337737907.9303\n"
     ]
    }
   ],
   "source": [
    "y = df4['price']\n",
    "X = df4.drop(['price', 'id'], axis = 1)\n",
    "\n",
    "X_train, X_test, y_train, y_test = train_test_split(X, y, test_size = 0.2)\n",
    "\n",
    "linreg = LinearRegression()\n",
    "linreg.fit(X_train, y_train)\n",
    "\n",
    "y_hat_train = linreg.predict(X_train)\n",
    "y_hat_test = linreg.predict(X_test)\n",
    "\n",
    "mse_train = np.sum((y_train-y_hat_train)**2)/len(y_train)\n",
    "mse_test =np.sum((y_test-y_hat_test)**2)/len(y_test)\n",
    "print('Train Mean Squarred Error:', mse_train)\n",
    "print('Test Mean Squarred Error:', mse_test)"
   ]
  },
  {
   "cell_type": "code",
   "execution_count": 103,
   "metadata": {},
   "outputs": [
    {
     "name": "stdout",
     "output_type": "stream",
     "text": [
      "Train Root Mean Squarred Error: 138602.2162629669\n",
      "Test Root Mean Squarred Error: 131672.8442311865\n"
     ]
    }
   ],
   "source": [
    "rmse_test = np.sqrt(mse_test)\n",
    "print('Train Root Mean Squarred Error:', rmse_train)\n",
    "print('Test Root Mean Squarred Error:', rmse_test)"
   ]
  },
  {
   "cell_type": "markdown",
   "metadata": {},
   "source": [
    "RMSE has barely changed since the last model. For the following model, we're going to try and just use the strongest predictors and nothing else."
   ]
  },
  {
   "cell_type": "markdown",
   "metadata": {},
   "source": [
    "# Model 4: Selective Predictors"
   ]
  },
  {
   "cell_type": "markdown",
   "metadata": {},
   "source": [
    "This model uses predictors with coefficients (from the previous model) having lengths of 6 or greater."
   ]
  },
  {
   "cell_type": "markdown",
   "metadata": {},
   "source": [
    "## Model 4"
   ]
  },
  {
   "cell_type": "code",
   "execution_count": 106,
   "metadata": {
    "scrolled": true
   },
   "outputs": [
    {
     "data": {
      "text/html": [
       "<table class=\"simpletable\">\n",
       "<caption>OLS Regression Results</caption>\n",
       "<tr>\n",
       "  <th>Dep. Variable:</th>          <td>price</td>      <th>  R-squared:         </th>  <td>   0.675</td>  \n",
       "</tr>\n",
       "<tr>\n",
       "  <th>Model:</th>                   <td>OLS</td>       <th>  Adj. R-squared:    </th>  <td>   0.675</td>  \n",
       "</tr>\n",
       "<tr>\n",
       "  <th>Method:</th>             <td>Least Squares</td>  <th>  F-statistic:       </th>  <td>   3507.</td>  \n",
       "</tr>\n",
       "<tr>\n",
       "  <th>Date:</th>             <td>Fri, 17 Jul 2020</td> <th>  Prob (F-statistic):</th>   <td>  0.00</td>   \n",
       "</tr>\n",
       "<tr>\n",
       "  <th>Time:</th>                 <td>12:17:26</td>     <th>  Log-Likelihood:    </th> <td>-2.6957e+05</td>\n",
       "</tr>\n",
       "<tr>\n",
       "  <th>No. Observations:</th>      <td> 20277</td>      <th>  AIC:               </th>  <td>5.392e+05</td> \n",
       "</tr>\n",
       "<tr>\n",
       "  <th>Df Residuals:</th>          <td> 20264</td>      <th>  BIC:               </th>  <td>5.393e+05</td> \n",
       "</tr>\n",
       "<tr>\n",
       "  <th>Df Model:</th>              <td>    12</td>      <th>                     </th>      <td> </td>     \n",
       "</tr>\n",
       "<tr>\n",
       "  <th>Covariance Type:</th>      <td>nonrobust</td>    <th>                     </th>      <td> </td>     \n",
       "</tr>\n",
       "</table>\n",
       "<table class=\"simpletable\">\n",
       "<tr>\n",
       "         <td></td>           <th>coef</th>     <th>std err</th>      <th>t</th>      <th>P>|t|</th>  <th>[0.025</th>    <th>0.975]</th>  \n",
       "</tr>\n",
       "<tr>\n",
       "  <th>Intercept</th>      <td> 3.662e+05</td> <td> 3726.238</td> <td>   98.268</td> <td> 0.000</td> <td> 3.59e+05</td> <td> 3.73e+05</td>\n",
       "</tr>\n",
       "<tr>\n",
       "  <th>bathrooms_norm</th> <td> 4.313e+05</td> <td> 9340.280</td> <td>   46.176</td> <td> 0.000</td> <td> 4.13e+05</td> <td>  4.5e+05</td>\n",
       "</tr>\n",
       "<tr>\n",
       "  <th>waterfront</th>     <td> 4.008e+05</td> <td> 1.67e+04</td> <td>   23.948</td> <td> 0.000</td> <td> 3.68e+05</td> <td> 4.34e+05</td>\n",
       "</tr>\n",
       "<tr>\n",
       "  <th>yr_built_norm</th>  <td>-2.877e+05</td> <td> 5171.495</td> <td>  -55.626</td> <td> 0.000</td> <td>-2.98e+05</td> <td>-2.78e+05</td>\n",
       "</tr>\n",
       "<tr>\n",
       "  <th>sector_3</th>       <td>-1.693e+05</td> <td> 2784.028</td> <td>  -60.818</td> <td> 0.000</td> <td>-1.75e+05</td> <td>-1.64e+05</td>\n",
       "</tr>\n",
       "<tr>\n",
       "  <th>sector_4</th>       <td>-1.927e+05</td> <td> 3124.588</td> <td>  -61.657</td> <td> 0.000</td> <td>-1.99e+05</td> <td>-1.87e+05</td>\n",
       "</tr>\n",
       "<tr>\n",
       "  <th>grd_7</th>          <td> 9.865e+04</td> <td> 3653.223</td> <td>   27.004</td> <td> 0.000</td> <td> 9.15e+04</td> <td> 1.06e+05</td>\n",
       "</tr>\n",
       "<tr>\n",
       "  <th>grd_8</th>          <td> 2.171e+05</td> <td> 4287.914</td> <td>   50.628</td> <td> 0.000</td> <td> 2.09e+05</td> <td> 2.25e+05</td>\n",
       "</tr>\n",
       "<tr>\n",
       "  <th>grd_9</th>          <td> 4.016e+05</td> <td> 5195.346</td> <td>   77.295</td> <td> 0.000</td> <td> 3.91e+05</td> <td> 4.12e+05</td>\n",
       "</tr>\n",
       "<tr>\n",
       "  <th>grd_10</th>         <td> 5.527e+05</td> <td> 6696.033</td> <td>   82.538</td> <td> 0.000</td> <td>  5.4e+05</td> <td> 5.66e+05</td>\n",
       "</tr>\n",
       "<tr>\n",
       "  <th>grd_11</th>         <td> 7.055e+05</td> <td> 1.11e+04</td> <td>   63.387</td> <td> 0.000</td> <td> 6.84e+05</td> <td> 7.27e+05</td>\n",
       "</tr>\n",
       "<tr>\n",
       "  <th>grd_12</th>         <td>  9.63e+05</td> <td> 3.18e+04</td> <td>   30.284</td> <td> 0.000</td> <td> 9.01e+05</td> <td> 1.03e+06</td>\n",
       "</tr>\n",
       "<tr>\n",
       "  <th>cond_5</th>         <td> 4.369e+04</td> <td> 3913.268</td> <td>   11.164</td> <td> 0.000</td> <td>  3.6e+04</td> <td> 5.14e+04</td>\n",
       "</tr>\n",
       "</table>\n",
       "<table class=\"simpletable\">\n",
       "<tr>\n",
       "  <th>Omnibus:</th>       <td>5172.218</td> <th>  Durbin-Watson:     </th> <td>   1.961</td> \n",
       "</tr>\n",
       "<tr>\n",
       "  <th>Prob(Omnibus):</th>  <td> 0.000</td>  <th>  Jarque-Bera (JB):  </th> <td>20692.555</td>\n",
       "</tr>\n",
       "<tr>\n",
       "  <th>Skew:</th>           <td> 1.218</td>  <th>  Prob(JB):          </th> <td>    0.00</td> \n",
       "</tr>\n",
       "<tr>\n",
       "  <th>Kurtosis:</th>       <td> 7.308</td>  <th>  Cond. No.          </th> <td>    36.9</td> \n",
       "</tr>\n",
       "</table><br/><br/>Warnings:<br/>[1] Standard Errors assume that the covariance matrix of the errors is correctly specified."
      ],
      "text/plain": [
       "<class 'statsmodels.iolib.summary.Summary'>\n",
       "\"\"\"\n",
       "                            OLS Regression Results                            \n",
       "==============================================================================\n",
       "Dep. Variable:                  price   R-squared:                       0.675\n",
       "Model:                            OLS   Adj. R-squared:                  0.675\n",
       "Method:                 Least Squares   F-statistic:                     3507.\n",
       "Date:                Fri, 17 Jul 2020   Prob (F-statistic):               0.00\n",
       "Time:                        12:17:26   Log-Likelihood:            -2.6957e+05\n",
       "No. Observations:               20277   AIC:                         5.392e+05\n",
       "Df Residuals:                   20264   BIC:                         5.393e+05\n",
       "Df Model:                          12                                         \n",
       "Covariance Type:            nonrobust                                         \n",
       "==================================================================================\n",
       "                     coef    std err          t      P>|t|      [0.025      0.975]\n",
       "----------------------------------------------------------------------------------\n",
       "Intercept       3.662e+05   3726.238     98.268      0.000    3.59e+05    3.73e+05\n",
       "bathrooms_norm  4.313e+05   9340.280     46.176      0.000    4.13e+05     4.5e+05\n",
       "waterfront      4.008e+05   1.67e+04     23.948      0.000    3.68e+05    4.34e+05\n",
       "yr_built_norm  -2.877e+05   5171.495    -55.626      0.000   -2.98e+05   -2.78e+05\n",
       "sector_3       -1.693e+05   2784.028    -60.818      0.000   -1.75e+05   -1.64e+05\n",
       "sector_4       -1.927e+05   3124.588    -61.657      0.000   -1.99e+05   -1.87e+05\n",
       "grd_7           9.865e+04   3653.223     27.004      0.000    9.15e+04    1.06e+05\n",
       "grd_8           2.171e+05   4287.914     50.628      0.000    2.09e+05    2.25e+05\n",
       "grd_9           4.016e+05   5195.346     77.295      0.000    3.91e+05    4.12e+05\n",
       "grd_10          5.527e+05   6696.033     82.538      0.000     5.4e+05    5.66e+05\n",
       "grd_11          7.055e+05   1.11e+04     63.387      0.000    6.84e+05    7.27e+05\n",
       "grd_12           9.63e+05   3.18e+04     30.284      0.000    9.01e+05    1.03e+06\n",
       "cond_5          4.369e+04   3913.268     11.164      0.000     3.6e+04    5.14e+04\n",
       "==============================================================================\n",
       "Omnibus:                     5172.218   Durbin-Watson:                   1.961\n",
       "Prob(Omnibus):                  0.000   Jarque-Bera (JB):            20692.555\n",
       "Skew:                           1.218   Prob(JB):                         0.00\n",
       "Kurtosis:                       7.308   Cond. No.                         36.9\n",
       "==============================================================================\n",
       "\n",
       "Warnings:\n",
       "[1] Standard Errors assume that the covariance matrix of the errors is correctly specified.\n",
       "\"\"\""
      ]
     },
     "execution_count": 106,
     "metadata": {},
     "output_type": "execute_result"
    }
   ],
   "source": [
    "indep = ['bathrooms_norm', 'waterfront', 'yr_built_norm', 'sector_3', 'sector_4',\n",
    "         'grd_7', 'grd_8', 'grd_9', 'grd_10', 'grd_11', 'grd_12', 'cond_5']\n",
    "\n",
    "f = 'price~' + '+'.join(indep)\n",
    "\n",
    "model4 = smf.ols(formula=f, data=df4).fit()\n",
    "model4.summary()"
   ]
  },
  {
   "cell_type": "markdown",
   "metadata": {},
   "source": [
    "Interestingly enough, using only predictors with the highest coefficients tanked the model's R-squared value from **0.721** to **0.675.** Let's see if the RMSE did any better despite this. I'm predicting a massive increase in error since we're wrangling the larger coefficients now, and almost all are positive."
   ]
  },
  {
   "cell_type": "code",
   "execution_count": 109,
   "metadata": {},
   "outputs": [
    {
     "name": "stdout",
     "output_type": "stream",
     "text": [
      "Train Mean Squarred Error: 20502845088.4747\n",
      "Test Mean Squarred Error: 21235753536.667896\n"
     ]
    }
   ],
   "source": [
    "y = df4['price']\n",
    "X = df4[indep]\n",
    "\n",
    "X_train, X_test, y_train, y_test = train_test_split(X, y, test_size = 0.2)\n",
    "\n",
    "linreg = LinearRegression()\n",
    "linreg.fit(X_train, y_train)\n",
    "\n",
    "y_hat_train = linreg.predict(X_train)\n",
    "y_hat_test = linreg.predict(X_test)\n",
    "\n",
    "mse_train = np.sum((y_train-y_hat_train)**2)/len(y_train)\n",
    "mse_test =np.sum((y_test-y_hat_test)**2)/len(y_test)\n",
    "print('Train Mean Squarred Error:', mse_train)\n",
    "print('Test Mean Squarred Error:', mse_test)"
   ]
  },
  {
   "cell_type": "code",
   "execution_count": 110,
   "metadata": {
    "scrolled": true
   },
   "outputs": [
    {
     "name": "stdout",
     "output_type": "stream",
     "text": [
      "Train Root Mean Squarred Error: 138602.2162629669\n",
      "Test Root Mean Squarred Error: 145724.92421225648\n"
     ]
    }
   ],
   "source": [
    "rmse_test = np.sqrt(mse_test)\n",
    "print('Train Root Mean Squarred Error:', rmse_train)\n",
    "print('Test Root Mean Squarred Error:', rmse_test)"
   ]
  },
  {
   "cell_type": "markdown",
   "metadata": {},
   "source": [
    "Overall, not a terrible change. Test data did noticeably worse when compared to the differences in other models. Either way, this model is being scrapped and **model 3** will be used going forward to base new models on."
   ]
  },
  {
   "cell_type": "markdown",
   "metadata": {},
   "source": [
    "# Model 5: Only P-Values Under 0.05"
   ]
  },
  {
   "cell_type": "markdown",
   "metadata": {},
   "source": [
    "This model uses only predictors that displayed a p-value of 0.05 or less in model 3."
   ]
  },
  {
   "cell_type": "markdown",
   "metadata": {},
   "source": [
    "## Model 5"
   ]
  },
  {
   "cell_type": "code",
   "execution_count": 111,
   "metadata": {
    "scrolled": true
   },
   "outputs": [
    {
     "data": {
      "text/html": [
       "<table class=\"simpletable\">\n",
       "<caption>OLS Regression Results</caption>\n",
       "<tr>\n",
       "  <th>Dep. Variable:</th>          <td>price</td>      <th>  R-squared:         </th>  <td>   0.721</td>  \n",
       "</tr>\n",
       "<tr>\n",
       "  <th>Model:</th>                   <td>OLS</td>       <th>  Adj. R-squared:    </th>  <td>   0.721</td>  \n",
       "</tr>\n",
       "<tr>\n",
       "  <th>Method:</th>             <td>Least Squares</td>  <th>  F-statistic:       </th>  <td>   2179.</td>  \n",
       "</tr>\n",
       "<tr>\n",
       "  <th>Date:</th>             <td>Fri, 17 Jul 2020</td> <th>  Prob (F-statistic):</th>   <td>  0.00</td>   \n",
       "</tr>\n",
       "<tr>\n",
       "  <th>Time:</th>                 <td>12:46:46</td>     <th>  Log-Likelihood:    </th> <td>-2.6803e+05</td>\n",
       "</tr>\n",
       "<tr>\n",
       "  <th>No. Observations:</th>      <td> 20277</td>      <th>  AIC:               </th>  <td>5.361e+05</td> \n",
       "</tr>\n",
       "<tr>\n",
       "  <th>Df Residuals:</th>          <td> 20252</td>      <th>  BIC:               </th>  <td>5.363e+05</td> \n",
       "</tr>\n",
       "<tr>\n",
       "  <th>Df Model:</th>              <td>    24</td>      <th>                     </th>      <td> </td>     \n",
       "</tr>\n",
       "<tr>\n",
       "  <th>Covariance Type:</th>      <td>nonrobust</td>    <th>                     </th>      <td> </td>     \n",
       "</tr>\n",
       "</table>\n",
       "<table class=\"simpletable\">\n",
       "<tr>\n",
       "          <td></td>            <th>coef</th>     <th>std err</th>      <th>t</th>      <th>P>|t|</th>  <th>[0.025</th>    <th>0.975]</th>  \n",
       "</tr>\n",
       "<tr>\n",
       "  <th>Intercept</th>        <td> 1.143e+05</td> <td> 9988.834</td> <td>   11.447</td> <td> 0.000</td> <td> 9.48e+04</td> <td> 1.34e+05</td>\n",
       "</tr>\n",
       "<tr>\n",
       "  <th>bedrooms_norm</th>    <td>-4.713e+04</td> <td> 7260.915</td> <td>   -6.492</td> <td> 0.000</td> <td>-6.14e+04</td> <td>-3.29e+04</td>\n",
       "</tr>\n",
       "<tr>\n",
       "  <th>bathrooms_norm</th>   <td> 1.342e+05</td> <td> 1.11e+04</td> <td>   12.086</td> <td> 0.000</td> <td> 1.12e+05</td> <td> 1.56e+05</td>\n",
       "</tr>\n",
       "<tr>\n",
       "  <th>sqft_living</th>      <td>   92.2406</td> <td>    2.709</td> <td>   34.044</td> <td> 0.000</td> <td>   86.930</td> <td>   97.551</td>\n",
       "</tr>\n",
       "<tr>\n",
       "  <th>sqft_lot_norm</th>    <td> 7.807e+04</td> <td> 1.86e+04</td> <td>    4.191</td> <td> 0.000</td> <td> 4.16e+04</td> <td> 1.15e+05</td>\n",
       "</tr>\n",
       "<tr>\n",
       "  <th>floors_norm</th>      <td> 4.588e+04</td> <td> 6273.752</td> <td>    7.313</td> <td> 0.000</td> <td> 3.36e+04</td> <td> 5.82e+04</td>\n",
       "</tr>\n",
       "<tr>\n",
       "  <th>waterfront</th>       <td> 3.841e+05</td> <td> 1.56e+04</td> <td>   24.555</td> <td> 0.000</td> <td> 3.53e+05</td> <td> 4.15e+05</td>\n",
       "</tr>\n",
       "<tr>\n",
       "  <th>has_basement</th>     <td> 1.118e+04</td> <td> 2355.464</td> <td>    4.748</td> <td> 0.000</td> <td> 6566.294</td> <td> 1.58e+04</td>\n",
       "</tr>\n",
       "<tr>\n",
       "  <th>yr_built_norm</th>    <td>-2.078e+05</td> <td> 5923.450</td> <td>  -35.080</td> <td> 0.000</td> <td>-2.19e+05</td> <td>-1.96e+05</td>\n",
       "</tr>\n",
       "<tr>\n",
       "  <th>renovated</th>        <td> 5.129e+04</td> <td> 5599.087</td> <td>    9.161</td> <td> 0.000</td> <td> 4.03e+04</td> <td> 6.23e+04</td>\n",
       "</tr>\n",
       "<tr>\n",
       "  <th>sqft_living15</th>    <td>   48.9246</td> <td>    2.532</td> <td>   19.326</td> <td> 0.000</td> <td>   43.962</td> <td>   53.887</td>\n",
       "</tr>\n",
       "<tr>\n",
       "  <th>sqft_lot15_norm</th>  <td>-9.314e+04</td> <td> 1.65e+04</td> <td>   -5.660</td> <td> 0.000</td> <td>-1.25e+05</td> <td>-6.09e+04</td>\n",
       "</tr>\n",
       "<tr>\n",
       "  <th>day_of_year_norm</th> <td> -3.16e+04</td> <td> 3597.918</td> <td>   -8.784</td> <td> 0.000</td> <td>-3.87e+04</td> <td>-2.46e+04</td>\n",
       "</tr>\n",
       "<tr>\n",
       "  <th>sector_2</th>         <td>  1.66e+04</td> <td> 2873.807</td> <td>    5.776</td> <td> 0.000</td> <td>  1.1e+04</td> <td> 2.22e+04</td>\n",
       "</tr>\n",
       "<tr>\n",
       "  <th>sector_3</th>         <td>-1.735e+05</td> <td> 2917.552</td> <td>  -59.457</td> <td> 0.000</td> <td>-1.79e+05</td> <td>-1.68e+05</td>\n",
       "</tr>\n",
       "<tr>\n",
       "  <th>sector_4</th>         <td>-1.879e+05</td> <td> 3317.937</td> <td>  -56.634</td> <td> 0.000</td> <td>-1.94e+05</td> <td>-1.81e+05</td>\n",
       "</tr>\n",
       "<tr>\n",
       "  <th>grd_6</th>            <td> 2.014e+04</td> <td> 8995.175</td> <td>    2.239</td> <td> 0.025</td> <td> 2511.548</td> <td> 3.78e+04</td>\n",
       "</tr>\n",
       "<tr>\n",
       "  <th>grd_7</th>            <td> 7.906e+04</td> <td> 8801.801</td> <td>    8.983</td> <td> 0.000</td> <td> 6.18e+04</td> <td> 9.63e+04</td>\n",
       "</tr>\n",
       "<tr>\n",
       "  <th>grd_8</th>            <td> 1.548e+05</td> <td> 9184.760</td> <td>   16.859</td> <td> 0.000</td> <td> 1.37e+05</td> <td> 1.73e+05</td>\n",
       "</tr>\n",
       "<tr>\n",
       "  <th>grd_9</th>            <td> 2.735e+05</td> <td> 9897.207</td> <td>   27.630</td> <td> 0.000</td> <td> 2.54e+05</td> <td> 2.93e+05</td>\n",
       "</tr>\n",
       "<tr>\n",
       "  <th>grd_10</th>           <td> 3.743e+05</td> <td>  1.1e+04</td> <td>   34.125</td> <td> 0.000</td> <td> 3.53e+05</td> <td> 3.96e+05</td>\n",
       "</tr>\n",
       "<tr>\n",
       "  <th>grd_11</th>           <td>  4.71e+05</td> <td> 1.41e+04</td> <td>   33.361</td> <td> 0.000</td> <td> 4.43e+05</td> <td> 4.99e+05</td>\n",
       "</tr>\n",
       "<tr>\n",
       "  <th>grd_12</th>           <td> 6.652e+05</td> <td> 3.13e+04</td> <td>   21.260</td> <td> 0.000</td> <td> 6.04e+05</td> <td> 7.27e+05</td>\n",
       "</tr>\n",
       "<tr>\n",
       "  <th>cond_4</th>           <td> 3.558e+04</td> <td> 2367.158</td> <td>   15.029</td> <td> 0.000</td> <td> 3.09e+04</td> <td> 4.02e+04</td>\n",
       "</tr>\n",
       "<tr>\n",
       "  <th>cond_5</th>           <td> 6.595e+04</td> <td> 3808.295</td> <td>   17.316</td> <td> 0.000</td> <td> 5.85e+04</td> <td> 7.34e+04</td>\n",
       "</tr>\n",
       "</table>\n",
       "<table class=\"simpletable\">\n",
       "<tr>\n",
       "  <th>Omnibus:</th>       <td>5400.700</td> <th>  Durbin-Watson:     </th> <td>   1.975</td> \n",
       "</tr>\n",
       "<tr>\n",
       "  <th>Prob(Omnibus):</th>  <td> 0.000</td>  <th>  Jarque-Bera (JB):  </th> <td>23632.897</td>\n",
       "</tr>\n",
       "<tr>\n",
       "  <th>Skew:</th>           <td> 1.244</td>  <th>  Prob(JB):          </th> <td>    0.00</td> \n",
       "</tr>\n",
       "<tr>\n",
       "  <th>Kurtosis:</th>       <td> 7.667</td>  <th>  Cond. No.          </th> <td>1.04e+05</td> \n",
       "</tr>\n",
       "</table><br/><br/>Warnings:<br/>[1] Standard Errors assume that the covariance matrix of the errors is correctly specified.<br/>[2] The condition number is large, 1.04e+05. This might indicate that there are<br/>strong multicollinearity or other numerical problems."
      ],
      "text/plain": [
       "<class 'statsmodels.iolib.summary.Summary'>\n",
       "\"\"\"\n",
       "                            OLS Regression Results                            \n",
       "==============================================================================\n",
       "Dep. Variable:                  price   R-squared:                       0.721\n",
       "Model:                            OLS   Adj. R-squared:                  0.721\n",
       "Method:                 Least Squares   F-statistic:                     2179.\n",
       "Date:                Fri, 17 Jul 2020   Prob (F-statistic):               0.00\n",
       "Time:                        12:46:46   Log-Likelihood:            -2.6803e+05\n",
       "No. Observations:               20277   AIC:                         5.361e+05\n",
       "Df Residuals:                   20252   BIC:                         5.363e+05\n",
       "Df Model:                          24                                         \n",
       "Covariance Type:            nonrobust                                         \n",
       "====================================================================================\n",
       "                       coef    std err          t      P>|t|      [0.025      0.975]\n",
       "------------------------------------------------------------------------------------\n",
       "Intercept         1.143e+05   9988.834     11.447      0.000    9.48e+04    1.34e+05\n",
       "bedrooms_norm    -4.713e+04   7260.915     -6.492      0.000   -6.14e+04   -3.29e+04\n",
       "bathrooms_norm    1.342e+05   1.11e+04     12.086      0.000    1.12e+05    1.56e+05\n",
       "sqft_living         92.2406      2.709     34.044      0.000      86.930      97.551\n",
       "sqft_lot_norm     7.807e+04   1.86e+04      4.191      0.000    4.16e+04    1.15e+05\n",
       "floors_norm       4.588e+04   6273.752      7.313      0.000    3.36e+04    5.82e+04\n",
       "waterfront        3.841e+05   1.56e+04     24.555      0.000    3.53e+05    4.15e+05\n",
       "has_basement      1.118e+04   2355.464      4.748      0.000    6566.294    1.58e+04\n",
       "yr_built_norm    -2.078e+05   5923.450    -35.080      0.000   -2.19e+05   -1.96e+05\n",
       "renovated         5.129e+04   5599.087      9.161      0.000    4.03e+04    6.23e+04\n",
       "sqft_living15       48.9246      2.532     19.326      0.000      43.962      53.887\n",
       "sqft_lot15_norm  -9.314e+04   1.65e+04     -5.660      0.000   -1.25e+05   -6.09e+04\n",
       "day_of_year_norm  -3.16e+04   3597.918     -8.784      0.000   -3.87e+04   -2.46e+04\n",
       "sector_2           1.66e+04   2873.807      5.776      0.000     1.1e+04    2.22e+04\n",
       "sector_3         -1.735e+05   2917.552    -59.457      0.000   -1.79e+05   -1.68e+05\n",
       "sector_4         -1.879e+05   3317.937    -56.634      0.000   -1.94e+05   -1.81e+05\n",
       "grd_6             2.014e+04   8995.175      2.239      0.025    2511.548    3.78e+04\n",
       "grd_7             7.906e+04   8801.801      8.983      0.000    6.18e+04    9.63e+04\n",
       "grd_8             1.548e+05   9184.760     16.859      0.000    1.37e+05    1.73e+05\n",
       "grd_9             2.735e+05   9897.207     27.630      0.000    2.54e+05    2.93e+05\n",
       "grd_10            3.743e+05    1.1e+04     34.125      0.000    3.53e+05    3.96e+05\n",
       "grd_11             4.71e+05   1.41e+04     33.361      0.000    4.43e+05    4.99e+05\n",
       "grd_12            6.652e+05   3.13e+04     21.260      0.000    6.04e+05    7.27e+05\n",
       "cond_4            3.558e+04   2367.158     15.029      0.000    3.09e+04    4.02e+04\n",
       "cond_5            6.595e+04   3808.295     17.316      0.000    5.85e+04    7.34e+04\n",
       "==============================================================================\n",
       "Omnibus:                     5400.700   Durbin-Watson:                   1.975\n",
       "Prob(Omnibus):                  0.000   Jarque-Bera (JB):            23632.897\n",
       "Skew:                           1.244   Prob(JB):                         0.00\n",
       "Kurtosis:                       7.667   Cond. No.                     1.04e+05\n",
       "==============================================================================\n",
       "\n",
       "Warnings:\n",
       "[1] Standard Errors assume that the covariance matrix of the errors is correctly specified.\n",
       "[2] The condition number is large, 1.04e+05. This might indicate that there are\n",
       "strong multicollinearity or other numerical problems.\n",
       "\"\"\""
      ]
     },
     "execution_count": 111,
     "metadata": {},
     "output_type": "execute_result"
    }
   ],
   "source": [
    "indep = df4.drop(['price', 'id', 'grd_4', 'grd_5', 'cond_2', \"cond_3\"], axis=1).columns\n",
    "\n",
    "f = 'price~' + '+'.join(indep)\n",
    "\n",
    "model4 = smf.ols(formula=f, data=df4).fit()\n",
    "model4.summary()"
   ]
  },
  {
   "cell_type": "code",
   "execution_count": 112,
   "metadata": {},
   "outputs": [
    {
     "name": "stdout",
     "output_type": "stream",
     "text": [
      "Train Mean Squarred Error: 18086256880.06996\n",
      "Test Mean Squarred Error: 16340215074.913338\n"
     ]
    }
   ],
   "source": [
    "y = df4['price']\n",
    "X = df4[indep]\n",
    "\n",
    "X_train, X_test, y_train, y_test = train_test_split(X, y, test_size = 0.2)\n",
    "\n",
    "linreg = LinearRegression()\n",
    "linreg.fit(X_train, y_train)\n",
    "\n",
    "y_hat_train = linreg.predict(X_train)\n",
    "y_hat_test = linreg.predict(X_test)\n",
    "\n",
    "mse_train = np.sum((y_train-y_hat_train)**2)/len(y_train)\n",
    "mse_test =np.sum((y_test-y_hat_test)**2)/len(y_test)\n",
    "print('Train Mean Squarred Error:', mse_train)\n",
    "print('Test Mean Squarred Error:', mse_test)"
   ]
  },
  {
   "cell_type": "code",
   "execution_count": 113,
   "metadata": {
    "scrolled": true
   },
   "outputs": [
    {
     "name": "stdout",
     "output_type": "stream",
     "text": [
      "Train Root Mean Squarred Error: 138602.2162629669\n",
      "Test Root Mean Squarred Error: 127828.85071420042\n"
     ]
    }
   ],
   "source": [
    "rmse_test = np.sqrt(mse_test)\n",
    "print('Train Root Mean Squarred Error:', rmse_train)\n",
    "print('Test Root Mean Squarred Error:', rmse_test)"
   ]
  },
  {
   "cell_type": "markdown",
   "metadata": {},
   "source": [
    "The trained RMSE and R-squared values are literally identical between this **model 5** and the previous **model 3.** Testing RMSE however took a dip, but not a very considerable one."
   ]
  },
  {
   "cell_type": "markdown",
   "metadata": {},
   "source": [
    "# Model 6: Log Transformations On Continuous Variables"
   ]
  },
  {
   "cell_type": "markdown",
   "metadata": {},
   "source": [
    "This model is based on **model 3.** For it, we will first look at histograms of our continuous variables. From there, we will decide which variables should be log-transformed."
   ]
  },
  {
   "cell_type": "code",
   "execution_count": null,
   "metadata": {},
   "outputs": [],
   "source": []
  },
  {
   "cell_type": "code",
   "execution_count": null,
   "metadata": {},
   "outputs": [],
   "source": []
  },
  {
   "cell_type": "code",
   "execution_count": null,
   "metadata": {},
   "outputs": [],
   "source": []
  },
  {
   "cell_type": "code",
   "execution_count": null,
   "metadata": {},
   "outputs": [],
   "source": []
  },
  {
   "cell_type": "code",
   "execution_count": null,
   "metadata": {},
   "outputs": [],
   "source": []
  },
  {
   "cell_type": "code",
   "execution_count": null,
   "metadata": {},
   "outputs": [],
   "source": []
  },
  {
   "cell_type": "markdown",
   "metadata": {},
   "source": [
    "# Appendix: Train Test Split, MRSE, and Viz Code"
   ]
  },
  {
   "cell_type": "code",
   "execution_count": null,
   "metadata": {},
   "outputs": [],
   "source": [
    "y = data['price']\n",
    "X = data.drop(['price','date','id','zipcode'], axis = 1)\n",
    "\n",
    "X_train, X_test, y_train, y_test = train_test_split(X, y, test_size = 0.2)\n",
    "\n",
    "linreg = LinearRegression()\n",
    "linreg.fit(X_train, y_train)\n",
    "\n",
    "y_hat_train = linreg.predict(X_train)\n",
    "y_hat_test = linreg.predict(X_test)\n",
    "\n",
    "mse_train = np.sum((y_train-y_hat_train)**2)/len(y_train)\n",
    "mse_test =np.sum((y_test-y_hat_test)**2)/len(y_test)\n",
    "print('Train Mean Squarred Error:', mse_train)\n",
    "print('Test Mean Squarred Error:', mse_test)"
   ]
  },
  {
   "cell_type": "code",
   "execution_count": null,
   "metadata": {},
   "outputs": [],
   "source": [
    "rmse_test = np.sqrt(mse_test)\n",
    "print('Train Root Mean Squarred Error:', rmse_train)\n",
    "print('Test Root Mean Squarred Error:', rmse_test)"
   ]
  },
  {
   "cell_type": "code",
   "execution_count": 63,
   "metadata": {},
   "outputs": [
    {
     "data": {
      "image/png": "[encoded data removed]",
      "text/plain": [
       "<Figure size 432x288 with 1 Axes>"
      ]
     },
     "metadata": {
      "needs_background": "light"
     },
     "output_type": "display_data"
    }
   ],
   "source": [
    "predicted = cross_val_predict(linreg, X, y, cv=10)\n",
    "\n",
    "fig, ax = plt.subplots()\n",
    "ax.scatter(y, predicted)\n",
    "ax.plot([y.min(), y.max()], [y.min(), y.max()], 'k--', lw=4)\n",
    "ax.set_xlabel('Measured')\n",
    "ax.set_ylabel('Predicted')\n",
    "plt.show()\n",
    "\n",
    "# Ran on model3 I think"
   ]
  },
  {
   "cell_type": "code",
   "execution_count": 64,
   "metadata": {},
   "outputs": [
    {
     "data": {
      "text/plain": [
       "<matplotlib.axes._subplots.AxesSubplot at 0x1d7cf6aff28>"
      ]
     },
     "execution_count": 64,
     "metadata": {},
     "output_type": "execute_result"
    },
    {
     "data": {
      "image/png": "[encoded data removed]",
      "text/plain": [
       "<Figure size 432x288 with 1 Axes>"
      ]
     },
     "metadata": {
      "needs_background": "light"
     },
     "output_type": "display_data"
    }
   ],
   "source": [
    "ax1 = sns.distplot(y_test, hist=False, color=\"r\", label=\"Actual Value\")\n",
    "sns.distplot(y_hat_test, hist=False, color=\"b\", label=\"Fitted Values\" , ax=ax1)"
   ]
  },
  {
   "cell_type": "code",
   "execution_count": null,
   "metadata": {},
   "outputs": [],
   "source": []
  }
 ],
 "metadata": {
  "kernelspec": {
   "display_name": "Python [conda env:learn-env] *",
   "language": "python",
   "name": "conda-env-learn-env-py"
  },
  "language_info": {
   "codemirror_mode": {
    "name": "ipython",
    "version": 3
   },
   "file_extension": ".py",
   "mimetype": "text/x-python",
   "name": "python",
   "nbconvert_exporter": "python",
   "pygments_lexer": "ipython3",
   "version": "3.6.9"
  },
  "toc": {
   "base_numbering": 1,
   "nav_menu": {},
   "number_sections": true,
   "sideBar": true,
   "skip_h1_title": false,
   "title_cell": "Table of Contents",
   "title_sidebar": "Contents",
   "toc_cell": false,
   "toc_position": {
    "height": "calc(100% - 180px)",
    "left": "10px",
    "top": "150px",
    "width": "474.933px"
   },
   "toc_section_display": true,
   "toc_window_display": false
  },
  "varInspector": {
   "cols": {
    "lenName": 16,
    "lenType": 16,
    "lenVar": 40
   },
   "kernels_config": {
    "python": {
     "delete_cmd_postfix": "",
     "delete_cmd_prefix": "del ",
     "library": "var_list.py",
     "varRefreshCmd": "print(var_dic_list())"
    },
    "r": {
     "delete_cmd_postfix": ") ",
     "delete_cmd_prefix": "rm(",
     "library": "var_list.r",
     "varRefreshCmd": "cat(var_dic_list()) "
    }
   },
   "types_to_exclude": [
    "module",
    "function",
    "builtin_function_or_method",
    "instance",
    "_Feature"
   ],
   "window_display": false
  }
 },
 "nbformat": 4,
 "nbformat_minor": 2
}
