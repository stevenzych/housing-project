{
 "cells": [
  {
   "cell_type": "markdown",
   "metadata": {},
   "source": [
    "# Introduction"
   ]
  },
  {
   "cell_type": "markdown",
   "metadata": {},
   "source": [
    "This notebook iterates through multilinear regression models, using the data from `cleaned_kc.csv`. Models are compared to the baseline R-squared value from the `eda_and_cleaning.ipynb` notebook, which was **0.692.**"
   ]
  },
  {
   "cell_type": "markdown",
   "metadata": {},
   "source": [
    "## Importing Data"
   ]
  },
  {
   "cell_type": "code",
   "execution_count": 85,
   "metadata": {},
   "outputs": [],
   "source": [
    "import pandas as pd\n",
    "import numpy as np\n",
    "import matplotlib.pyplot as plt\n",
    "%matplotlib inline\n",
    "import seaborn as sns\n",
    "import warnings\n",
    "warnings.filterwarnings(\"ignore\")\n",
    "import datetime  as dt\n",
    "import statsmodels.api as sm\n",
    "import statsmodels.formula.api as smf\n",
    "from sklearn.model_selection import train_test_split\n",
    "from sklearn.linear_model import LinearRegression\n",
    "from sklearn.model_selection import cross_val_predict"
   ]
  },
  {
   "cell_type": "code",
   "execution_count": 2,
   "metadata": {},
   "outputs": [],
   "source": [
    "df = pd.read_csv('data/cleaned_kc.csv')"
   ]
  },
  {
   "cell_type": "code",
   "execution_count": 3,
   "metadata": {},
   "outputs": [],
   "source": [
    "df.drop('Unnamed: 0', axis=1, inplace=True)"
   ]
  },
  {
   "cell_type": "code",
   "execution_count": 4,
   "metadata": {},
   "outputs": [
    {
     "data": {
      "text/html": [
       "<div>\n",
       "<style scoped>\n",
       "    .dataframe tbody tr th:only-of-type {\n",
       "        vertical-align: middle;\n",
       "    }\n",
       "\n",
       "    .dataframe tbody tr th {\n",
       "        vertical-align: top;\n",
       "    }\n",
       "\n",
       "    .dataframe thead th {\n",
       "        text-align: right;\n",
       "    }\n",
       "</style>\n",
       "<table border=\"1\" class=\"dataframe\">\n",
       "  <thead>\n",
       "    <tr style=\"text-align: right;\">\n",
       "      <th></th>\n",
       "      <th>id</th>\n",
       "      <th>price</th>\n",
       "      <th>bedrooms</th>\n",
       "      <th>bathrooms</th>\n",
       "      <th>sqft_living</th>\n",
       "      <th>sqft_lot</th>\n",
       "      <th>floors</th>\n",
       "      <th>waterfront</th>\n",
       "      <th>condition</th>\n",
       "      <th>grade</th>\n",
       "      <th>sqft_basement</th>\n",
       "      <th>yr_built</th>\n",
       "      <th>renovated</th>\n",
       "      <th>zipcode</th>\n",
       "      <th>lat</th>\n",
       "      <th>long</th>\n",
       "      <th>sqft_living15</th>\n",
       "      <th>sqft_lot15</th>\n",
       "      <th>day_of_year</th>\n",
       "    </tr>\n",
       "  </thead>\n",
       "  <tbody>\n",
       "    <tr>\n",
       "      <td>0</td>\n",
       "      <td>7129300520</td>\n",
       "      <td>221900.0</td>\n",
       "      <td>3</td>\n",
       "      <td>1.00</td>\n",
       "      <td>1180</td>\n",
       "      <td>5650</td>\n",
       "      <td>1.0</td>\n",
       "      <td>0.0</td>\n",
       "      <td>3</td>\n",
       "      <td>7</td>\n",
       "      <td>0.0</td>\n",
       "      <td>1955</td>\n",
       "      <td>0.0</td>\n",
       "      <td>98178</td>\n",
       "      <td>47.5112</td>\n",
       "      <td>-122.257</td>\n",
       "      <td>1340</td>\n",
       "      <td>5650</td>\n",
       "      <td>286</td>\n",
       "    </tr>\n",
       "    <tr>\n",
       "      <td>1</td>\n",
       "      <td>6414100192</td>\n",
       "      <td>538000.0</td>\n",
       "      <td>3</td>\n",
       "      <td>2.25</td>\n",
       "      <td>2570</td>\n",
       "      <td>7242</td>\n",
       "      <td>2.0</td>\n",
       "      <td>0.0</td>\n",
       "      <td>3</td>\n",
       "      <td>7</td>\n",
       "      <td>400.0</td>\n",
       "      <td>1951</td>\n",
       "      <td>1.0</td>\n",
       "      <td>98125</td>\n",
       "      <td>47.7210</td>\n",
       "      <td>-122.319</td>\n",
       "      <td>1690</td>\n",
       "      <td>7639</td>\n",
       "      <td>343</td>\n",
       "    </tr>\n",
       "    <tr>\n",
       "      <td>2</td>\n",
       "      <td>5631500400</td>\n",
       "      <td>180000.0</td>\n",
       "      <td>2</td>\n",
       "      <td>1.00</td>\n",
       "      <td>770</td>\n",
       "      <td>10000</td>\n",
       "      <td>1.0</td>\n",
       "      <td>0.0</td>\n",
       "      <td>3</td>\n",
       "      <td>6</td>\n",
       "      <td>0.0</td>\n",
       "      <td>1933</td>\n",
       "      <td>0.0</td>\n",
       "      <td>98028</td>\n",
       "      <td>47.7379</td>\n",
       "      <td>-122.233</td>\n",
       "      <td>2720</td>\n",
       "      <td>8062</td>\n",
       "      <td>56</td>\n",
       "    </tr>\n",
       "    <tr>\n",
       "      <td>3</td>\n",
       "      <td>2487200875</td>\n",
       "      <td>604000.0</td>\n",
       "      <td>4</td>\n",
       "      <td>3.00</td>\n",
       "      <td>1960</td>\n",
       "      <td>5000</td>\n",
       "      <td>1.0</td>\n",
       "      <td>0.0</td>\n",
       "      <td>5</td>\n",
       "      <td>7</td>\n",
       "      <td>910.0</td>\n",
       "      <td>1965</td>\n",
       "      <td>0.0</td>\n",
       "      <td>98136</td>\n",
       "      <td>47.5208</td>\n",
       "      <td>-122.393</td>\n",
       "      <td>1360</td>\n",
       "      <td>5000</td>\n",
       "      <td>343</td>\n",
       "    </tr>\n",
       "    <tr>\n",
       "      <td>4</td>\n",
       "      <td>1954400510</td>\n",
       "      <td>510000.0</td>\n",
       "      <td>3</td>\n",
       "      <td>2.00</td>\n",
       "      <td>1680</td>\n",
       "      <td>8080</td>\n",
       "      <td>1.0</td>\n",
       "      <td>0.0</td>\n",
       "      <td>3</td>\n",
       "      <td>8</td>\n",
       "      <td>0.0</td>\n",
       "      <td>1987</td>\n",
       "      <td>0.0</td>\n",
       "      <td>98074</td>\n",
       "      <td>47.6168</td>\n",
       "      <td>-122.045</td>\n",
       "      <td>1800</td>\n",
       "      <td>7503</td>\n",
       "      <td>49</td>\n",
       "    </tr>\n",
       "  </tbody>\n",
       "</table>\n",
       "</div>"
      ],
      "text/plain": [
       "           id     price  bedrooms  bathrooms  sqft_living  sqft_lot  floors  \\\n",
       "0  7129300520  221900.0         3       1.00         1180      5650     1.0   \n",
       "1  6414100192  538000.0         3       2.25         2570      7242     2.0   \n",
       "2  5631500400  180000.0         2       1.00          770     10000     1.0   \n",
       "3  2487200875  604000.0         4       3.00         1960      5000     1.0   \n",
       "4  1954400510  510000.0         3       2.00         1680      8080     1.0   \n",
       "\n",
       "   waterfront  condition  grade  sqft_basement  yr_built  renovated  zipcode  \\\n",
       "0         0.0          3      7            0.0      1955        0.0    98178   \n",
       "1         0.0          3      7          400.0      1951        1.0    98125   \n",
       "2         0.0          3      6            0.0      1933        0.0    98028   \n",
       "3         0.0          5      7          910.0      1965        0.0    98136   \n",
       "4         0.0          3      8            0.0      1987        0.0    98074   \n",
       "\n",
       "       lat     long  sqft_living15  sqft_lot15  day_of_year  \n",
       "0  47.5112 -122.257           1340        5650          286  \n",
       "1  47.7210 -122.319           1690        7639          343  \n",
       "2  47.7379 -122.233           2720        8062           56  \n",
       "3  47.5208 -122.393           1360        5000          343  \n",
       "4  47.6168 -122.045           1800        7503           49  "
      ]
     },
     "execution_count": 4,
     "metadata": {},
     "output_type": "execute_result"
    }
   ],
   "source": [
    "df.head()"
   ]
  },
  {
   "cell_type": "markdown",
   "metadata": {},
   "source": [
    "# Model 1: Baseline Model\n",
    "\n",
    "The baseline model is reprinted below for reference:"
   ]
  },
  {
   "cell_type": "code",
   "execution_count": 5,
   "metadata": {},
   "outputs": [
    {
     "data": {
      "text/html": [
       "<table class=\"simpletable\">\n",
       "<caption>OLS Regression Results</caption>\n",
       "<tr>\n",
       "  <th>Dep. Variable:</th>          <td>price</td>      <th>  R-squared:         </th>  <td>   0.692</td>  \n",
       "</tr>\n",
       "<tr>\n",
       "  <th>Model:</th>                   <td>OLS</td>       <th>  Adj. R-squared:    </th>  <td>   0.692</td>  \n",
       "</tr>\n",
       "<tr>\n",
       "  <th>Method:</th>             <td>Least Squares</td>  <th>  F-statistic:       </th>  <td>   2831.</td>  \n",
       "</tr>\n",
       "<tr>\n",
       "  <th>Date:</th>             <td>Thu, 16 Jul 2020</td> <th>  Prob (F-statistic):</th>   <td>  0.00</td>   \n",
       "</tr>\n",
       "<tr>\n",
       "  <th>Time:</th>                 <td>13:59:14</td>     <th>  Log-Likelihood:    </th> <td>-2.9228e+05</td>\n",
       "</tr>\n",
       "<tr>\n",
       "  <th>No. Observations:</th>      <td> 21420</td>      <th>  AIC:               </th>  <td>5.846e+05</td> \n",
       "</tr>\n",
       "<tr>\n",
       "  <th>Df Residuals:</th>          <td> 21402</td>      <th>  BIC:               </th>  <td>5.847e+05</td> \n",
       "</tr>\n",
       "<tr>\n",
       "  <th>Df Model:</th>              <td>    17</td>      <th>                     </th>      <td> </td>     \n",
       "</tr>\n",
       "<tr>\n",
       "  <th>Covariance Type:</th>      <td>nonrobust</td>    <th>                     </th>      <td> </td>     \n",
       "</tr>\n",
       "</table>\n",
       "<table class=\"simpletable\">\n",
       "<tr>\n",
       "        <td></td>           <th>coef</th>     <th>std err</th>      <th>t</th>      <th>P>|t|</th>  <th>[0.025</th>    <th>0.975]</th>  \n",
       "</tr>\n",
       "<tr>\n",
       "  <th>id</th>            <td>-1.072e-06</td> <td> 4.91e-07</td> <td>   -2.182</td> <td> 0.029</td> <td>-2.04e-06</td> <td>-1.09e-07</td>\n",
       "</tr>\n",
       "<tr>\n",
       "  <th>bedrooms</th>      <td>-4.005e+04</td> <td> 1929.391</td> <td>  -20.757</td> <td> 0.000</td> <td>-4.38e+04</td> <td>-3.63e+04</td>\n",
       "</tr>\n",
       "<tr>\n",
       "  <th>bathrooms</th>     <td> 4.342e+04</td> <td> 3320.701</td> <td>   13.076</td> <td> 0.000</td> <td> 3.69e+04</td> <td> 4.99e+04</td>\n",
       "</tr>\n",
       "<tr>\n",
       "  <th>sqft_living</th>   <td>  178.3476</td> <td>    3.718</td> <td>   47.963</td> <td> 0.000</td> <td>  171.059</td> <td>  185.636</td>\n",
       "</tr>\n",
       "<tr>\n",
       "  <th>sqft_lot</th>      <td>    0.1617</td> <td>    0.049</td> <td>    3.324</td> <td> 0.001</td> <td>    0.066</td> <td>    0.257</td>\n",
       "</tr>\n",
       "<tr>\n",
       "  <th>floors</th>        <td> 1.129e+04</td> <td> 3585.706</td> <td>    3.148</td> <td> 0.002</td> <td> 4258.823</td> <td> 1.83e+04</td>\n",
       "</tr>\n",
       "<tr>\n",
       "  <th>waterfront</th>    <td> 7.798e+05</td> <td> 1.72e+04</td> <td>   45.314</td> <td> 0.000</td> <td> 7.46e+05</td> <td> 8.14e+05</td>\n",
       "</tr>\n",
       "<tr>\n",
       "  <th>condition</th>     <td> 2.828e+04</td> <td> 2369.107</td> <td>   11.938</td> <td> 0.000</td> <td> 2.36e+04</td> <td> 3.29e+04</td>\n",
       "</tr>\n",
       "<tr>\n",
       "  <th>grade</th>         <td>  1.02e+05</td> <td> 2184.397</td> <td>   46.691</td> <td> 0.000</td> <td> 9.77e+04</td> <td> 1.06e+05</td>\n",
       "</tr>\n",
       "<tr>\n",
       "  <th>sqft_basement</th> <td>   -9.8393</td> <td>    4.292</td> <td>   -2.293</td> <td> 0.022</td> <td>  -18.252</td> <td>   -1.427</td>\n",
       "</tr>\n",
       "<tr>\n",
       "  <th>yr_built</th>      <td>-2792.8368</td> <td>   68.036</td> <td>  -41.050</td> <td> 0.000</td> <td>-2926.192</td> <td>-2659.482</td>\n",
       "</tr>\n",
       "<tr>\n",
       "  <th>renovated</th>     <td>   5.3e+04</td> <td> 8064.967</td> <td>    6.572</td> <td> 0.000</td> <td> 3.72e+04</td> <td> 6.88e+04</td>\n",
       "</tr>\n",
       "<tr>\n",
       "  <th>zipcode</th>       <td> -516.6543</td> <td>   18.190</td> <td>  -28.403</td> <td> 0.000</td> <td> -552.309</td> <td> -481.000</td>\n",
       "</tr>\n",
       "<tr>\n",
       "  <th>lat</th>           <td> 5.762e+05</td> <td> 1.09e+04</td> <td>   52.931</td> <td> 0.000</td> <td> 5.55e+05</td> <td> 5.98e+05</td>\n",
       "</tr>\n",
       "<tr>\n",
       "  <th>long</th>          <td>-2.294e+05</td> <td> 1.33e+04</td> <td>  -17.215</td> <td> 0.000</td> <td>-2.56e+05</td> <td>-2.03e+05</td>\n",
       "</tr>\n",
       "<tr>\n",
       "  <th>sqft_living15</th> <td>   34.9729</td> <td>    3.414</td> <td>   10.243</td> <td> 0.000</td> <td>   28.280</td> <td>   41.665</td>\n",
       "</tr>\n",
       "<tr>\n",
       "  <th>sqft_lot15</th>    <td>   -0.3849</td> <td>    0.075</td> <td>   -5.158</td> <td> 0.000</td> <td>   -0.531</td> <td>   -0.239</td>\n",
       "</tr>\n",
       "<tr>\n",
       "  <th>day_of_year</th>   <td> -105.4953</td> <td>   14.773</td> <td>   -7.141</td> <td> 0.000</td> <td> -134.451</td> <td>  -76.540</td>\n",
       "</tr>\n",
       "</table>\n",
       "<table class=\"simpletable\">\n",
       "<tr>\n",
       "  <th>Omnibus:</th>       <td>18079.317</td> <th>  Durbin-Watson:     </th>  <td>   1.992</td>  \n",
       "</tr>\n",
       "<tr>\n",
       "  <th>Prob(Omnibus):</th>  <td> 0.000</td>   <th>  Jarque-Bera (JB):  </th> <td>1726653.156</td>\n",
       "</tr>\n",
       "<tr>\n",
       "  <th>Skew:</th>           <td> 3.541</td>   <th>  Prob(JB):          </th>  <td>    0.00</td>  \n",
       "</tr>\n",
       "<tr>\n",
       "  <th>Kurtosis:</th>       <td>46.410</td>   <th>  Cond. No.          </th>  <td>6.68e+10</td>  \n",
       "</tr>\n",
       "</table><br/><br/>Warnings:<br/>[1] Standard Errors assume that the covariance matrix of the errors is correctly specified.<br/>[2] The condition number is large, 6.68e+10. This might indicate that there are<br/>strong multicollinearity or other numerical problems."
      ],
      "text/plain": [
       "<class 'statsmodels.iolib.summary.Summary'>\n",
       "\"\"\"\n",
       "                            OLS Regression Results                            \n",
       "==============================================================================\n",
       "Dep. Variable:                  price   R-squared:                       0.692\n",
       "Model:                            OLS   Adj. R-squared:                  0.692\n",
       "Method:                 Least Squares   F-statistic:                     2831.\n",
       "Date:                Thu, 16 Jul 2020   Prob (F-statistic):               0.00\n",
       "Time:                        13:59:14   Log-Likelihood:            -2.9228e+05\n",
       "No. Observations:               21420   AIC:                         5.846e+05\n",
       "Df Residuals:                   21402   BIC:                         5.847e+05\n",
       "Df Model:                          17                                         \n",
       "Covariance Type:            nonrobust                                         \n",
       "=================================================================================\n",
       "                    coef    std err          t      P>|t|      [0.025      0.975]\n",
       "---------------------------------------------------------------------------------\n",
       "id            -1.072e-06   4.91e-07     -2.182      0.029   -2.04e-06   -1.09e-07\n",
       "bedrooms      -4.005e+04   1929.391    -20.757      0.000   -4.38e+04   -3.63e+04\n",
       "bathrooms      4.342e+04   3320.701     13.076      0.000    3.69e+04    4.99e+04\n",
       "sqft_living     178.3476      3.718     47.963      0.000     171.059     185.636\n",
       "sqft_lot          0.1617      0.049      3.324      0.001       0.066       0.257\n",
       "floors         1.129e+04   3585.706      3.148      0.002    4258.823    1.83e+04\n",
       "waterfront     7.798e+05   1.72e+04     45.314      0.000    7.46e+05    8.14e+05\n",
       "condition      2.828e+04   2369.107     11.938      0.000    2.36e+04    3.29e+04\n",
       "grade           1.02e+05   2184.397     46.691      0.000    9.77e+04    1.06e+05\n",
       "sqft_basement    -9.8393      4.292     -2.293      0.022     -18.252      -1.427\n",
       "yr_built      -2792.8368     68.036    -41.050      0.000   -2926.192   -2659.482\n",
       "renovated        5.3e+04   8064.967      6.572      0.000    3.72e+04    6.88e+04\n",
       "zipcode        -516.6543     18.190    -28.403      0.000    -552.309    -481.000\n",
       "lat            5.762e+05   1.09e+04     52.931      0.000    5.55e+05    5.98e+05\n",
       "long          -2.294e+05   1.33e+04    -17.215      0.000   -2.56e+05   -2.03e+05\n",
       "sqft_living15    34.9729      3.414     10.243      0.000      28.280      41.665\n",
       "sqft_lot15       -0.3849      0.075     -5.158      0.000      -0.531      -0.239\n",
       "day_of_year    -105.4953     14.773     -7.141      0.000    -134.451     -76.540\n",
       "==============================================================================\n",
       "Omnibus:                    18079.317   Durbin-Watson:                   1.992\n",
       "Prob(Omnibus):                  0.000   Jarque-Bera (JB):          1726653.156\n",
       "Skew:                           3.541   Prob(JB):                         0.00\n",
       "Kurtosis:                      46.410   Cond. No.                     6.68e+10\n",
       "==============================================================================\n",
       "\n",
       "Warnings:\n",
       "[1] Standard Errors assume that the covariance matrix of the errors is correctly specified.\n",
       "[2] The condition number is large, 6.68e+10. This might indicate that there are\n",
       "strong multicollinearity or other numerical problems.\n",
       "\"\"\""
      ]
     },
     "execution_count": 5,
     "metadata": {},
     "output_type": "execute_result"
    }
   ],
   "source": [
    "price = df.price\n",
    "indep = df.drop('price', axis = 1)\n",
    "\n",
    "model = sm.OLS(price, indep).fit()\n",
    "model.summary()"
   ]
  },
  {
   "cell_type": "markdown",
   "metadata": {},
   "source": [
    "# Model 2: Mean Normalization of Continuous Variables\n",
    "\n",
    "## Continuous Variables\n",
    "\n",
    "It's time to separate categorical and continuous values. Most are fairly obvious in this dataset. As a general rule, \"If the variable's numeric value makes sense intuitively, or is not 0-1 choice, it's a continuous variable.\" A value of 50,000 `price`, 3 `bathrooms`, or 320 `day_of_year` all make sense without explanation."
   ]
  },
  {
   "cell_type": "code",
   "execution_count": 6,
   "metadata": {
    "scrolled": true
   },
   "outputs": [
    {
     "data": {
      "text/plain": [
       "Index(['id', 'price', 'bedrooms', 'bathrooms', 'sqft_living', 'sqft_lot',\n",
       "       'floors', 'waterfront', 'condition', 'grade', 'sqft_basement',\n",
       "       'yr_built', 'renovated', 'zipcode', 'lat', 'long', 'sqft_living15',\n",
       "       'sqft_lot15', 'day_of_year'],\n",
       "      dtype='object')"
      ]
     },
     "execution_count": 6,
     "metadata": {},
     "output_type": "execute_result"
    }
   ],
   "source": [
    "df.columns"
   ]
  },
  {
   "cell_type": "markdown",
   "metadata": {},
   "source": [
    "Naturally, then, these are the continuous variables:"
   ]
  },
  {
   "cell_type": "code",
   "execution_count": 7,
   "metadata": {},
   "outputs": [],
   "source": [
    "cont = ['price', 'bedrooms', 'bathrooms', 'sqft_living', 'sqft_lot',\n",
    "       'floors', 'sqft_basement', 'yr_built', 'lat', 'long',\n",
    "       'sqft_living15', 'sqft_lot15', 'day_of_year']"
   ]
  },
  {
   "cell_type": "markdown",
   "metadata": {},
   "source": [
    "Next, let's look at the distributions of these continuous variables and determine which need to be normalized and/or log transformed:"
   ]
  },
  {
   "cell_type": "code",
   "execution_count": 8,
   "metadata": {
    "scrolled": false
   },
   "outputs": [
    {
     "data": {
      "image/png": "[encoded data removed]",
      "text/plain": [
       "<Figure size 432x288 with 1 Axes>"
      ]
     },
     "metadata": {
      "needs_background": "light"
     },
     "output_type": "display_data"
    },
    {
     "data": {
      "image/png": "[encoded data removed]",
      "text/plain": [
       "<Figure size 432x288 with 1 Axes>"
      ]
     },
     "metadata": {
      "needs_background": "light"
     },
     "output_type": "display_data"
    },
    {
     "data": {
      "image/png": "[encoded data removed]",
      "text/plain": [
       "<Figure size 432x288 with 1 Axes>"
      ]
     },
     "metadata": {
      "needs_background": "light"
     },
     "output_type": "display_data"
    },
    {
     "data": {
      "image/png": "[encoded data removed]",
      "text/plain": [
       "<Figure size 432x288 with 1 Axes>"
      ]
     },
     "metadata": {
      "needs_background": "light"
     },
     "output_type": "display_data"
    },
    {
     "data": {
      "image/png": "[encoded data removed]",
      "text/plain": [
       "<Figure size 432x288 with 1 Axes>"
      ]
     },
     "metadata": {
      "needs_background": "light"
     },
     "output_type": "display_data"
    },
    {
     "data": {
      "image/png": "[encoded data removed]",
      "text/plain": [
       "<Figure size 432x288 with 1 Axes>"
      ]
     },
     "metadata": {
      "needs_background": "light"
     },
     "output_type": "display_data"
    },
    {
     "data": {
      "image/png": "[encoded data removed]",
      "text/plain": [
       "<Figure size 432x288 with 1 Axes>"
      ]
     },
     "metadata": {
      "needs_background": "light"
     },
     "output_type": "display_data"
    },
    {
     "data": {
      "image/png": "[encoded data removed]",
      "text/plain": [
       "<Figure size 432x288 with 1 Axes>"
      ]
     },
     "metadata": {
      "needs_background": "light"
     },
     "output_type": "display_data"
    },
    {
     "data": {
      "image/png": "[encoded data removed]",
      "text/plain": [
       "<Figure size 432x288 with 1 Axes>"
      ]
     },
     "metadata": {
      "needs_background": "light"
     },
     "output_type": "display_data"
    },
    {
     "data": {
      "image/png": "[encoded data removed]",
      "text/plain": [
       "<Figure size 432x288 with 1 Axes>"
      ]
     },
     "metadata": {
      "needs_background": "light"
     },
     "output_type": "display_data"
    },
    {
     "data": {
      "image/png": "[encoded data removed]",
      "text/plain": [
       "<Figure size 432x288 with 1 Axes>"
      ]
     },
     "metadata": {
      "needs_background": "light"
     },
     "output_type": "display_data"
    },
    {
     "data": {
      "image/png": "[encoded data removed]",
      "text/plain": [
       "<Figure size 432x288 with 1 Axes>"
      ]
     },
     "metadata": {
      "needs_background": "light"
     },
     "output_type": "display_data"
    },
    {
     "data": {
      "image/png": "[encoded data removed]",
      "text/plain": [
       "<Figure size 432x288 with 1 Axes>"
      ]
     },
     "metadata": {
      "needs_background": "light"
     },
     "output_type": "display_data"
    }
   ],
   "source": [
    "for col in df[cont].columns:\n",
    "    plt.hist(df[col], bins='auto')\n",
    "    plt.title(f'{col} distribution')\n",
    "    plt.show()"
   ]
  },
  {
   "cell_type": "markdown",
   "metadata": {},
   "source": [
    "A few observations:\n",
    "1. Some of these columns have extreme outlier-related skews, such as `price` and `sqft_basement`.\n",
    "1. The column `sqft_basement`, while continuous, should be changed to a binary column because of how many zero values there are. It makes more sense to present this as \"Has or doesn't have basement\" as opposed to \"Size of basement, with zero being a possible size.\"\n",
    "1. Only 3 of these columns (`price`, `sqft_living15`, and `sqft_living`) have distributions that are close to normal.\n",
    "\n",
    "The `sqft_basement` column will be changed, and the remaining columns now will be normalized:"
   ]
  },
  {
   "cell_type": "code",
   "execution_count": 45,
   "metadata": {},
   "outputs": [],
   "source": [
    "# Make a copy to do changes on\n",
    "df2 = df.copy()"
   ]
  },
  {
   "cell_type": "code",
   "execution_count": 46,
   "metadata": {},
   "outputs": [
    {
     "data": {
      "text/plain": [
       "array([0., 1.])"
      ]
     },
     "execution_count": 46,
     "metadata": {},
     "output_type": "execute_result"
    }
   ],
   "source": [
    "df2.loc[(df2.sqft_basement > 0), 'sqft_basement'] = 1\n",
    "df2.rename({'sqft_basement' : 'has_basement'}, axis=1, inplace=True)\n",
    "df2.has_basement.unique()"
   ]
  },
  {
   "cell_type": "code",
   "execution_count": 31,
   "metadata": {},
   "outputs": [
    {
     "ename": "ValueError",
     "evalue": "list.remove(x): x not in list",
     "output_type": "error",
     "traceback": [
      "\u001b[1;31m---------------------------------------------------------------------------\u001b[0m",
      "\u001b[1;31mValueError\u001b[0m                                Traceback (most recent call last)",
      "\u001b[1;32m<ipython-input-31-f88b95ea547d>\u001b[0m in \u001b[0;36m<module>\u001b[1;34m\u001b[0m\n\u001b[1;32m----> 1\u001b[1;33m \u001b[0mcont\u001b[0m\u001b[1;33m.\u001b[0m\u001b[0mremove\u001b[0m\u001b[1;33m(\u001b[0m\u001b[1;34m\"sqft_basement\"\u001b[0m\u001b[1;33m)\u001b[0m\u001b[1;33m\u001b[0m\u001b[1;33m\u001b[0m\u001b[0m\n\u001b[0m",
      "\u001b[1;31mValueError\u001b[0m: list.remove(x): x not in list"
     ]
    }
   ],
   "source": [
    "cont.remove(\"sqft_basement\")"
   ]
  },
  {
   "cell_type": "code",
   "execution_count": 47,
   "metadata": {},
   "outputs": [],
   "source": [
    "already_norm = [\"price\", \"sqft_living15\", \"sqft_living\"]\n",
    "cont_to_norm = [x for x in cont if x not in already_norm]"
   ]
  },
  {
   "cell_type": "code",
   "execution_count": 48,
   "metadata": {},
   "outputs": [],
   "source": [
    "for col in df2[cont_to_norm].columns:\n",
    "    df2[col] = (df2[col] - np.mean(df2[col])) / (max(df2[col]) - min(df2[col]))\n",
    "    df2.rename({f'{col}' : f'{col}_norm'}, axis=1, inplace=True)"
   ]
  },
  {
   "cell_type": "code",
   "execution_count": 49,
   "metadata": {},
   "outputs": [
    {
     "data": {
      "text/html": [
       "<div>\n",
       "<style scoped>\n",
       "    .dataframe tbody tr th:only-of-type {\n",
       "        vertical-align: middle;\n",
       "    }\n",
       "\n",
       "    .dataframe tbody tr th {\n",
       "        vertical-align: top;\n",
       "    }\n",
       "\n",
       "    .dataframe thead th {\n",
       "        text-align: right;\n",
       "    }\n",
       "</style>\n",
       "<table border=\"1\" class=\"dataframe\">\n",
       "  <thead>\n",
       "    <tr style=\"text-align: right;\">\n",
       "      <th></th>\n",
       "      <th>id</th>\n",
       "      <th>price</th>\n",
       "      <th>bedrooms_norm</th>\n",
       "      <th>bathrooms_norm</th>\n",
       "      <th>sqft_living</th>\n",
       "      <th>sqft_lot_norm</th>\n",
       "      <th>floors_norm</th>\n",
       "      <th>waterfront</th>\n",
       "      <th>condition</th>\n",
       "      <th>grade</th>\n",
       "      <th>has_basement</th>\n",
       "      <th>yr_built_norm</th>\n",
       "      <th>renovated</th>\n",
       "      <th>zipcode</th>\n",
       "      <th>lat_norm</th>\n",
       "      <th>long_norm</th>\n",
       "      <th>sqft_living15</th>\n",
       "      <th>sqft_lot15_norm</th>\n",
       "      <th>day_of_year_norm</th>\n",
       "    </tr>\n",
       "  </thead>\n",
       "  <tbody>\n",
       "    <tr>\n",
       "      <td>count</td>\n",
       "      <td>2.142000e+04</td>\n",
       "      <td>2.142000e+04</td>\n",
       "      <td>2.142000e+04</td>\n",
       "      <td>2.142000e+04</td>\n",
       "      <td>21420.000000</td>\n",
       "      <td>2.142000e+04</td>\n",
       "      <td>2.142000e+04</td>\n",
       "      <td>21420.000000</td>\n",
       "      <td>21420.000000</td>\n",
       "      <td>21420.000000</td>\n",
       "      <td>21420.000000</td>\n",
       "      <td>2.142000e+04</td>\n",
       "      <td>21420.000000</td>\n",
       "      <td>21420.00000</td>\n",
       "      <td>2.142000e+04</td>\n",
       "      <td>2.142000e+04</td>\n",
       "      <td>21420.000000</td>\n",
       "      <td>2.142000e+04</td>\n",
       "      <td>2.142000e+04</td>\n",
       "    </tr>\n",
       "    <tr>\n",
       "      <td>mean</td>\n",
       "      <td>4.580940e+09</td>\n",
       "      <td>5.407393e+05</td>\n",
       "      <td>-1.015890e-18</td>\n",
       "      <td>2.587411e-17</td>\n",
       "      <td>2083.132633</td>\n",
       "      <td>2.073246e-19</td>\n",
       "      <td>-1.326877e-17</td>\n",
       "      <td>0.006816</td>\n",
       "      <td>3.410784</td>\n",
       "      <td>7.662792</td>\n",
       "      <td>0.385201</td>\n",
       "      <td>-6.793611e-16</td>\n",
       "      <td>0.034547</td>\n",
       "      <td>98077.87437</td>\n",
       "      <td>3.162446e-15</td>\n",
       "      <td>-2.773837e-15</td>\n",
       "      <td>1988.384080</td>\n",
       "      <td>-6.634386e-19</td>\n",
       "      <td>2.172761e-17</td>\n",
       "    </tr>\n",
       "    <tr>\n",
       "      <td>std</td>\n",
       "      <td>2.876761e+09</td>\n",
       "      <td>3.679311e+05</td>\n",
       "      <td>2.891889e-02</td>\n",
       "      <td>1.024960e-01</td>\n",
       "      <td>918.808412</td>\n",
       "      <td>2.515739e-02</td>\n",
       "      <td>2.160324e-01</td>\n",
       "      <td>0.082280</td>\n",
       "      <td>0.650035</td>\n",
       "      <td>1.171971</td>\n",
       "      <td>0.486654</td>\n",
       "      <td>2.555404e-01</td>\n",
       "      <td>0.182634</td>\n",
       "      <td>53.47748</td>\n",
       "      <td>2.229199e-01</td>\n",
       "      <td>1.169357e-01</td>\n",
       "      <td>685.537057</td>\n",
       "      <td>3.141193e-02</td>\n",
       "      <td>2.604056e-01</td>\n",
       "    </tr>\n",
       "    <tr>\n",
       "      <td>min</td>\n",
       "      <td>1.000102e+06</td>\n",
       "      <td>7.800000e+04</td>\n",
       "      <td>-7.418592e-02</td>\n",
       "      <td>-2.157905e-01</td>\n",
       "      <td>370.000000</td>\n",
       "      <td>-8.848857e-03</td>\n",
       "      <td>-1.983940e-01</td>\n",
       "      <td>0.000000</td>\n",
       "      <td>1.000000</td>\n",
       "      <td>3.000000</td>\n",
       "      <td>0.000000</td>\n",
       "      <td>-6.182000e-01</td>\n",
       "      <td>0.000000</td>\n",
       "      <td>98001.00000</td>\n",
       "      <td>-6.503093e-01</td>\n",
       "      <td>-2.535019e-01</td>\n",
       "      <td>399.000000</td>\n",
       "      <td>-1.392767e-02</td>\n",
       "      <td>-5.035612e-01</td>\n",
       "    </tr>\n",
       "    <tr>\n",
       "      <td>25%</td>\n",
       "      <td>2.123537e+09</td>\n",
       "      <td>3.225000e+05</td>\n",
       "      <td>-1.168592e-02</td>\n",
       "      <td>-4.912387e-02</td>\n",
       "      <td>1430.000000</td>\n",
       "      <td>-6.110855e-03</td>\n",
       "      <td>-1.983940e-01</td>\n",
       "      <td>0.000000</td>\n",
       "      <td>3.000000</td>\n",
       "      <td>7.000000</td>\n",
       "      <td>0.000000</td>\n",
       "      <td>-1.660261e-01</td>\n",
       "      <td>0.000000</td>\n",
       "      <td>98033.00000</td>\n",
       "      <td>-1.431515e-01</td>\n",
       "      <td>-9.486407e-02</td>\n",
       "      <td>1490.000000</td>\n",
       "      <td>-8.817101e-03</td>\n",
       "      <td>-2.032857e-01</td>\n",
       "    </tr>\n",
       "    <tr>\n",
       "      <td>50%</td>\n",
       "      <td>3.904921e+09</td>\n",
       "      <td>4.500000e+05</td>\n",
       "      <td>-1.168592e-02</td>\n",
       "      <td>1.754279e-02</td>\n",
       "      <td>1920.000000</td>\n",
       "      <td>-4.551648e-03</td>\n",
       "      <td>1.605976e-03</td>\n",
       "      <td>0.000000</td>\n",
       "      <td>3.000000</td>\n",
       "      <td>7.000000</td>\n",
       "      <td>0.000000</td>\n",
       "      <td>3.397394e-02</td>\n",
       "      <td>0.000000</td>\n",
       "      <td>98065.00000</td>\n",
       "      <td>1.914541e-02</td>\n",
       "      <td>-1.346872e-02</td>\n",
       "      <td>1840.000000</td>\n",
       "      <td>-5.922376e-03</td>\n",
       "      <td>-1.044826e-02</td>\n",
       "    </tr>\n",
       "    <tr>\n",
       "      <td>75%</td>\n",
       "      <td>7.308900e+09</td>\n",
       "      <td>6.450000e+05</td>\n",
       "      <td>1.956408e-02</td>\n",
       "      <td>5.087613e-02</td>\n",
       "      <td>2550.000000</td>\n",
       "      <td>-2.688050e-03</td>\n",
       "      <td>2.016060e-01</td>\n",
       "      <td>0.000000</td>\n",
       "      <td>4.000000</td>\n",
       "      <td>8.000000</td>\n",
       "      <td>1.000000</td>\n",
       "      <td>2.252783e-01</td>\n",
       "      <td>0.000000</td>\n",
       "      <td>98117.00000</td>\n",
       "      <td>1.896457e-01</td>\n",
       "      <td>7.374058e-02</td>\n",
       "      <td>2370.000000</td>\n",
       "      <td>-3.089393e-03</td>\n",
       "      <td>2.126922e-01</td>\n",
       "    </tr>\n",
       "    <tr>\n",
       "      <td>max</td>\n",
       "      <td>9.900000e+09</td>\n",
       "      <td>7.700000e+06</td>\n",
       "      <td>9.258141e-01</td>\n",
       "      <td>7.842095e-01</td>\n",
       "      <td>13540.000000</td>\n",
       "      <td>9.911511e-01</td>\n",
       "      <td>8.016060e-01</td>\n",
       "      <td>1.000000</td>\n",
       "      <td>5.000000</td>\n",
       "      <td>13.000000</td>\n",
       "      <td>1.000000</td>\n",
       "      <td>3.818000e-01</td>\n",
       "      <td>1.000000</td>\n",
       "      <td>98199.00000</td>\n",
       "      <td>3.496907e-01</td>\n",
       "      <td>7.464981e-01</td>\n",
       "      <td>6210.000000</td>\n",
       "      <td>9.860723e-01</td>\n",
       "      <td>4.964388e-01</td>\n",
       "    </tr>\n",
       "  </tbody>\n",
       "</table>\n",
       "</div>"
      ],
      "text/plain": [
       "                 id         price  bedrooms_norm  bathrooms_norm  \\\n",
       "count  2.142000e+04  2.142000e+04   2.142000e+04    2.142000e+04   \n",
       "mean   4.580940e+09  5.407393e+05  -1.015890e-18    2.587411e-17   \n",
       "std    2.876761e+09  3.679311e+05   2.891889e-02    1.024960e-01   \n",
       "min    1.000102e+06  7.800000e+04  -7.418592e-02   -2.157905e-01   \n",
       "25%    2.123537e+09  3.225000e+05  -1.168592e-02   -4.912387e-02   \n",
       "50%    3.904921e+09  4.500000e+05  -1.168592e-02    1.754279e-02   \n",
       "75%    7.308900e+09  6.450000e+05   1.956408e-02    5.087613e-02   \n",
       "max    9.900000e+09  7.700000e+06   9.258141e-01    7.842095e-01   \n",
       "\n",
       "        sqft_living  sqft_lot_norm   floors_norm    waterfront     condition  \\\n",
       "count  21420.000000   2.142000e+04  2.142000e+04  21420.000000  21420.000000   \n",
       "mean    2083.132633   2.073246e-19 -1.326877e-17      0.006816      3.410784   \n",
       "std      918.808412   2.515739e-02  2.160324e-01      0.082280      0.650035   \n",
       "min      370.000000  -8.848857e-03 -1.983940e-01      0.000000      1.000000   \n",
       "25%     1430.000000  -6.110855e-03 -1.983940e-01      0.000000      3.000000   \n",
       "50%     1920.000000  -4.551648e-03  1.605976e-03      0.000000      3.000000   \n",
       "75%     2550.000000  -2.688050e-03  2.016060e-01      0.000000      4.000000   \n",
       "max    13540.000000   9.911511e-01  8.016060e-01      1.000000      5.000000   \n",
       "\n",
       "              grade  has_basement  yr_built_norm     renovated      zipcode  \\\n",
       "count  21420.000000  21420.000000   2.142000e+04  21420.000000  21420.00000   \n",
       "mean       7.662792      0.385201  -6.793611e-16      0.034547  98077.87437   \n",
       "std        1.171971      0.486654   2.555404e-01      0.182634     53.47748   \n",
       "min        3.000000      0.000000  -6.182000e-01      0.000000  98001.00000   \n",
       "25%        7.000000      0.000000  -1.660261e-01      0.000000  98033.00000   \n",
       "50%        7.000000      0.000000   3.397394e-02      0.000000  98065.00000   \n",
       "75%        8.000000      1.000000   2.252783e-01      0.000000  98117.00000   \n",
       "max       13.000000      1.000000   3.818000e-01      1.000000  98199.00000   \n",
       "\n",
       "           lat_norm     long_norm  sqft_living15  sqft_lot15_norm  \\\n",
       "count  2.142000e+04  2.142000e+04   21420.000000     2.142000e+04   \n",
       "mean   3.162446e-15 -2.773837e-15    1988.384080    -6.634386e-19   \n",
       "std    2.229199e-01  1.169357e-01     685.537057     3.141193e-02   \n",
       "min   -6.503093e-01 -2.535019e-01     399.000000    -1.392767e-02   \n",
       "25%   -1.431515e-01 -9.486407e-02    1490.000000    -8.817101e-03   \n",
       "50%    1.914541e-02 -1.346872e-02    1840.000000    -5.922376e-03   \n",
       "75%    1.896457e-01  7.374058e-02    2370.000000    -3.089393e-03   \n",
       "max    3.496907e-01  7.464981e-01    6210.000000     9.860723e-01   \n",
       "\n",
       "       day_of_year_norm  \n",
       "count      2.142000e+04  \n",
       "mean       2.172761e-17  \n",
       "std        2.604056e-01  \n",
       "min       -5.035612e-01  \n",
       "25%       -2.032857e-01  \n",
       "50%       -1.044826e-02  \n",
       "75%        2.126922e-01  \n",
       "max        4.964388e-01  "
      ]
     },
     "execution_count": 49,
     "metadata": {},
     "output_type": "execute_result"
    }
   ],
   "source": [
    "df2.describe()"
   ]
  },
  {
   "cell_type": "markdown",
   "metadata": {},
   "source": [
    "## Model 2A"
   ]
  },
  {
   "cell_type": "code",
   "execution_count": 51,
   "metadata": {},
   "outputs": [
    {
     "data": {
      "text/html": [
       "<table class=\"simpletable\">\n",
       "<caption>OLS Regression Results</caption>\n",
       "<tr>\n",
       "  <th>Dep. Variable:</th>          <td>price</td>      <th>  R-squared:         </th>  <td>   0.689</td>  \n",
       "</tr>\n",
       "<tr>\n",
       "  <th>Model:</th>                   <td>OLS</td>       <th>  Adj. R-squared:    </th>  <td>   0.689</td>  \n",
       "</tr>\n",
       "<tr>\n",
       "  <th>Method:</th>             <td>Least Squares</td>  <th>  F-statistic:       </th>  <td>   2790.</td>  \n",
       "</tr>\n",
       "<tr>\n",
       "  <th>Date:</th>             <td>Thu, 16 Jul 2020</td> <th>  Prob (F-statistic):</th>   <td>  0.00</td>   \n",
       "</tr>\n",
       "<tr>\n",
       "  <th>Time:</th>                 <td>14:24:42</td>     <th>  Log-Likelihood:    </th> <td>-2.9239e+05</td>\n",
       "</tr>\n",
       "<tr>\n",
       "  <th>No. Observations:</th>      <td> 21420</td>      <th>  AIC:               </th>  <td>5.848e+05</td> \n",
       "</tr>\n",
       "<tr>\n",
       "  <th>Df Residuals:</th>          <td> 21402</td>      <th>  BIC:               </th>  <td>5.850e+05</td> \n",
       "</tr>\n",
       "<tr>\n",
       "  <th>Df Model:</th>              <td>    17</td>      <th>                     </th>      <td> </td>     \n",
       "</tr>\n",
       "<tr>\n",
       "  <th>Covariance Type:</th>      <td>nonrobust</td>    <th>                     </th>      <td> </td>     \n",
       "</tr>\n",
       "</table>\n",
       "<table class=\"simpletable\">\n",
       "<tr>\n",
       "          <td></td>            <th>coef</th>     <th>std err</th>      <th>t</th>      <th>P>|t|</th>  <th>[0.025</th>    <th>0.975]</th>  \n",
       "</tr>\n",
       "<tr>\n",
       "  <th>id</th>               <td>-1.085e-06</td> <td> 4.94e-07</td> <td>   -2.196</td> <td> 0.028</td> <td>-2.05e-06</td> <td>-1.17e-07</td>\n",
       "</tr>\n",
       "<tr>\n",
       "  <th>bedrooms_norm</th>    <td> -1.23e+06</td> <td> 6.21e+04</td> <td>  -19.810</td> <td> 0.000</td> <td>-1.35e+06</td> <td>-1.11e+06</td>\n",
       "</tr>\n",
       "<tr>\n",
       "  <th>bathrooms_norm</th>   <td> 3.415e+05</td> <td> 2.52e+04</td> <td>   13.535</td> <td> 0.000</td> <td> 2.92e+05</td> <td> 3.91e+05</td>\n",
       "</tr>\n",
       "<tr>\n",
       "  <th>sqft_living</th>      <td>  175.1375</td> <td>    3.473</td> <td>   50.424</td> <td> 0.000</td> <td>  168.329</td> <td>  181.945</td>\n",
       "</tr>\n",
       "<tr>\n",
       "  <th>sqft_lot_norm</th>    <td> 2.625e+05</td> <td> 8.08e+04</td> <td>    3.250</td> <td> 0.001</td> <td> 1.04e+05</td> <td> 4.21e+05</td>\n",
       "</tr>\n",
       "<tr>\n",
       "  <th>floors_norm</th>      <td>  1.29e+04</td> <td> 8800.630</td> <td>    1.466</td> <td> 0.143</td> <td>-4348.055</td> <td> 3.02e+04</td>\n",
       "</tr>\n",
       "<tr>\n",
       "  <th>waterfront</th>       <td> 7.733e+05</td> <td> 1.73e+04</td> <td>   44.716</td> <td> 0.000</td> <td> 7.39e+05</td> <td> 8.07e+05</td>\n",
       "</tr>\n",
       "<tr>\n",
       "  <th>condition</th>        <td> 3.208e+04</td> <td> 2387.156</td> <td>   13.437</td> <td> 0.000</td> <td> 2.74e+04</td> <td> 3.68e+04</td>\n",
       "</tr>\n",
       "<tr>\n",
       "  <th>grade</th>            <td> 1.033e+05</td> <td> 2187.978</td> <td>   47.217</td> <td> 0.000</td> <td>  9.9e+04</td> <td> 1.08e+05</td>\n",
       "</tr>\n",
       "<tr>\n",
       "  <th>has_basement</th>     <td>-1.422e+04</td> <td> 3419.979</td> <td>   -4.158</td> <td> 0.000</td> <td>-2.09e+04</td> <td>-7518.111</td>\n",
       "</tr>\n",
       "<tr>\n",
       "  <th>yr_built_norm</th>    <td>-3.045e+05</td> <td> 8363.170</td> <td>  -36.405</td> <td> 0.000</td> <td>-3.21e+05</td> <td>-2.88e+05</td>\n",
       "</tr>\n",
       "<tr>\n",
       "  <th>renovated</th>        <td> 5.459e+04</td> <td> 8117.486</td> <td>    6.725</td> <td> 0.000</td> <td> 3.87e+04</td> <td> 7.05e+04</td>\n",
       "</tr>\n",
       "<tr>\n",
       "  <th>zipcode</th>          <td>   -8.1545</td> <td>    0.161</td> <td>  -50.707</td> <td> 0.000</td> <td>   -8.470</td> <td>   -7.839</td>\n",
       "</tr>\n",
       "<tr>\n",
       "  <th>lat_norm</th>         <td> 3.377e+05</td> <td> 6653.173</td> <td>   50.754</td> <td> 0.000</td> <td> 3.25e+05</td> <td> 3.51e+05</td>\n",
       "</tr>\n",
       "<tr>\n",
       "  <th>long_norm</th>        <td>-1.772e+05</td> <td> 1.47e+04</td> <td>  -12.060</td> <td> 0.000</td> <td>-2.06e+05</td> <td>-1.48e+05</td>\n",
       "</tr>\n",
       "<tr>\n",
       "  <th>sqft_living15</th>    <td>   39.1865</td> <td>    3.458</td> <td>   11.332</td> <td> 0.000</td> <td>   32.409</td> <td>   45.964</td>\n",
       "</tr>\n",
       "<tr>\n",
       "  <th>sqft_lot15_norm</th>  <td>-3.449e+05</td> <td> 6.53e+04</td> <td>   -5.280</td> <td> 0.000</td> <td>-4.73e+05</td> <td>-2.17e+05</td>\n",
       "</tr>\n",
       "<tr>\n",
       "  <th>day_of_year_norm</th> <td>-3.753e+04</td> <td> 5389.617</td> <td>   -6.964</td> <td> 0.000</td> <td>-4.81e+04</td> <td> -2.7e+04</td>\n",
       "</tr>\n",
       "</table>\n",
       "<table class=\"simpletable\">\n",
       "<tr>\n",
       "  <th>Omnibus:</th>       <td>18152.084</td> <th>  Durbin-Watson:     </th>  <td>   1.994</td>  \n",
       "</tr>\n",
       "<tr>\n",
       "  <th>Prob(Omnibus):</th>  <td> 0.000</td>   <th>  Jarque-Bera (JB):  </th> <td>1722386.494</td>\n",
       "</tr>\n",
       "<tr>\n",
       "  <th>Skew:</th>           <td> 3.568</td>   <th>  Prob(JB):          </th>  <td>    0.00</td>  \n",
       "</tr>\n",
       "<tr>\n",
       "  <th>Kurtosis:</th>       <td>46.347</td>   <th>  Cond. No.          </th>  <td>3.69e+11</td>  \n",
       "</tr>\n",
       "</table><br/><br/>Warnings:<br/>[1] Standard Errors assume that the covariance matrix of the errors is correctly specified.<br/>[2] The condition number is large, 3.69e+11. This might indicate that there are<br/>strong multicollinearity or other numerical problems."
      ],
      "text/plain": [
       "<class 'statsmodels.iolib.summary.Summary'>\n",
       "\"\"\"\n",
       "                            OLS Regression Results                            \n",
       "==============================================================================\n",
       "Dep. Variable:                  price   R-squared:                       0.689\n",
       "Model:                            OLS   Adj. R-squared:                  0.689\n",
       "Method:                 Least Squares   F-statistic:                     2790.\n",
       "Date:                Thu, 16 Jul 2020   Prob (F-statistic):               0.00\n",
       "Time:                        14:24:42   Log-Likelihood:            -2.9239e+05\n",
       "No. Observations:               21420   AIC:                         5.848e+05\n",
       "Df Residuals:                   21402   BIC:                         5.850e+05\n",
       "Df Model:                          17                                         \n",
       "Covariance Type:            nonrobust                                         \n",
       "====================================================================================\n",
       "                       coef    std err          t      P>|t|      [0.025      0.975]\n",
       "------------------------------------------------------------------------------------\n",
       "id               -1.085e-06   4.94e-07     -2.196      0.028   -2.05e-06   -1.17e-07\n",
       "bedrooms_norm     -1.23e+06   6.21e+04    -19.810      0.000   -1.35e+06   -1.11e+06\n",
       "bathrooms_norm    3.415e+05   2.52e+04     13.535      0.000    2.92e+05    3.91e+05\n",
       "sqft_living        175.1375      3.473     50.424      0.000     168.329     181.945\n",
       "sqft_lot_norm     2.625e+05   8.08e+04      3.250      0.001    1.04e+05    4.21e+05\n",
       "floors_norm        1.29e+04   8800.630      1.466      0.143   -4348.055    3.02e+04\n",
       "waterfront        7.733e+05   1.73e+04     44.716      0.000    7.39e+05    8.07e+05\n",
       "condition         3.208e+04   2387.156     13.437      0.000    2.74e+04    3.68e+04\n",
       "grade             1.033e+05   2187.978     47.217      0.000     9.9e+04    1.08e+05\n",
       "has_basement     -1.422e+04   3419.979     -4.158      0.000   -2.09e+04   -7518.111\n",
       "yr_built_norm    -3.045e+05   8363.170    -36.405      0.000   -3.21e+05   -2.88e+05\n",
       "renovated         5.459e+04   8117.486      6.725      0.000    3.87e+04    7.05e+04\n",
       "zipcode             -8.1545      0.161    -50.707      0.000      -8.470      -7.839\n",
       "lat_norm          3.377e+05   6653.173     50.754      0.000    3.25e+05    3.51e+05\n",
       "long_norm        -1.772e+05   1.47e+04    -12.060      0.000   -2.06e+05   -1.48e+05\n",
       "sqft_living15       39.1865      3.458     11.332      0.000      32.409      45.964\n",
       "sqft_lot15_norm  -3.449e+05   6.53e+04     -5.280      0.000   -4.73e+05   -2.17e+05\n",
       "day_of_year_norm -3.753e+04   5389.617     -6.964      0.000   -4.81e+04    -2.7e+04\n",
       "==============================================================================\n",
       "Omnibus:                    18152.084   Durbin-Watson:                   1.994\n",
       "Prob(Omnibus):                  0.000   Jarque-Bera (JB):          1722386.494\n",
       "Skew:                           3.568   Prob(JB):                         0.00\n",
       "Kurtosis:                      46.347   Cond. No.                     3.69e+11\n",
       "==============================================================================\n",
       "\n",
       "Warnings:\n",
       "[1] Standard Errors assume that the covariance matrix of the errors is correctly specified.\n",
       "[2] The condition number is large, 3.69e+11. This might indicate that there are\n",
       "strong multicollinearity or other numerical problems.\n",
       "\"\"\""
      ]
     },
     "execution_count": 51,
     "metadata": {},
     "output_type": "execute_result"
    }
   ],
   "source": [
    "price = df2.price\n",
    "indep = df2.drop('price', axis = 1)\n",
    "\n",
    "model2 = sm.OLS(price, indep).fit()\n",
    "model2.summary()"
   ]
  },
  {
   "cell_type": "markdown",
   "metadata": {},
   "source": [
    "In an unenjoyable turn of events, these mean normalizations actually reduced the R-squared value from **0.692** to **0.689.** This isn't a huge loss, and I suspect it may have to do with outliers in the data imprinting on our mean-normalization formula. Let's try and remove the outliers in a few columns, re-normalize the data, and run the model again."
   ]
  },
  {
   "cell_type": "markdown",
   "metadata": {},
   "source": [
    "## Removing Outliers"
   ]
  },
  {
   "cell_type": "markdown",
   "metadata": {},
   "source": [
    "First, we'll make a copy of the dataframe, then iterate through certain columns to remove their outliers. These columns, as illustrated in the histograms two sections prior, will be `price`, `bedrooms`, `sqft_lot`, `sqft_living`, `sqft_basement`, and `sqft_lot15`."
   ]
  },
  {
   "cell_type": "code",
   "execution_count": 52,
   "metadata": {},
   "outputs": [],
   "source": [
    "df3 = df.copy()"
   ]
  },
  {
   "cell_type": "code",
   "execution_count": 55,
   "metadata": {},
   "outputs": [],
   "source": [
    "out_to_drop = ['price', 'bedrooms', 'sqft_lot', 'sqft_living', 'sqft_basement', 'sqft_lot15']"
   ]
  },
  {
   "cell_type": "code",
   "execution_count": 59,
   "metadata": {},
   "outputs": [],
   "source": [
    "for i in out_to_drop:\n",
    "    df3 = df3[np.abs(df[i] - df[i].mean()) <= (3*df[i].std())]"
   ]
  },
  {
   "cell_type": "code",
   "execution_count": 66,
   "metadata": {},
   "outputs": [
    {
     "name": "stdout",
     "output_type": "stream",
     "text": [
      "We just dropped 1143 rows!\n",
      "That's 5.336134453781512 % of the original data.\n"
     ]
    }
   ],
   "source": [
    "print(\"We just dropped\", len(df) - len(df3), \"rows!\\nThat's\",\n",
    "      (len(df)-len(df3))/len(df)*100, \"% of the original data.\")"
   ]
  },
  {
   "cell_type": "markdown",
   "metadata": {},
   "source": [
    "Now that those are dropped, we can do the same as in the section above:"
   ]
  },
  {
   "cell_type": "code",
   "execution_count": 67,
   "metadata": {},
   "outputs": [],
   "source": [
    "# Switch basement to binary column\n",
    "df3.loc[(df3.sqft_basement > 0), 'sqft_basement'] = 1\n",
    "df3.rename({'sqft_basement' : 'has_basement'}, axis=1, inplace=True)\n",
    "\n",
    "# Normalize chosen columns\n",
    "for col in df3[cont_to_norm].columns:\n",
    "    df3[col] = (df3[col] - np.mean(df3[col])) / (max(df3[col]) - min(df3[col]))\n",
    "    df3.rename({f'{col}' : f'{col}_norm'}, axis=1, inplace=True)"
   ]
  },
  {
   "cell_type": "markdown",
   "metadata": {},
   "source": [
    "## Model 2B"
   ]
  },
  {
   "cell_type": "code",
   "execution_count": 68,
   "metadata": {},
   "outputs": [
    {
     "data": {
      "text/html": [
       "<table class=\"simpletable\">\n",
       "<caption>OLS Regression Results</caption>\n",
       "<tr>\n",
       "  <th>Dep. Variable:</th>          <td>price</td>      <th>  R-squared:         </th>  <td>   0.693</td>  \n",
       "</tr>\n",
       "<tr>\n",
       "  <th>Model:</th>                   <td>OLS</td>       <th>  Adj. R-squared:    </th>  <td>   0.693</td>  \n",
       "</tr>\n",
       "<tr>\n",
       "  <th>Method:</th>             <td>Least Squares</td>  <th>  F-statistic:       </th>  <td>   2695.</td>  \n",
       "</tr>\n",
       "<tr>\n",
       "  <th>Date:</th>             <td>Thu, 16 Jul 2020</td> <th>  Prob (F-statistic):</th>   <td>  0.00</td>   \n",
       "</tr>\n",
       "<tr>\n",
       "  <th>Time:</th>                 <td>15:12:27</td>     <th>  Log-Likelihood:    </th> <td>-2.6898e+05</td>\n",
       "</tr>\n",
       "<tr>\n",
       "  <th>No. Observations:</th>      <td> 20277</td>      <th>  AIC:               </th>  <td>5.380e+05</td> \n",
       "</tr>\n",
       "<tr>\n",
       "  <th>Df Residuals:</th>          <td> 20259</td>      <th>  BIC:               </th>  <td>5.381e+05</td> \n",
       "</tr>\n",
       "<tr>\n",
       "  <th>Df Model:</th>              <td>    17</td>      <th>                     </th>      <td> </td>     \n",
       "</tr>\n",
       "<tr>\n",
       "  <th>Covariance Type:</th>      <td>nonrobust</td>    <th>                     </th>      <td> </td>     \n",
       "</tr>\n",
       "</table>\n",
       "<table class=\"simpletable\">\n",
       "<tr>\n",
       "          <td></td>            <th>coef</th>     <th>std err</th>      <th>t</th>      <th>P>|t|</th>  <th>[0.025</th>    <th>0.975]</th>  \n",
       "</tr>\n",
       "<tr>\n",
       "  <th>id</th>               <td>-7.765e-07</td> <td> 3.45e-07</td> <td>   -2.248</td> <td> 0.025</td> <td>-1.45e-06</td> <td>-9.94e-08</td>\n",
       "</tr>\n",
       "<tr>\n",
       "  <th>bedrooms_norm</th>    <td>-8.719e+04</td> <td> 7464.048</td> <td>  -11.682</td> <td> 0.000</td> <td>-1.02e+05</td> <td>-7.26e+04</td>\n",
       "</tr>\n",
       "<tr>\n",
       "  <th>bathrooms_norm</th>   <td> 1.386e+05</td> <td> 1.16e+04</td> <td>   11.996</td> <td> 0.000</td> <td> 1.16e+05</td> <td> 1.61e+05</td>\n",
       "</tr>\n",
       "<tr>\n",
       "  <th>sqft_living</th>      <td>   94.1796</td> <td>    2.800</td> <td>   33.632</td> <td> 0.000</td> <td>   88.691</td> <td>   99.668</td>\n",
       "</tr>\n",
       "<tr>\n",
       "  <th>sqft_lot_norm</th>    <td> 5.108e+04</td> <td> 1.95e+04</td> <td>    2.616</td> <td> 0.009</td> <td> 1.28e+04</td> <td> 8.93e+04</td>\n",
       "</tr>\n",
       "<tr>\n",
       "  <th>floors_norm</th>      <td>  7.42e+04</td> <td> 6352.366</td> <td>   11.681</td> <td> 0.000</td> <td> 6.18e+04</td> <td> 8.67e+04</td>\n",
       "</tr>\n",
       "<tr>\n",
       "  <th>waterfront</th>       <td> 3.548e+05</td> <td> 1.64e+04</td> <td>   21.689</td> <td> 0.000</td> <td> 3.23e+05</td> <td> 3.87e+05</td>\n",
       "</tr>\n",
       "<tr>\n",
       "  <th>condition</th>        <td> 3.176e+04</td> <td> 1673.628</td> <td>   18.977</td> <td> 0.000</td> <td> 2.85e+04</td> <td>  3.5e+04</td>\n",
       "</tr>\n",
       "<tr>\n",
       "  <th>grade</th>            <td> 9.186e+04</td> <td> 1568.233</td> <td>   58.578</td> <td> 0.000</td> <td> 8.88e+04</td> <td> 9.49e+04</td>\n",
       "</tr>\n",
       "<tr>\n",
       "  <th>has_basement</th>     <td> 1.243e+04</td> <td> 2421.438</td> <td>    5.134</td> <td> 0.000</td> <td> 7684.450</td> <td> 1.72e+04</td>\n",
       "</tr>\n",
       "<tr>\n",
       "  <th>yr_built_norm</th>    <td>-2.553e+05</td> <td> 5910.885</td> <td>  -43.184</td> <td> 0.000</td> <td>-2.67e+05</td> <td>-2.44e+05</td>\n",
       "</tr>\n",
       "<tr>\n",
       "  <th>renovated</th>        <td> 4.458e+04</td> <td> 5844.803</td> <td>    7.627</td> <td> 0.000</td> <td> 3.31e+04</td> <td>  5.6e+04</td>\n",
       "</tr>\n",
       "<tr>\n",
       "  <th>zipcode</th>          <td>   -6.2719</td> <td>    0.116</td> <td>  -54.186</td> <td> 0.000</td> <td>   -6.499</td> <td>   -6.045</td>\n",
       "</tr>\n",
       "<tr>\n",
       "  <th>lat_norm</th>         <td> 3.305e+05</td> <td> 4646.060</td> <td>   71.143</td> <td> 0.000</td> <td> 3.21e+05</td> <td>  3.4e+05</td>\n",
       "</tr>\n",
       "<tr>\n",
       "  <th>long_norm</th>        <td>-5.382e+04</td> <td> 1.05e+04</td> <td>   -5.124</td> <td> 0.000</td> <td>-7.44e+04</td> <td>-3.32e+04</td>\n",
       "</tr>\n",
       "<tr>\n",
       "  <th>sqft_living15</th>    <td>   61.2000</td> <td>    2.610</td> <td>   23.446</td> <td> 0.000</td> <td>   56.084</td> <td>   66.316</td>\n",
       "</tr>\n",
       "<tr>\n",
       "  <th>sqft_lot15_norm</th>  <td>-1.356e+05</td> <td> 1.73e+04</td> <td>   -7.843</td> <td> 0.000</td> <td>-1.69e+05</td> <td>-1.02e+05</td>\n",
       "</tr>\n",
       "<tr>\n",
       "  <th>day_of_year_norm</th> <td>-3.245e+04</td> <td> 3769.446</td> <td>   -8.610</td> <td> 0.000</td> <td>-3.98e+04</td> <td>-2.51e+04</td>\n",
       "</tr>\n",
       "</table>\n",
       "<table class=\"simpletable\">\n",
       "<tr>\n",
       "  <th>Omnibus:</th>       <td>5131.647</td> <th>  Durbin-Watson:     </th> <td>   1.979</td> \n",
       "</tr>\n",
       "<tr>\n",
       "  <th>Prob(Omnibus):</th>  <td> 0.000</td>  <th>  Jarque-Bera (JB):  </th> <td>20351.025</td>\n",
       "</tr>\n",
       "<tr>\n",
       "  <th>Skew:</th>           <td> 1.211</td>  <th>  Prob(JB):          </th> <td>    0.00</td> \n",
       "</tr>\n",
       "<tr>\n",
       "  <th>Kurtosis:</th>       <td> 7.268</td>  <th>  Cond. No.          </th> <td>1.37e+11</td> \n",
       "</tr>\n",
       "</table><br/><br/>Warnings:<br/>[1] Standard Errors assume that the covariance matrix of the errors is correctly specified.<br/>[2] The condition number is large, 1.37e+11. This might indicate that there are<br/>strong multicollinearity or other numerical problems."
      ],
      "text/plain": [
       "<class 'statsmodels.iolib.summary.Summary'>\n",
       "\"\"\"\n",
       "                            OLS Regression Results                            \n",
       "==============================================================================\n",
       "Dep. Variable:                  price   R-squared:                       0.693\n",
       "Model:                            OLS   Adj. R-squared:                  0.693\n",
       "Method:                 Least Squares   F-statistic:                     2695.\n",
       "Date:                Thu, 16 Jul 2020   Prob (F-statistic):               0.00\n",
       "Time:                        15:12:27   Log-Likelihood:            -2.6898e+05\n",
       "No. Observations:               20277   AIC:                         5.380e+05\n",
       "Df Residuals:                   20259   BIC:                         5.381e+05\n",
       "Df Model:                          17                                         \n",
       "Covariance Type:            nonrobust                                         \n",
       "====================================================================================\n",
       "                       coef    std err          t      P>|t|      [0.025      0.975]\n",
       "------------------------------------------------------------------------------------\n",
       "id               -7.765e-07   3.45e-07     -2.248      0.025   -1.45e-06   -9.94e-08\n",
       "bedrooms_norm    -8.719e+04   7464.048    -11.682      0.000   -1.02e+05   -7.26e+04\n",
       "bathrooms_norm    1.386e+05   1.16e+04     11.996      0.000    1.16e+05    1.61e+05\n",
       "sqft_living         94.1796      2.800     33.632      0.000      88.691      99.668\n",
       "sqft_lot_norm     5.108e+04   1.95e+04      2.616      0.009    1.28e+04    8.93e+04\n",
       "floors_norm        7.42e+04   6352.366     11.681      0.000    6.18e+04    8.67e+04\n",
       "waterfront        3.548e+05   1.64e+04     21.689      0.000    3.23e+05    3.87e+05\n",
       "condition         3.176e+04   1673.628     18.977      0.000    2.85e+04     3.5e+04\n",
       "grade             9.186e+04   1568.233     58.578      0.000    8.88e+04    9.49e+04\n",
       "has_basement      1.243e+04   2421.438      5.134      0.000    7684.450    1.72e+04\n",
       "yr_built_norm    -2.553e+05   5910.885    -43.184      0.000   -2.67e+05   -2.44e+05\n",
       "renovated         4.458e+04   5844.803      7.627      0.000    3.31e+04     5.6e+04\n",
       "zipcode             -6.2719      0.116    -54.186      0.000      -6.499      -6.045\n",
       "lat_norm          3.305e+05   4646.060     71.143      0.000    3.21e+05     3.4e+05\n",
       "long_norm        -5.382e+04   1.05e+04     -5.124      0.000   -7.44e+04   -3.32e+04\n",
       "sqft_living15       61.2000      2.610     23.446      0.000      56.084      66.316\n",
       "sqft_lot15_norm  -1.356e+05   1.73e+04     -7.843      0.000   -1.69e+05   -1.02e+05\n",
       "day_of_year_norm -3.245e+04   3769.446     -8.610      0.000   -3.98e+04   -2.51e+04\n",
       "==============================================================================\n",
       "Omnibus:                     5131.647   Durbin-Watson:                   1.979\n",
       "Prob(Omnibus):                  0.000   Jarque-Bera (JB):            20351.025\n",
       "Skew:                           1.211   Prob(JB):                         0.00\n",
       "Kurtosis:                       7.268   Cond. No.                     1.37e+11\n",
       "==============================================================================\n",
       "\n",
       "Warnings:\n",
       "[1] Standard Errors assume that the covariance matrix of the errors is correctly specified.\n",
       "[2] The condition number is large, 1.37e+11. This might indicate that there are\n",
       "strong multicollinearity or other numerical problems.\n",
       "\"\"\""
      ]
     },
     "execution_count": 68,
     "metadata": {},
     "output_type": "execute_result"
    }
   ],
   "source": [
    "price = df3.price\n",
    "indep = df3.drop('price', axis = 1)\n",
    "\n",
    "model3 = sm.OLS(price, indep).fit()\n",
    "model3.summary()"
   ]
  },
  {
   "cell_type": "markdown",
   "metadata": {},
   "source": [
    "Here we can see that this model is actually *quite close* to the baseline model. R-squared is **0.693,** just **0.001** above the baseline. However, the p-values on everything but `sqft_lot_norm` are 0. This is a promising change. The next model will be based on this one."
   ]
  },
  {
   "cell_type": "markdown",
   "metadata": {},
   "source": [
    "# Model 3: Categorical Variables As Dummies"
   ]
  },
  {
   "cell_type": "markdown",
   "metadata": {},
   "source": [
    "This model is based on **Model 2B** and investigates the impact of creating dummy variables for the categorical columns."
   ]
  },
  {
   "cell_type": "code",
   "execution_count": 70,
   "metadata": {},
   "outputs": [],
   "source": [
    "df4 = df3.copy()"
   ]
  },
  {
   "cell_type": "markdown",
   "metadata": {},
   "source": [
    "## Categorical Variables"
   ]
  },
  {
   "cell_type": "code",
   "execution_count": 73,
   "metadata": {},
   "outputs": [
    {
     "data": {
      "text/plain": [
       "Index(['id', 'price', 'bedrooms_norm', 'bathrooms_norm', 'sqft_living',\n",
       "       'sqft_lot_norm', 'floors_norm', 'waterfront', 'condition', 'grade',\n",
       "       'has_basement', 'yr_built_norm', 'renovated', 'zipcode', 'lat_norm',\n",
       "       'long_norm', 'sqft_living15', 'sqft_lot15_norm', 'day_of_year_norm'],\n",
       "      dtype='object')"
      ]
     },
     "execution_count": 73,
     "metadata": {},
     "output_type": "execute_result"
    }
   ],
   "source": [
    "df4.columns"
   ]
  },
  {
   "cell_type": "markdown",
   "metadata": {},
   "source": [
    "The columns `condition`, and `grade` are fine as-is, and just need dummies. The columns `waterfront`, `has_basement`, and `renovated` have already been handled and made binary. The column `zipcode` will be grouped based on [this map](https://aqua.kingcounty.gov/gis/web/VMC/boundaries/zipcodes/zipcodes.pdf) of King County, from the local government's website."
   ]
  },
  {
   "cell_type": "code",
   "execution_count": 74,
   "metadata": {},
   "outputs": [],
   "source": [
    "cat = ['condition', 'grade', 'waterfront', 'has_basement', 'renovated', 'zipcode']"
   ]
  },
  {
   "cell_type": "code",
   "execution_count": null,
   "metadata": {},
   "outputs": [],
   "source": [
    "# Group zipcodes\n",
    "\n",
    "zip_dict = {}\n",
    "\n",
    "for group, zipcode in zip_dict.items():\n",
    "    df2.zipcode[i] = df2.zipcode[i].replace(zipcode, group)"
   ]
  },
  {
   "cell_type": "code",
   "execution_count": 16,
   "metadata": {},
   "outputs": [],
   "source": [
    "# GROUP ZIPCODES\n",
    "# MAKE CAT VAR LIST\n",
    "# DOUBLE CHECK THAT THE FIRST GROUP OF CAT VAR ACTUALLY ARE OKAY AS-IS"
   ]
  },
  {
   "cell_type": "code",
   "execution_count": 17,
   "metadata": {},
   "outputs": [],
   "source": [
    "# MAKE DUMMIES AND SHIT AND THEN DO ANOTHER MODEL"
   ]
  },
  {
   "cell_type": "markdown",
   "metadata": {},
   "source": [
    "# Scratch Paper"
   ]
  },
  {
   "cell_type": "code",
   "execution_count": 18,
   "metadata": {},
   "outputs": [
    {
     "name": "stdout",
     "output_type": "stream",
     "text": [
      "123 N anywhere street\n"
     ]
    }
   ],
   "source": [
    "zip_dict = {}\n",
    "for group, zipcode in zip_dict.items():\n",
    "    df2.zipcode[i] = df2.zipcode[i].replace(zipcode, group)\n",
    "    \n",
    "#     BASED ON\n",
    "\n",
    "address = \"123 north anywhere street\"\n",
    "\n",
    "for word, initial in {\"NORTH\":\"N\", \"SOUTH\":\"S\" }.items():\n",
    "    address = address.replace(word.lower(), initial)\n",
    "print(address)"
   ]
  },
  {
   "cell_type": "code",
   "execution_count": 19,
   "metadata": {},
   "outputs": [
    {
     "data": {
      "text/html": [
       "<div>\n",
       "<style scoped>\n",
       "    .dataframe tbody tr th:only-of-type {\n",
       "        vertical-align: middle;\n",
       "    }\n",
       "\n",
       "    .dataframe tbody tr th {\n",
       "        vertical-align: top;\n",
       "    }\n",
       "\n",
       "    .dataframe thead th {\n",
       "        text-align: right;\n",
       "    }\n",
       "</style>\n",
       "<table border=\"1\" class=\"dataframe\">\n",
       "  <thead>\n",
       "    <tr style=\"text-align: right;\">\n",
       "      <th></th>\n",
       "      <th>id</th>\n",
       "      <th>price</th>\n",
       "      <th>bedrooms</th>\n",
       "      <th>bathrooms</th>\n",
       "      <th>sqft_living</th>\n",
       "      <th>sqft_lot</th>\n",
       "      <th>floors</th>\n",
       "      <th>waterfront</th>\n",
       "      <th>condition</th>\n",
       "      <th>grade</th>\n",
       "      <th>sqft_basement</th>\n",
       "      <th>yr_built</th>\n",
       "      <th>renovated</th>\n",
       "      <th>zipcode</th>\n",
       "      <th>lat</th>\n",
       "      <th>long</th>\n",
       "      <th>sqft_living15</th>\n",
       "      <th>sqft_lot15</th>\n",
       "      <th>day_of_year</th>\n",
       "    </tr>\n",
       "  </thead>\n",
       "  <tbody>\n",
       "    <tr>\n",
       "      <td>0</td>\n",
       "      <td>7129300520</td>\n",
       "      <td>221900.0</td>\n",
       "      <td>3</td>\n",
       "      <td>1.00</td>\n",
       "      <td>1180</td>\n",
       "      <td>5650</td>\n",
       "      <td>1.0</td>\n",
       "      <td>0.0</td>\n",
       "      <td>3</td>\n",
       "      <td>7</td>\n",
       "      <td>0.0</td>\n",
       "      <td>1955</td>\n",
       "      <td>0.0</td>\n",
       "      <td>98178</td>\n",
       "      <td>47.5112</td>\n",
       "      <td>-122.257</td>\n",
       "      <td>1340</td>\n",
       "      <td>5650</td>\n",
       "      <td>286</td>\n",
       "    </tr>\n",
       "    <tr>\n",
       "      <td>1</td>\n",
       "      <td>6414100192</td>\n",
       "      <td>538000.0</td>\n",
       "      <td>3</td>\n",
       "      <td>2.25</td>\n",
       "      <td>2570</td>\n",
       "      <td>7242</td>\n",
       "      <td>2.0</td>\n",
       "      <td>0.0</td>\n",
       "      <td>3</td>\n",
       "      <td>7</td>\n",
       "      <td>400.0</td>\n",
       "      <td>1951</td>\n",
       "      <td>1.0</td>\n",
       "      <td>98125</td>\n",
       "      <td>47.7210</td>\n",
       "      <td>-122.319</td>\n",
       "      <td>1690</td>\n",
       "      <td>7639</td>\n",
       "      <td>343</td>\n",
       "    </tr>\n",
       "    <tr>\n",
       "      <td>2</td>\n",
       "      <td>5631500400</td>\n",
       "      <td>180000.0</td>\n",
       "      <td>2</td>\n",
       "      <td>1.00</td>\n",
       "      <td>770</td>\n",
       "      <td>10000</td>\n",
       "      <td>1.0</td>\n",
       "      <td>0.0</td>\n",
       "      <td>3</td>\n",
       "      <td>6</td>\n",
       "      <td>0.0</td>\n",
       "      <td>1933</td>\n",
       "      <td>0.0</td>\n",
       "      <td>98028</td>\n",
       "      <td>47.7379</td>\n",
       "      <td>-122.233</td>\n",
       "      <td>2720</td>\n",
       "      <td>8062</td>\n",
       "      <td>56</td>\n",
       "    </tr>\n",
       "    <tr>\n",
       "      <td>3</td>\n",
       "      <td>2487200875</td>\n",
       "      <td>604000.0</td>\n",
       "      <td>4</td>\n",
       "      <td>3.00</td>\n",
       "      <td>1960</td>\n",
       "      <td>5000</td>\n",
       "      <td>1.0</td>\n",
       "      <td>0.0</td>\n",
       "      <td>5</td>\n",
       "      <td>7</td>\n",
       "      <td>910.0</td>\n",
       "      <td>1965</td>\n",
       "      <td>0.0</td>\n",
       "      <td>98136</td>\n",
       "      <td>47.5208</td>\n",
       "      <td>-122.393</td>\n",
       "      <td>1360</td>\n",
       "      <td>5000</td>\n",
       "      <td>343</td>\n",
       "    </tr>\n",
       "    <tr>\n",
       "      <td>4</td>\n",
       "      <td>1954400510</td>\n",
       "      <td>510000.0</td>\n",
       "      <td>3</td>\n",
       "      <td>2.00</td>\n",
       "      <td>1680</td>\n",
       "      <td>8080</td>\n",
       "      <td>1.0</td>\n",
       "      <td>0.0</td>\n",
       "      <td>3</td>\n",
       "      <td>8</td>\n",
       "      <td>0.0</td>\n",
       "      <td>1987</td>\n",
       "      <td>0.0</td>\n",
       "      <td>98074</td>\n",
       "      <td>47.6168</td>\n",
       "      <td>-122.045</td>\n",
       "      <td>1800</td>\n",
       "      <td>7503</td>\n",
       "      <td>49</td>\n",
       "    </tr>\n",
       "    <tr>\n",
       "      <td>...</td>\n",
       "      <td>...</td>\n",
       "      <td>...</td>\n",
       "      <td>...</td>\n",
       "      <td>...</td>\n",
       "      <td>...</td>\n",
       "      <td>...</td>\n",
       "      <td>...</td>\n",
       "      <td>...</td>\n",
       "      <td>...</td>\n",
       "      <td>...</td>\n",
       "      <td>...</td>\n",
       "      <td>...</td>\n",
       "      <td>...</td>\n",
       "      <td>...</td>\n",
       "      <td>...</td>\n",
       "      <td>...</td>\n",
       "      <td>...</td>\n",
       "      <td>...</td>\n",
       "      <td>...</td>\n",
       "    </tr>\n",
       "    <tr>\n",
       "      <td>21415</td>\n",
       "      <td>263000018</td>\n",
       "      <td>360000.0</td>\n",
       "      <td>3</td>\n",
       "      <td>2.50</td>\n",
       "      <td>1530</td>\n",
       "      <td>1131</td>\n",
       "      <td>3.0</td>\n",
       "      <td>0.0</td>\n",
       "      <td>3</td>\n",
       "      <td>8</td>\n",
       "      <td>0.0</td>\n",
       "      <td>2009</td>\n",
       "      <td>0.0</td>\n",
       "      <td>98103</td>\n",
       "      <td>47.6993</td>\n",
       "      <td>-122.346</td>\n",
       "      <td>1530</td>\n",
       "      <td>1509</td>\n",
       "      <td>141</td>\n",
       "    </tr>\n",
       "    <tr>\n",
       "      <td>21416</td>\n",
       "      <td>6600060120</td>\n",
       "      <td>400000.0</td>\n",
       "      <td>4</td>\n",
       "      <td>2.50</td>\n",
       "      <td>2310</td>\n",
       "      <td>5813</td>\n",
       "      <td>2.0</td>\n",
       "      <td>0.0</td>\n",
       "      <td>3</td>\n",
       "      <td>8</td>\n",
       "      <td>0.0</td>\n",
       "      <td>2014</td>\n",
       "      <td>0.0</td>\n",
       "      <td>98146</td>\n",
       "      <td>47.5107</td>\n",
       "      <td>-122.362</td>\n",
       "      <td>1830</td>\n",
       "      <td>7200</td>\n",
       "      <td>54</td>\n",
       "    </tr>\n",
       "    <tr>\n",
       "      <td>21417</td>\n",
       "      <td>1523300141</td>\n",
       "      <td>402101.0</td>\n",
       "      <td>2</td>\n",
       "      <td>0.75</td>\n",
       "      <td>1020</td>\n",
       "      <td>1350</td>\n",
       "      <td>2.0</td>\n",
       "      <td>0.0</td>\n",
       "      <td>3</td>\n",
       "      <td>7</td>\n",
       "      <td>0.0</td>\n",
       "      <td>2009</td>\n",
       "      <td>0.0</td>\n",
       "      <td>98144</td>\n",
       "      <td>47.5944</td>\n",
       "      <td>-122.299</td>\n",
       "      <td>1020</td>\n",
       "      <td>2007</td>\n",
       "      <td>174</td>\n",
       "    </tr>\n",
       "    <tr>\n",
       "      <td>21418</td>\n",
       "      <td>291310100</td>\n",
       "      <td>400000.0</td>\n",
       "      <td>3</td>\n",
       "      <td>2.50</td>\n",
       "      <td>1600</td>\n",
       "      <td>2388</td>\n",
       "      <td>2.0</td>\n",
       "      <td>0.0</td>\n",
       "      <td>3</td>\n",
       "      <td>8</td>\n",
       "      <td>0.0</td>\n",
       "      <td>2004</td>\n",
       "      <td>0.0</td>\n",
       "      <td>98027</td>\n",
       "      <td>47.5345</td>\n",
       "      <td>-122.069</td>\n",
       "      <td>1410</td>\n",
       "      <td>1287</td>\n",
       "      <td>16</td>\n",
       "    </tr>\n",
       "    <tr>\n",
       "      <td>21419</td>\n",
       "      <td>1523300157</td>\n",
       "      <td>325000.0</td>\n",
       "      <td>2</td>\n",
       "      <td>0.75</td>\n",
       "      <td>1020</td>\n",
       "      <td>1076</td>\n",
       "      <td>2.0</td>\n",
       "      <td>0.0</td>\n",
       "      <td>3</td>\n",
       "      <td>7</td>\n",
       "      <td>0.0</td>\n",
       "      <td>2008</td>\n",
       "      <td>0.0</td>\n",
       "      <td>98144</td>\n",
       "      <td>47.5941</td>\n",
       "      <td>-122.299</td>\n",
       "      <td>1020</td>\n",
       "      <td>1357</td>\n",
       "      <td>288</td>\n",
       "    </tr>\n",
       "  </tbody>\n",
       "</table>\n",
       "<p>21017 rows × 19 columns</p>\n",
       "</div>"
      ],
      "text/plain": [
       "               id     price  bedrooms  bathrooms  sqft_living  sqft_lot  \\\n",
       "0      7129300520  221900.0         3       1.00         1180      5650   \n",
       "1      6414100192  538000.0         3       2.25         2570      7242   \n",
       "2      5631500400  180000.0         2       1.00          770     10000   \n",
       "3      2487200875  604000.0         4       3.00         1960      5000   \n",
       "4      1954400510  510000.0         3       2.00         1680      8080   \n",
       "...           ...       ...       ...        ...          ...       ...   \n",
       "21415   263000018  360000.0         3       2.50         1530      1131   \n",
       "21416  6600060120  400000.0         4       2.50         2310      5813   \n",
       "21417  1523300141  402101.0         2       0.75         1020      1350   \n",
       "21418   291310100  400000.0         3       2.50         1600      2388   \n",
       "21419  1523300157  325000.0         2       0.75         1020      1076   \n",
       "\n",
       "       floors  waterfront  condition  grade  sqft_basement  yr_built  \\\n",
       "0         1.0         0.0          3      7            0.0      1955   \n",
       "1         2.0         0.0          3      7          400.0      1951   \n",
       "2         1.0         0.0          3      6            0.0      1933   \n",
       "3         1.0         0.0          5      7          910.0      1965   \n",
       "4         1.0         0.0          3      8            0.0      1987   \n",
       "...       ...         ...        ...    ...            ...       ...   \n",
       "21415     3.0         0.0          3      8            0.0      2009   \n",
       "21416     2.0         0.0          3      8            0.0      2014   \n",
       "21417     2.0         0.0          3      7            0.0      2009   \n",
       "21418     2.0         0.0          3      8            0.0      2004   \n",
       "21419     2.0         0.0          3      7            0.0      2008   \n",
       "\n",
       "       renovated  zipcode      lat     long  sqft_living15  sqft_lot15  \\\n",
       "0            0.0    98178  47.5112 -122.257           1340        5650   \n",
       "1            1.0    98125  47.7210 -122.319           1690        7639   \n",
       "2            0.0    98028  47.7379 -122.233           2720        8062   \n",
       "3            0.0    98136  47.5208 -122.393           1360        5000   \n",
       "4            0.0    98074  47.6168 -122.045           1800        7503   \n",
       "...          ...      ...      ...      ...            ...         ...   \n",
       "21415        0.0    98103  47.6993 -122.346           1530        1509   \n",
       "21416        0.0    98146  47.5107 -122.362           1830        7200   \n",
       "21417        0.0    98144  47.5944 -122.299           1020        2007   \n",
       "21418        0.0    98027  47.5345 -122.069           1410        1287   \n",
       "21419        0.0    98144  47.5941 -122.299           1020        1357   \n",
       "\n",
       "       day_of_year  \n",
       "0              286  \n",
       "1              343  \n",
       "2               56  \n",
       "3              343  \n",
       "4               49  \n",
       "...            ...  \n",
       "21415          141  \n",
       "21416           54  \n",
       "21417          174  \n",
       "21418           16  \n",
       "21419          288  \n",
       "\n",
       "[21017 rows x 19 columns]"
      ]
     },
     "execution_count": 19,
     "metadata": {},
     "output_type": "execute_result"
    }
   ],
   "source": [
    "# Code from Kat. Returns rows with price within 3 STD\n",
    "std_price_df = df[np.abs(df.price - df.price.mean()) <= (3*df.price.std())]\n",
    "std_price_df"
   ]
  },
  {
   "cell_type": "code",
   "execution_count": 20,
   "metadata": {},
   "outputs": [
    {
     "name": "stdout",
     "output_type": "stream",
     "text": [
      "1.88 % loss when removing outliers.\n"
     ]
    }
   ],
   "source": [
    "print(np.round(((len(df) - len(std_price_df)) / len(df) * 100), 2), '% loss when removing outliers.')"
   ]
  },
  {
   "cell_type": "code",
   "execution_count": null,
   "metadata": {},
   "outputs": [],
   "source": [
    "zip_dict = {}\n",
    "for group, zipcode in zip_dict.items():\n",
    "    df2.zipcode[i] = df2.zipcode[i].replace(zipcode, group)"
   ]
  },
  {
   "cell_type": "code",
   "execution_count": 76,
   "metadata": {},
   "outputs": [],
   "source": [
    "my_dict = {1 : [2, 3]}"
   ]
  },
  {
   "cell_type": "code",
   "execution_count": 79,
   "metadata": {},
   "outputs": [
    {
     "ename": "ValueError",
     "evalue": "not enough values to unpack (expected 3, got 2)",
     "output_type": "error",
     "traceback": [
      "\u001b[1;31m---------------------------------------------------------------------------\u001b[0m",
      "\u001b[1;31mValueError\u001b[0m                                Traceback (most recent call last)",
      "\u001b[1;32m<ipython-input-79-02c81e409cba>\u001b[0m in \u001b[0;36m<module>\u001b[1;34m\u001b[0m\n\u001b[0;32m      1\u001b[0m \u001b[0mtest\u001b[0m \u001b[1;33m=\u001b[0m \u001b[1;33m[\u001b[0m\u001b[1;36m1\u001b[0m\u001b[1;33m,\u001b[0m \u001b[1;36m2\u001b[0m\u001b[1;33m,\u001b[0m \u001b[1;36m3\u001b[0m\u001b[1;33m,\u001b[0m \u001b[1;36m4\u001b[0m\u001b[1;33m,\u001b[0m \u001b[1;36m1\u001b[0m\u001b[1;33m,\u001b[0m \u001b[1;36m2\u001b[0m\u001b[1;33m,\u001b[0m \u001b[1;36m3\u001b[0m\u001b[1;33m,\u001b[0m \u001b[1;36m4\u001b[0m\u001b[1;33m]\u001b[0m\u001b[1;33m\u001b[0m\u001b[1;33m\u001b[0m\u001b[0m\n\u001b[1;32m----> 2\u001b[1;33m \u001b[1;32mfor\u001b[0m \u001b[0midx\u001b[0m\u001b[1;33m,\u001b[0m \u001b[0ma\u001b[0m\u001b[1;33m,\u001b[0m \u001b[0mb\u001b[0m \u001b[1;32min\u001b[0m \u001b[0menumerate\u001b[0m\u001b[1;33m(\u001b[0m\u001b[0mmy_dict\u001b[0m\u001b[1;33m.\u001b[0m\u001b[0mitems\u001b[0m\u001b[1;33m(\u001b[0m\u001b[1;33m)\u001b[0m\u001b[1;33m)\u001b[0m\u001b[1;33m:\u001b[0m\u001b[1;33m\u001b[0m\u001b[1;33m\u001b[0m\u001b[0m\n\u001b[0m\u001b[0;32m      3\u001b[0m     \u001b[0mtest\u001b[0m\u001b[1;33m[\u001b[0m\u001b[0midx\u001b[0m\u001b[1;33m]\u001b[0m\u001b[1;33m.\u001b[0m\u001b[0mreplace\u001b[0m\u001b[1;33m(\u001b[0m\u001b[0mb\u001b[0m\u001b[1;33m,\u001b[0m \u001b[0ma\u001b[0m\u001b[1;33m)\u001b[0m\u001b[1;33m\u001b[0m\u001b[1;33m\u001b[0m\u001b[0m\n\u001b[0;32m      4\u001b[0m \u001b[0mtest\u001b[0m\u001b[1;33m\u001b[0m\u001b[1;33m\u001b[0m\u001b[0m\n",
      "\u001b[1;31mValueError\u001b[0m: not enough values to unpack (expected 3, got 2)"
     ]
    }
   ],
   "source": [
    "test = [1, 2, 3, 4, 1, 2, 3, 4]\n",
    "for idx, a, b in enumerate(my_dict.items()):\n",
    "    test[idx].replace(b, a)\n",
    "test"
   ]
  },
  {
   "cell_type": "code",
   "execution_count": 80,
   "metadata": {},
   "outputs": [
    {
     "data": {
      "text/plain": [
       "dict_items([(1, [2, 3])])"
      ]
     },
     "execution_count": 80,
     "metadata": {},
     "output_type": "execute_result"
    }
   ],
   "source": [
    "my_dict.items()"
   ]
  },
  {
   "cell_type": "code",
   "execution_count": 81,
   "metadata": {},
   "outputs": [
    {
     "data": {
      "text/plain": [
       "1"
      ]
     },
     "execution_count": 81,
     "metadata": {},
     "output_type": "execute_result"
    }
   ],
   "source": [
    "len(my_dict.items())"
   ]
  },
  {
   "cell_type": "code",
   "execution_count": 82,
   "metadata": {},
   "outputs": [],
   "source": [
    "zip_dict = {1 : [98177, 98133, 98155]}"
   ]
  },
  {
   "cell_type": "code",
   "execution_count": 83,
   "metadata": {},
   "outputs": [
    {
     "data": {
      "text/plain": [
       "<matplotlib.collections.PathCollection at 0x1f58b831780>"
      ]
     },
     "execution_count": 83,
     "metadata": {},
     "output_type": "execute_result"
    },
    {
     "data": {
      "image/png": "[encoded data removed]",
      "text/plain": [
       "<Figure size 432x288 with 1 Axes>"
      ]
     },
     "metadata": {
      "needs_background": "light"
     },
     "output_type": "display_data"
    }
   ],
   "source": [
    "plt.scatter(df4.lat_norm, df4.long_norm)"
   ]
  },
  {
   "cell_type": "code",
   "execution_count": null,
   "metadata": {},
   "outputs": [],
   "source": [
    "for i in df4.zipcode:\n",
    "    if df4.zipcode[i] == [a or b or c]:\n",
    "        df4.zipcode[i] = 1\n",
    "    .\n",
    "    .\n",
    "    ."
   ]
  },
  {
   "cell_type": "markdown",
   "metadata": {},
   "source": [
    "# Train Test Split and MRSE Example"
   ]
  },
  {
   "cell_type": "code",
   "execution_count": null,
   "metadata": {},
   "outputs": [],
   "source": [
    "y = data['price']\n",
    "X = data.drop(['price','date','id','zipcode'], axis = 1)"
   ]
  },
  {
   "cell_type": "code",
   "execution_count": null,
   "metadata": {},
   "outputs": [],
   "source": [
    "X_train, X_test, y_train, y_test = train_test_split(X, y, test_size = 0.2)"
   ]
  },
  {
   "cell_type": "code",
   "execution_count": null,
   "metadata": {},
   "outputs": [],
   "source": [
    "linreg = LinearRegression()\n",
    "linreg.fit(X_train, y_train)\n",
    "\n",
    "y_hat_train = linreg.predict(X_train)\n",
    "y_hat_test = linreg.predict(X_test)\n",
    "\n",
    "mse_train = np.sum((y_train-y_hat_train)**2)/len(y_train)\n",
    "mse_test =np.sum((y_test-y_hat_test)**2)/len(y_test)\n",
    "print('Train Mean Squarred Error:', mse_train)\n",
    "print('Test Mean Squarred Error:', mse_test)"
   ]
  },
  {
   "cell_type": "code",
   "execution_count": null,
   "metadata": {},
   "outputs": [],
   "source": [
    "rmse_test = np.sqrt(mse_test)\n",
    "print('Train Root Mean Squarred Error:', rmse_train)\n",
    "print('Test Root Mean Squarred Error:', rmse_test)"
   ]
  },
  {
   "cell_type": "code",
   "execution_count": null,
   "metadata": {},
   "outputs": [],
   "source": [
    "df_final = df_log"
   ]
  },
  {
   "cell_type": "code",
   "execution_count": null,
   "metadata": {},
   "outputs": [],
   "source": [
    "predicted = cross_val_predict(linreg, X, y, cv=10)\n",
    "\n",
    "fig, ax = plt.subplots()\n",
    "ax.scatter(y, predicted)\n",
    "ax.plot([y.min(), y.max()], [y.min(), y.max()], 'k--', lw=4)\n",
    "ax.set_xlabel('Measured')\n",
    "ax.set_ylabel('Predicted')\n",
    "plt.show()"
   ]
  },
  {
   "cell_type": "code",
   "execution_count": null,
   "metadata": {},
   "outputs": [],
   "source": [
    "ax1 = sns.distplot(y_test, hist=False, color=\"r\", label=\"Actual Value\")\n",
    "sns.distplot(y_hat_test, hist=False, color=\"b\", label=\"Fitted Values\" , ax=ax1)"
   ]
  }
 ],
 "metadata": {
  "kernelspec": {
   "display_name": "Python [conda env:learn-env] *",
   "language": "python",
   "name": "conda-env-learn-env-py"
  },
  "language_info": {
   "codemirror_mode": {
    "name": "ipython",
    "version": 3
   },
   "file_extension": ".py",
   "mimetype": "text/x-python",
   "name": "python",
   "nbconvert_exporter": "python",
   "pygments_lexer": "ipython3",
   "version": "3.6.9"
  },
  "toc": {
   "base_numbering": 1,
   "nav_menu": {},
   "number_sections": true,
   "sideBar": true,
   "skip_h1_title": false,
   "title_cell": "Table of Contents",
   "title_sidebar": "Contents",
   "toc_cell": false,
   "toc_position": {},
   "toc_section_display": true,
   "toc_window_display": false
  },
  "varInspector": {
   "cols": {
    "lenName": 16,
    "lenType": 16,
    "lenVar": 40
   },
   "kernels_config": {
    "python": {
     "delete_cmd_postfix": "",
     "delete_cmd_prefix": "del ",
     "library": "var_list.py",
     "varRefreshCmd": "print(var_dic_list())"
    },
    "r": {
     "delete_cmd_postfix": ") ",
     "delete_cmd_prefix": "rm(",
     "library": "var_list.r",
     "varRefreshCmd": "cat(var_dic_list()) "
    }
   },
   "types_to_exclude": [
    "module",
    "function",
    "builtin_function_or_method",
    "instance",
    "_Feature"
   ],
   "window_display": false
  }
 },
 "nbformat": 4,
 "nbformat_minor": 2
}
